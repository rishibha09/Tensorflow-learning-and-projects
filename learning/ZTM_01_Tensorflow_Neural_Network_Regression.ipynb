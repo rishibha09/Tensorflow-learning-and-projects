{
  "nbformat": 4,
  "nbformat_minor": 0,
  "metadata": {
    "colab": {
      "provenance": []
    },
    "kernelspec": {
      "name": "python3",
      "display_name": "Python 3"
    },
    "language_info": {
      "name": "python"
    }
  },
  "cells": [
    {
      "cell_type": "markdown",
      "source": [
        "# Introduction to Regression with NN in TF"
      ],
      "metadata": {
        "id": "KLH1IDjar7Gw"
      }
    },
    {
      "cell_type": "code",
      "source": [
        "import tensorflow as tf\n",
        "tf.__version__"
      ],
      "metadata": {
        "colab": {
          "base_uri": "https://localhost:8080/",
          "height": 35
        },
        "id": "Z-J-ezUE0Fy1",
        "outputId": "2dcb6c32-5bc6-405a-d1a6-de6a56a8dd79"
      },
      "execution_count": 54,
      "outputs": [
        {
          "output_type": "execute_result",
          "data": {
            "text/plain": [
              "'2.15.0'"
            ],
            "application/vnd.google.colaboratory.intrinsic+json": {
              "type": "string"
            }
          },
          "metadata": {},
          "execution_count": 54
        }
      ]
    },
    {
      "cell_type": "markdown",
      "source": [
        "## Creating a data to view and fit"
      ],
      "metadata": {
        "id": "jT8N-DBX0Ogi"
      }
    },
    {
      "cell_type": "code",
      "source": [
        "import numpy as np\n",
        "import matplotlib.pyplot as plt\n",
        "\n",
        "X = np.array([-7.0, -4.0, -1.0, 2, 5, 8, 11, 14])\n",
        "y = np.array([3.0, 6, 9, 12, 15, 18, 21, 24])\n",
        "X,y"
      ],
      "metadata": {
        "colab": {
          "base_uri": "https://localhost:8080/"
        },
        "id": "e7GCd4jo0Sre",
        "outputId": "4a483a2a-5d9e-4275-9d19-0c31c211b560"
      },
      "execution_count": 55,
      "outputs": [
        {
          "output_type": "execute_result",
          "data": {
            "text/plain": [
              "(array([-7., -4., -1.,  2.,  5.,  8., 11., 14.]),\n",
              " array([ 3.,  6.,  9., 12., 15., 18., 21., 24.]))"
            ]
          },
          "metadata": {},
          "execution_count": 55
        }
      ]
    },
    {
      "cell_type": "code",
      "source": [
        "plt.scatter(X,y)"
      ],
      "metadata": {
        "colab": {
          "base_uri": "https://localhost:8080/",
          "height": 453
        },
        "id": "gD2qPbB30eIG",
        "outputId": "4106b552-0832-419d-a2aa-bddc25576385"
      },
      "execution_count": 56,
      "outputs": [
        {
          "output_type": "execute_result",
          "data": {
            "text/plain": [
              "<matplotlib.collections.PathCollection at 0x78fea6aa5fc0>"
            ]
          },
          "metadata": {},
          "execution_count": 56
        },
        {
          "output_type": "display_data",
          "data": {
            "text/plain": [
              "<Figure size 640x480 with 1 Axes>"
            ],
            "image/png": "[encoded data removed]"
          },
          "metadata": {}
        }
      ]
    },
    {
      "cell_type": "code",
      "source": [
        "# This is the relation betweeen X and y. This is what we want our ML model to learn\n",
        "y == X+10"
      ],
      "metadata": {
        "colab": {
          "base_uri": "https://localhost:8080/"
        },
        "id": "2o7N26XS0tHn",
        "outputId": "e4be7b13-3398-4803-94dd-c755b2565842"
      },
      "execution_count": 57,
      "outputs": [
        {
          "output_type": "execute_result",
          "data": {
            "text/plain": [
              "array([ True,  True,  True,  True,  True,  True,  True,  True])"
            ]
          },
          "metadata": {},
          "execution_count": 57
        }
      ]
    },
    {
      "cell_type": "markdown",
      "source": [
        "## Input and output shapes"
      ],
      "metadata": {
        "id": "ixsnccVB08Tw"
      }
    },
    {
      "cell_type": "code",
      "source": [
        "X.shape, y.shape"
      ],
      "metadata": {
        "colab": {
          "base_uri": "https://localhost:8080/"
        },
        "id": "6IJZyBx81IbQ",
        "outputId": "e23470a9-8dac-4bbc-9934-79721ccc47ca"
      },
      "execution_count": 58,
      "outputs": [
        {
          "output_type": "execute_result",
          "data": {
            "text/plain": [
              "((8,), (8,))"
            ]
          },
          "metadata": {},
          "execution_count": 58
        }
      ]
    },
    {
      "cell_type": "code",
      "source": [
        "X[0].shape, y[0].shape"
      ],
      "metadata": {
        "colab": {
          "base_uri": "https://localhost:8080/"
        },
        "id": "5cRBRbPw1WEc",
        "outputId": "bed20caa-8d5f-4b2e-c963-e1da6c3e36cf"
      },
      "execution_count": 59,
      "outputs": [
        {
          "output_type": "execute_result",
          "data": {
            "text/plain": [
              "((), ())"
            ]
          },
          "metadata": {},
          "execution_count": 59
        }
      ]
    },
    {
      "cell_type": "code",
      "source": [
        "#turn it into tensors\n",
        "X = tf.cast(tf.constant(X), dtype=tf.float32)\n",
        "y = tf.cast(tf.constant(y), dtype=tf.float32)\n",
        "X,y"
      ],
      "metadata": {
        "colab": {
          "base_uri": "https://localhost:8080/"
        },
        "id": "fBjFtNQu1ZKj",
        "outputId": "6bb90c06-8333-426a-8f28-ce5e41d683f8"
      },
      "execution_count": 60,
      "outputs": [
        {
          "output_type": "execute_result",
          "data": {
            "text/plain": [
              "(<tf.Tensor: shape=(8,), dtype=float32, numpy=array([-7., -4., -1.,  2.,  5.,  8., 11., 14.], dtype=float32)>,\n",
              " <tf.Tensor: shape=(8,), dtype=float32, numpy=array([ 3.,  6.,  9., 12., 15., 18., 21., 24.], dtype=float32)>)"
            ]
          },
          "metadata": {},
          "execution_count": 60
        }
      ]
    },
    {
      "cell_type": "code",
      "source": [
        "plt.scatter(X,y)"
      ],
      "metadata": {
        "colab": {
          "base_uri": "https://localhost:8080/",
          "height": 453
        },
        "id": "8VtRlNcc8Arp",
        "outputId": "02285f0b-c892-4e96-f754-43627bd93119"
      },
      "execution_count": 61,
      "outputs": [
        {
          "output_type": "execute_result",
          "data": {
            "text/plain": [
              "<matplotlib.collections.PathCollection at 0x78fea602e3b0>"
            ]
          },
          "metadata": {},
          "execution_count": 61
        },
        {
          "output_type": "display_data",
          "data": {
            "text/plain": [
              "<Figure size 640x480 with 1 Axes>"
            ],
            "image/png": "[encoded data removed]"
          },
          "metadata": {}
        }
      ]
    },
    {
      "cell_type": "markdown",
      "source": [
        "## Steps for modelling with TF\n",
        "\n",
        "1. creating a model (define in, out and hidden layers)\n",
        "2. Compile a model (define loss function, optimzer, eval metrics)\n",
        "3. Fitting a model (patterns betwwen features and labels)"
      ],
      "metadata": {
        "id": "5IMDp4xs8ET2"
      }
    },
    {
      "cell_type": "code",
      "source": [
        "tf.random.set_seed(42)\n",
        "\n",
        "model = tf.keras.Sequential([\n",
        "    tf.keras.layers.Dense(1)\n",
        "])\n",
        "\n",
        "# model=tf.keras.Sequential()\n",
        "# model.add(tf.keras.layers.Dense(1))\n",
        "\n",
        "model.compile(loss=tf.keras.losses.mae,\n",
        "              optimizer=tf.keras.optimizers.SGD(), #equivaklent to optimizer=\"sgd\"\n",
        "              metrics=[\"mae\"])\n",
        "\n",
        "#fit model\n",
        "model.fit(tf.expand_dims(X, axis=-1),y, epochs=5)"
      ],
      "metadata": {
        "colab": {
          "base_uri": "https://localhost:8080/"
        },
        "id": "rl7TGj-g8esG",
        "outputId": "8f29983d-b898-41ab-ecc3-4d1fb82e2508"
      },
      "execution_count": 62,
      "outputs": [
        {
          "output_type": "stream",
          "name": "stdout",
          "text": [
            "Epoch 1/5\n",
            "1/1 [==============================] - 0s 401ms/step - loss: 14.5222 - mae: 14.5222\n",
            "Epoch 2/5\n",
            "1/1 [==============================] - 0s 15ms/step - loss: 14.3897 - mae: 14.3897\n",
            "Epoch 3/5\n",
            "1/1 [==============================] - 0s 15ms/step - loss: 14.2572 - mae: 14.2572\n",
            "Epoch 4/5\n",
            "1/1 [==============================] - 0s 11ms/step - loss: 14.1247 - mae: 14.1247\n",
            "Epoch 5/5\n",
            "1/1 [==============================] - 0s 11ms/step - loss: 13.9922 - mae: 13.9922\n"
          ]
        },
        {
          "output_type": "execute_result",
          "data": {
            "text/plain": [
              "<keras.src.callbacks.History at 0x78fea6bdeef0>"
            ]
          },
          "metadata": {},
          "execution_count": 62
        }
      ]
    },
    {
      "cell_type": "code",
      "source": [
        "tf.expand_dims(X, axis=-1)"
      ],
      "metadata": {
        "colab": {
          "base_uri": "https://localhost:8080/"
        },
        "id": "uvB_1m3sW9LE",
        "outputId": "c7d7d01c-ba77-4902-d0aa-ad72eb3a17e1"
      },
      "execution_count": 63,
      "outputs": [
        {
          "output_type": "execute_result",
          "data": {
            "text/plain": [
              "<tf.Tensor: shape=(8, 1), dtype=float32, numpy=\n",
              "array([[-7.],\n",
              "       [-4.],\n",
              "       [-1.],\n",
              "       [ 2.],\n",
              "       [ 5.],\n",
              "       [ 8.],\n",
              "       [11.],\n",
              "       [14.]], dtype=float32)>"
            ]
          },
          "metadata": {},
          "execution_count": 63
        }
      ]
    },
    {
      "cell_type": "code",
      "source": [
        "#try and make a prediction using model\n",
        "model.predict([17.0]) ## We EXPECT 27"
      ],
      "metadata": {
        "colab": {
          "base_uri": "https://localhost:8080/"
        },
        "id": "u03oDkxeXLbJ",
        "outputId": "5945939f-f161-4980-9500-09adec3b2f70"
      },
      "execution_count": 64,
      "outputs": [
        {
          "output_type": "stream",
          "name": "stdout",
          "text": [
            "1/1 [==============================] - 0s 83ms/step\n"
          ]
        },
        {
          "output_type": "execute_result",
          "data": {
            "text/plain": [
              "array([[-1.9397856]], dtype=float32)"
            ]
          },
          "metadata": {},
          "execution_count": 64
        }
      ]
    },
    {
      "cell_type": "markdown",
      "source": [
        "## Improving our model\n",
        "\n",
        "We can improve model by alterating any/each of the three steps above:\n",
        "1. creating: add more layers, increase num of hidden units, chnage activation function of each layer\n",
        "2. Compiling: Change opt function, lr of said optimizer\n",
        "3. Fitting: increase epochs(training for longer), or on more data"
      ],
      "metadata": {
        "id": "JwH-ShLoYIOI"
      }
    },
    {
      "cell_type": "code",
      "source": [
        "# Lets rebuild the model\n",
        "#PRACTICE TIME\n",
        "model = tf.keras.Sequential()\n",
        "model.add(tf.keras.layers.Dense(1))\n",
        "\n",
        "model.compile(loss=tf.keras.losses.mae,\n",
        "              optimizer=tf.keras.optimizers.SGD(),\n",
        "              metrics=[\"mae\"])\n",
        "\n",
        "model.fit(tf.expand_dims(X, axis=-1), y, epochs=100)\n"
      ],
      "metadata": {
        "colab": {
          "base_uri": "https://localhost:8080/"
        },
        "id": "wrzlV-BjYY1G",
        "outputId": "eb456b96-94ad-48ca-fb36-d826e6590f78"
      },
      "execution_count": 65,
      "outputs": [
        {
          "output_type": "stream",
          "name": "stdout",
          "text": [
            "Epoch 1/100\n",
            "1/1 [==============================] - 0s 400ms/step - loss: 15.4928 - mae: 15.4928\n",
            "Epoch 2/100\n",
            "1/1 [==============================] - 0s 12ms/step - loss: 15.2115 - mae: 15.2115\n",
            "Epoch 3/100\n",
            "1/1 [==============================] - 0s 16ms/step - loss: 14.9460 - mae: 14.9460\n",
            "Epoch 4/100\n",
            "1/1 [==============================] - 0s 16ms/step - loss: 14.8135 - mae: 14.8135\n",
            "Epoch 5/100\n",
            "1/1 [==============================] - 0s 17ms/step - loss: 14.6810 - mae: 14.6810\n",
            "Epoch 6/100\n",
            "1/1 [==============================] - 0s 14ms/step - loss: 14.5485 - mae: 14.5485\n",
            "Epoch 7/100\n",
            "1/1 [==============================] - 0s 11ms/step - loss: 14.4160 - mae: 14.4160\n",
            "Epoch 8/100\n",
            "1/1 [==============================] - 0s 11ms/step - loss: 14.2835 - mae: 14.2835\n",
            "Epoch 9/100\n",
            "1/1 [==============================] - 0s 12ms/step - loss: 14.1510 - mae: 14.1510\n",
            "Epoch 10/100\n",
            "1/1 [==============================] - 0s 14ms/step - loss: 14.0185 - mae: 14.0185\n",
            "Epoch 11/100\n",
            "1/1 [==============================] - 0s 12ms/step - loss: 13.8860 - mae: 13.8860\n",
            "Epoch 12/100\n",
            "1/1 [==============================] - 0s 14ms/step - loss: 13.7535 - mae: 13.7535\n",
            "Epoch 13/100\n",
            "1/1 [==============================] - 0s 14ms/step - loss: 13.6210 - mae: 13.6210\n",
            "Epoch 14/100\n",
            "1/1 [==============================] - 0s 11ms/step - loss: 13.4885 - mae: 13.4885\n",
            "Epoch 15/100\n",
            "1/1 [==============================] - 0s 13ms/step - loss: 13.3560 - mae: 13.3560\n",
            "Epoch 16/100\n",
            "1/1 [==============================] - 0s 12ms/step - loss: 13.2235 - mae: 13.2235\n",
            "Epoch 17/100\n",
            "1/1 [==============================] - 0s 13ms/step - loss: 13.0910 - mae: 13.0910\n",
            "Epoch 18/100\n",
            "1/1 [==============================] - 0s 12ms/step - loss: 12.9585 - mae: 12.9585\n",
            "Epoch 19/100\n",
            "1/1 [==============================] - 0s 11ms/step - loss: 12.8260 - mae: 12.8260\n",
            "Epoch 20/100\n",
            "1/1 [==============================] - 0s 12ms/step - loss: 12.6935 - mae: 12.6935\n",
            "Epoch 21/100\n",
            "1/1 [==============================] - 0s 11ms/step - loss: 12.5610 - mae: 12.5610\n",
            "Epoch 22/100\n",
            "1/1 [==============================] - 0s 13ms/step - loss: 12.4285 - mae: 12.4285\n",
            "Epoch 23/100\n",
            "1/1 [==============================] - 0s 11ms/step - loss: 12.2960 - mae: 12.2960\n",
            "Epoch 24/100\n",
            "1/1 [==============================] - 0s 15ms/step - loss: 12.1635 - mae: 12.1635\n",
            "Epoch 25/100\n",
            "1/1 [==============================] - 0s 14ms/step - loss: 12.0310 - mae: 12.0310\n",
            "Epoch 26/100\n",
            "1/1 [==============================] - 0s 11ms/step - loss: 11.8985 - mae: 11.8985\n",
            "Epoch 27/100\n",
            "1/1 [==============================] - 0s 12ms/step - loss: 11.7660 - mae: 11.7660\n",
            "Epoch 28/100\n",
            "1/1 [==============================] - 0s 13ms/step - loss: 11.6335 - mae: 11.6335\n",
            "Epoch 29/100\n",
            "1/1 [==============================] - 0s 15ms/step - loss: 11.5010 - mae: 11.5010\n",
            "Epoch 30/100\n",
            "1/1 [==============================] - 0s 12ms/step - loss: 11.3685 - mae: 11.3685\n",
            "Epoch 31/100\n",
            "1/1 [==============================] - 0s 16ms/step - loss: 11.2360 - mae: 11.2360\n",
            "Epoch 32/100\n",
            "1/1 [==============================] - 0s 12ms/step - loss: 11.1035 - mae: 11.1035\n",
            "Epoch 33/100\n",
            "1/1 [==============================] - 0s 13ms/step - loss: 10.9710 - mae: 10.9710\n",
            "Epoch 34/100\n",
            "1/1 [==============================] - 0s 12ms/step - loss: 10.8385 - mae: 10.8385\n",
            "Epoch 35/100\n",
            "1/1 [==============================] - 0s 11ms/step - loss: 10.7060 - mae: 10.7060\n",
            "Epoch 36/100\n",
            "1/1 [==============================] - 0s 14ms/step - loss: 10.5735 - mae: 10.5735\n",
            "Epoch 37/100\n",
            "1/1 [==============================] - 0s 14ms/step - loss: 10.4410 - mae: 10.4410\n",
            "Epoch 38/100\n",
            "1/1 [==============================] - 0s 18ms/step - loss: 10.3085 - mae: 10.3085\n",
            "Epoch 39/100\n",
            "1/1 [==============================] - 0s 13ms/step - loss: 10.1760 - mae: 10.1760\n",
            "Epoch 40/100\n",
            "1/1 [==============================] - 0s 17ms/step - loss: 10.0435 - mae: 10.0435\n",
            "Epoch 41/100\n",
            "1/1 [==============================] - 0s 12ms/step - loss: 9.9110 - mae: 9.9110\n",
            "Epoch 42/100\n",
            "1/1 [==============================] - 0s 14ms/step - loss: 9.7785 - mae: 9.7785\n",
            "Epoch 43/100\n",
            "1/1 [==============================] - 0s 12ms/step - loss: 9.6460 - mae: 9.6460\n",
            "Epoch 44/100\n",
            "1/1 [==============================] - 0s 18ms/step - loss: 9.5135 - mae: 9.5135\n",
            "Epoch 45/100\n",
            "1/1 [==============================] - 0s 13ms/step - loss: 9.3810 - mae: 9.3810\n",
            "Epoch 46/100\n",
            "1/1 [==============================] - 0s 12ms/step - loss: 9.2485 - mae: 9.2485\n",
            "Epoch 47/100\n",
            "1/1 [==============================] - 0s 13ms/step - loss: 9.1160 - mae: 9.1160\n",
            "Epoch 48/100\n",
            "1/1 [==============================] - 0s 13ms/step - loss: 8.9835 - mae: 8.9835\n",
            "Epoch 49/100\n",
            "1/1 [==============================] - 0s 17ms/step - loss: 8.8510 - mae: 8.8510\n",
            "Epoch 50/100\n",
            "1/1 [==============================] - 0s 16ms/step - loss: 8.7185 - mae: 8.7185\n",
            "Epoch 51/100\n",
            "1/1 [==============================] - 0s 15ms/step - loss: 8.5860 - mae: 8.5860\n",
            "Epoch 52/100\n",
            "1/1 [==============================] - 0s 16ms/step - loss: 8.4535 - mae: 8.4535\n",
            "Epoch 53/100\n",
            "1/1 [==============================] - 0s 15ms/step - loss: 8.3210 - mae: 8.3210\n",
            "Epoch 54/100\n",
            "1/1 [==============================] - 0s 14ms/step - loss: 8.1885 - mae: 8.1885\n",
            "Epoch 55/100\n",
            "1/1 [==============================] - 0s 13ms/step - loss: 8.0560 - mae: 8.0560\n",
            "Epoch 56/100\n",
            "1/1 [==============================] - 0s 17ms/step - loss: 7.9235 - mae: 7.9235\n",
            "Epoch 57/100\n",
            "1/1 [==============================] - 0s 17ms/step - loss: 7.7910 - mae: 7.7910\n",
            "Epoch 58/100\n",
            "1/1 [==============================] - 0s 16ms/step - loss: 7.6585 - mae: 7.6585\n",
            "Epoch 59/100\n",
            "1/1 [==============================] - 0s 13ms/step - loss: 7.5260 - mae: 7.5260\n",
            "Epoch 60/100\n",
            "1/1 [==============================] - 0s 15ms/step - loss: 7.3935 - mae: 7.3935\n",
            "Epoch 61/100\n",
            "1/1 [==============================] - 0s 11ms/step - loss: 7.2610 - mae: 7.2610\n",
            "Epoch 62/100\n",
            "1/1 [==============================] - 0s 12ms/step - loss: 7.1285 - mae: 7.1285\n",
            "Epoch 63/100\n",
            "1/1 [==============================] - 0s 11ms/step - loss: 7.0388 - mae: 7.0388\n",
            "Epoch 64/100\n",
            "1/1 [==============================] - 0s 14ms/step - loss: 7.0331 - mae: 7.0331\n",
            "Epoch 65/100\n",
            "1/1 [==============================] - 0s 15ms/step - loss: 7.0275 - mae: 7.0275\n",
            "Epoch 66/100\n",
            "1/1 [==============================] - 0s 17ms/step - loss: 7.0219 - mae: 7.0219\n",
            "Epoch 67/100\n",
            "1/1 [==============================] - 0s 12ms/step - loss: 7.0163 - mae: 7.0163\n",
            "Epoch 68/100\n",
            "1/1 [==============================] - 0s 12ms/step - loss: 7.0106 - mae: 7.0106\n",
            "Epoch 69/100\n",
            "1/1 [==============================] - 0s 12ms/step - loss: 7.0050 - mae: 7.0050\n",
            "Epoch 70/100\n",
            "1/1 [==============================] - 0s 12ms/step - loss: 6.9994 - mae: 6.9994\n",
            "Epoch 71/100\n",
            "1/1 [==============================] - 0s 14ms/step - loss: 6.9938 - mae: 6.9938\n",
            "Epoch 72/100\n",
            "1/1 [==============================] - 0s 12ms/step - loss: 6.9881 - mae: 6.9881\n",
            "Epoch 73/100\n",
            "1/1 [==============================] - 0s 11ms/step - loss: 6.9825 - mae: 6.9825\n",
            "Epoch 74/100\n",
            "1/1 [==============================] - 0s 11ms/step - loss: 6.9769 - mae: 6.9769\n",
            "Epoch 75/100\n",
            "1/1 [==============================] - 0s 16ms/step - loss: 6.9713 - mae: 6.9713\n",
            "Epoch 76/100\n",
            "1/1 [==============================] - 0s 12ms/step - loss: 6.9656 - mae: 6.9656\n",
            "Epoch 77/100\n",
            "1/1 [==============================] - 0s 11ms/step - loss: 6.9600 - mae: 6.9600\n",
            "Epoch 78/100\n",
            "1/1 [==============================] - 0s 16ms/step - loss: 6.9544 - mae: 6.9544\n",
            "Epoch 79/100\n",
            "1/1 [==============================] - 0s 11ms/step - loss: 6.9488 - mae: 6.9488\n",
            "Epoch 80/100\n",
            "1/1 [==============================] - 0s 12ms/step - loss: 6.9431 - mae: 6.9431\n",
            "Epoch 81/100\n",
            "1/1 [==============================] - 0s 10ms/step - loss: 6.9375 - mae: 6.9375\n",
            "Epoch 82/100\n",
            "1/1 [==============================] - 0s 10ms/step - loss: 6.9319 - mae: 6.9319\n",
            "Epoch 83/100\n",
            "1/1 [==============================] - 0s 10ms/step - loss: 6.9263 - mae: 6.9263\n",
            "Epoch 84/100\n",
            "1/1 [==============================] - 0s 13ms/step - loss: 6.9206 - mae: 6.9206\n",
            "Epoch 85/100\n",
            "1/1 [==============================] - 0s 13ms/step - loss: 6.9150 - mae: 6.9150\n",
            "Epoch 86/100\n",
            "1/1 [==============================] - 0s 13ms/step - loss: 6.9094 - mae: 6.9094\n",
            "Epoch 87/100\n",
            "1/1 [==============================] - 0s 13ms/step - loss: 6.9038 - mae: 6.9038\n",
            "Epoch 88/100\n",
            "1/1 [==============================] - 0s 12ms/step - loss: 6.8981 - mae: 6.8981\n",
            "Epoch 89/100\n",
            "1/1 [==============================] - 0s 11ms/step - loss: 6.8925 - mae: 6.8925\n",
            "Epoch 90/100\n",
            "1/1 [==============================] - 0s 12ms/step - loss: 6.8869 - mae: 6.8869\n",
            "Epoch 91/100\n",
            "1/1 [==============================] - 0s 12ms/step - loss: 6.8813 - mae: 6.8813\n",
            "Epoch 92/100\n",
            "1/1 [==============================] - 0s 13ms/step - loss: 6.8756 - mae: 6.8756\n",
            "Epoch 93/100\n",
            "1/1 [==============================] - 0s 11ms/step - loss: 6.8700 - mae: 6.8700\n",
            "Epoch 94/100\n",
            "1/1 [==============================] - 0s 14ms/step - loss: 6.8644 - mae: 6.8644\n",
            "Epoch 95/100\n",
            "1/1 [==============================] - 0s 16ms/step - loss: 6.8588 - mae: 6.8588\n",
            "Epoch 96/100\n",
            "1/1 [==============================] - 0s 13ms/step - loss: 6.8531 - mae: 6.8531\n",
            "Epoch 97/100\n",
            "1/1 [==============================] - 0s 9ms/step - loss: 6.8475 - mae: 6.8475\n",
            "Epoch 98/100\n",
            "1/1 [==============================] - 0s 10ms/step - loss: 6.8419 - mae: 6.8419\n",
            "Epoch 99/100\n",
            "1/1 [==============================] - 0s 11ms/step - loss: 6.8363 - mae: 6.8363\n",
            "Epoch 100/100\n",
            "1/1 [==============================] - 0s 10ms/step - loss: 6.8306 - mae: 6.8306\n"
          ]
        },
        {
          "output_type": "execute_result",
          "data": {
            "text/plain": [
              "<keras.src.callbacks.History at 0x78fea6a37f70>"
            ]
          },
          "metadata": {},
          "execution_count": 65
        }
      ]
    },
    {
      "cell_type": "code",
      "source": [
        "model.predict([17.0])"
      ],
      "metadata": {
        "colab": {
          "base_uri": "https://localhost:8080/"
        },
        "id": "mnBAKN-oaqkG",
        "outputId": "5b93c20d-3d24-4793-ee0c-2d4a674b1c68"
      },
      "execution_count": 66,
      "outputs": [
        {
          "output_type": "stream",
          "name": "stdout",
          "text": [
            "1/1 [==============================] - 0s 86ms/step\n"
          ]
        },
        {
          "output_type": "execute_result",
          "data": {
            "text/plain": [
              "array([[29.50368]], dtype=float32)"
            ]
          },
          "metadata": {},
          "execution_count": 66
        }
      ]
    },
    {
      "cell_type": "code",
      "source": [
        "###MORE PRACTICE - get better\n",
        "#VIOLA!!!!! Adam rocks!\n",
        "model = tf.keras.Sequential()\n",
        "model.add(tf.keras.layers.Dense(1))\n",
        "\n",
        "model.compile(loss=tf.keras.losses.mae,\n",
        "              optimizer=tf.keras.optimizers.Adam(learning_rate=0.1),\n",
        "              metrics=[\"mae\"])\n",
        "\n",
        "model.fit(tf.expand_dims(X, axis=-1), y, epochs=100)"
      ],
      "metadata": {
        "colab": {
          "base_uri": "https://localhost:8080/"
        },
        "id": "BhQj9CqIa4j_",
        "outputId": "bc8b4682-9401-4372-bc01-2a91affab9fb"
      },
      "execution_count": 67,
      "outputs": [
        {
          "output_type": "stream",
          "name": "stdout",
          "text": [
            "Epoch 1/100\n",
            "1/1 [==============================] - 0s 448ms/step - loss: 7.9069 - mae: 7.9069\n",
            "Epoch 2/100\n",
            "1/1 [==============================] - 0s 12ms/step - loss: 7.4569 - mae: 7.4569\n",
            "Epoch 3/100\n",
            "1/1 [==============================] - 0s 14ms/step - loss: 7.3500 - mae: 7.3500\n",
            "Epoch 4/100\n",
            "1/1 [==============================] - 0s 10ms/step - loss: 7.2763 - mae: 7.2763\n",
            "Epoch 5/100\n",
            "1/1 [==============================] - 0s 15ms/step - loss: 7.3834 - mae: 7.3834\n",
            "Epoch 6/100\n",
            "1/1 [==============================] - 0s 14ms/step - loss: 7.3920 - mae: 7.3920\n",
            "Epoch 7/100\n",
            "1/1 [==============================] - 0s 11ms/step - loss: 7.3263 - mae: 7.3263\n",
            "Epoch 8/100\n",
            "1/1 [==============================] - 0s 10ms/step - loss: 7.2094 - mae: 7.2094\n",
            "Epoch 9/100\n",
            "1/1 [==============================] - 0s 12ms/step - loss: 7.0552 - mae: 7.0552\n",
            "Epoch 10/100\n",
            "1/1 [==============================] - 0s 12ms/step - loss: 6.8728 - mae: 6.8728\n",
            "Epoch 11/100\n",
            "1/1 [==============================] - 0s 11ms/step - loss: 6.7952 - mae: 6.7952\n",
            "Epoch 12/100\n",
            "1/1 [==============================] - 0s 11ms/step - loss: 6.7271 - mae: 6.7271\n",
            "Epoch 13/100\n",
            "1/1 [==============================] - 0s 11ms/step - loss: 6.6576 - mae: 6.6576\n",
            "Epoch 14/100\n",
            "1/1 [==============================] - 0s 11ms/step - loss: 6.5870 - mae: 6.5870\n",
            "Epoch 15/100\n",
            "1/1 [==============================] - 0s 11ms/step - loss: 6.5944 - mae: 6.5944\n",
            "Epoch 16/100\n",
            "1/1 [==============================] - 0s 12ms/step - loss: 6.5420 - mae: 6.5420\n",
            "Epoch 17/100\n",
            "1/1 [==============================] - 0s 11ms/step - loss: 6.4186 - mae: 6.4186\n",
            "Epoch 18/100\n",
            "1/1 [==============================] - 0s 11ms/step - loss: 6.2907 - mae: 6.2907\n",
            "Epoch 19/100\n",
            "1/1 [==============================] - 0s 13ms/step - loss: 6.2146 - mae: 6.2146\n",
            "Epoch 20/100\n",
            "1/1 [==============================] - 0s 11ms/step - loss: 6.1387 - mae: 6.1387\n",
            "Epoch 21/100\n",
            "1/1 [==============================] - 0s 12ms/step - loss: 6.0630 - mae: 6.0630\n",
            "Epoch 22/100\n",
            "1/1 [==============================] - 0s 12ms/step - loss: 5.9874 - mae: 5.9874\n",
            "Epoch 23/100\n",
            "1/1 [==============================] - 0s 14ms/step - loss: 5.9120 - mae: 5.9120\n",
            "Epoch 24/100\n",
            "1/1 [==============================] - 0s 12ms/step - loss: 5.8492 - mae: 5.8492\n",
            "Epoch 25/100\n",
            "1/1 [==============================] - 0s 13ms/step - loss: 5.7933 - mae: 5.7933\n",
            "Epoch 26/100\n",
            "1/1 [==============================] - 0s 16ms/step - loss: 5.7025 - mae: 5.7025\n",
            "Epoch 27/100\n",
            "1/1 [==============================] - 0s 12ms/step - loss: 5.6214 - mae: 5.6214\n",
            "Epoch 28/100\n",
            "1/1 [==============================] - 0s 13ms/step - loss: 5.5506 - mae: 5.5506\n",
            "Epoch 29/100\n",
            "1/1 [==============================] - 0s 13ms/step - loss: 5.4792 - mae: 5.4792\n",
            "Epoch 30/100\n",
            "1/1 [==============================] - 0s 12ms/step - loss: 5.4074 - mae: 5.4074\n",
            "Epoch 31/100\n",
            "1/1 [==============================] - 0s 12ms/step - loss: 5.3351 - mae: 5.3351\n",
            "Epoch 32/100\n",
            "1/1 [==============================] - 0s 12ms/step - loss: 5.2624 - mae: 5.2624\n",
            "Epoch 33/100\n",
            "1/1 [==============================] - 0s 11ms/step - loss: 5.1894 - mae: 5.1894\n",
            "Epoch 34/100\n",
            "1/1 [==============================] - 0s 11ms/step - loss: 5.1161 - mae: 5.1161\n",
            "Epoch 35/100\n",
            "1/1 [==============================] - 0s 11ms/step - loss: 5.0425 - mae: 5.0425\n",
            "Epoch 36/100\n",
            "1/1 [==============================] - 0s 11ms/step - loss: 4.9686 - mae: 4.9686\n",
            "Epoch 37/100\n",
            "1/1 [==============================] - 0s 11ms/step - loss: 4.8946 - mae: 4.8946\n",
            "Epoch 38/100\n",
            "1/1 [==============================] - 0s 18ms/step - loss: 4.8204 - mae: 4.8204\n",
            "Epoch 39/100\n",
            "1/1 [==============================] - 0s 14ms/step - loss: 4.7460 - mae: 4.7460\n",
            "Epoch 40/100\n",
            "1/1 [==============================] - 0s 11ms/step - loss: 4.6715 - mae: 4.6715\n",
            "Epoch 41/100\n",
            "1/1 [==============================] - 0s 12ms/step - loss: 4.5968 - mae: 4.5968\n",
            "Epoch 42/100\n",
            "1/1 [==============================] - 0s 13ms/step - loss: 4.5220 - mae: 4.5220\n",
            "Epoch 43/100\n",
            "1/1 [==============================] - 0s 15ms/step - loss: 4.4471 - mae: 4.4471\n",
            "Epoch 44/100\n",
            "1/1 [==============================] - 0s 12ms/step - loss: 4.3721 - mae: 4.3721\n",
            "Epoch 45/100\n",
            "1/1 [==============================] - 0s 15ms/step - loss: 4.2971 - mae: 4.2971\n",
            "Epoch 46/100\n",
            "1/1 [==============================] - 0s 14ms/step - loss: 4.2220 - mae: 4.2220\n",
            "Epoch 47/100\n",
            "1/1 [==============================] - 0s 14ms/step - loss: 4.1468 - mae: 4.1468\n",
            "Epoch 48/100\n",
            "1/1 [==============================] - 0s 13ms/step - loss: 4.0715 - mae: 4.0715\n",
            "Epoch 49/100\n",
            "1/1 [==============================] - 0s 15ms/step - loss: 3.9963 - mae: 3.9963\n",
            "Epoch 50/100\n",
            "1/1 [==============================] - 0s 14ms/step - loss: 3.9209 - mae: 3.9209\n",
            "Epoch 51/100\n",
            "1/1 [==============================] - 0s 13ms/step - loss: 3.8456 - mae: 3.8456\n",
            "Epoch 52/100\n",
            "1/1 [==============================] - 0s 11ms/step - loss: 3.7702 - mae: 3.7702\n",
            "Epoch 53/100\n",
            "1/1 [==============================] - 0s 12ms/step - loss: 3.6947 - mae: 3.6947\n",
            "Epoch 54/100\n",
            "1/1 [==============================] - 0s 13ms/step - loss: 3.6193 - mae: 3.6193\n",
            "Epoch 55/100\n",
            "1/1 [==============================] - 0s 13ms/step - loss: 3.5438 - mae: 3.5438\n",
            "Epoch 56/100\n",
            "1/1 [==============================] - 0s 12ms/step - loss: 3.4683 - mae: 3.4683\n",
            "Epoch 57/100\n",
            "1/1 [==============================] - 0s 13ms/step - loss: 3.3929 - mae: 3.3929\n",
            "Epoch 58/100\n",
            "1/1 [==============================] - 0s 14ms/step - loss: 3.3290 - mae: 3.3290\n",
            "Epoch 59/100\n",
            "1/1 [==============================] - 0s 12ms/step - loss: 3.2440 - mae: 3.2440\n",
            "Epoch 60/100\n",
            "1/1 [==============================] - 0s 15ms/step - loss: 3.1704 - mae: 3.1704\n",
            "Epoch 61/100\n",
            "1/1 [==============================] - 0s 13ms/step - loss: 3.0965 - mae: 3.0965\n",
            "Epoch 62/100\n",
            "1/1 [==============================] - 0s 13ms/step - loss: 3.0225 - mae: 3.0225\n",
            "Epoch 63/100\n",
            "1/1 [==============================] - 0s 14ms/step - loss: 2.9482 - mae: 2.9482\n",
            "Epoch 64/100\n",
            "1/1 [==============================] - 0s 13ms/step - loss: 2.8739 - mae: 2.8739\n",
            "Epoch 65/100\n",
            "1/1 [==============================] - 0s 11ms/step - loss: 2.7993 - mae: 2.7993\n",
            "Epoch 66/100\n",
            "1/1 [==============================] - 0s 12ms/step - loss: 2.7246 - mae: 2.7246\n",
            "Epoch 67/100\n",
            "1/1 [==============================] - 0s 12ms/step - loss: 2.6499 - mae: 2.6499\n",
            "Epoch 68/100\n",
            "1/1 [==============================] - 0s 15ms/step - loss: 2.5750 - mae: 2.5750\n",
            "Epoch 69/100\n",
            "1/1 [==============================] - 0s 12ms/step - loss: 2.5000 - mae: 2.5000\n",
            "Epoch 70/100\n",
            "1/1 [==============================] - 0s 11ms/step - loss: 2.4249 - mae: 2.4249\n",
            "Epoch 71/100\n",
            "1/1 [==============================] - 0s 14ms/step - loss: 2.3498 - mae: 2.3498\n",
            "Epoch 72/100\n",
            "1/1 [==============================] - 0s 11ms/step - loss: 2.2746 - mae: 2.2746\n",
            "Epoch 73/100\n",
            "1/1 [==============================] - 0s 12ms/step - loss: 2.1993 - mae: 2.1993\n",
            "Epoch 74/100\n",
            "1/1 [==============================] - 0s 16ms/step - loss: 2.1240 - mae: 2.1240\n",
            "Epoch 75/100\n",
            "1/1 [==============================] - 0s 11ms/step - loss: 2.0487 - mae: 2.0487\n",
            "Epoch 76/100\n",
            "1/1 [==============================] - 0s 13ms/step - loss: 1.9733 - mae: 1.9733\n",
            "Epoch 77/100\n",
            "1/1 [==============================] - 0s 12ms/step - loss: 1.8992 - mae: 1.8992\n",
            "Epoch 78/100\n",
            "1/1 [==============================] - 0s 12ms/step - loss: 1.8247 - mae: 1.8247\n",
            "Epoch 79/100\n",
            "1/1 [==============================] - 0s 13ms/step - loss: 1.7512 - mae: 1.7512\n",
            "Epoch 80/100\n",
            "1/1 [==============================] - 0s 13ms/step - loss: 1.6775 - mae: 1.6775\n",
            "Epoch 81/100\n",
            "1/1 [==============================] - 0s 13ms/step - loss: 1.6134 - mae: 1.6134\n",
            "Epoch 82/100\n",
            "1/1 [==============================] - 0s 11ms/step - loss: 1.5272 - mae: 1.5272\n",
            "Epoch 83/100\n",
            "1/1 [==============================] - 0s 11ms/step - loss: 1.4510 - mae: 1.4510\n",
            "Epoch 84/100\n",
            "1/1 [==============================] - 0s 15ms/step - loss: 1.4068 - mae: 1.4068\n",
            "Epoch 85/100\n",
            "1/1 [==============================] - 0s 14ms/step - loss: 1.3237 - mae: 1.3237\n",
            "Epoch 86/100\n",
            "1/1 [==============================] - 0s 17ms/step - loss: 1.2292 - mae: 1.2292\n",
            "Epoch 87/100\n",
            "1/1 [==============================] - 0s 17ms/step - loss: 1.1643 - mae: 1.1643\n",
            "Epoch 88/100\n",
            "1/1 [==============================] - 0s 15ms/step - loss: 1.0823 - mae: 1.0823\n",
            "Epoch 89/100\n",
            "1/1 [==============================] - 0s 11ms/step - loss: 1.0075 - mae: 1.0075\n",
            "Epoch 90/100\n",
            "1/1 [==============================] - 0s 15ms/step - loss: 0.9326 - mae: 0.9326\n",
            "Epoch 91/100\n",
            "1/1 [==============================] - 0s 16ms/step - loss: 0.8711 - mae: 0.8711\n",
            "Epoch 92/100\n",
            "1/1 [==============================] - 0s 12ms/step - loss: 0.7848 - mae: 0.7848\n",
            "Epoch 93/100\n",
            "1/1 [==============================] - 0s 12ms/step - loss: 0.7117 - mae: 0.7117\n",
            "Epoch 94/100\n",
            "1/1 [==============================] - 0s 11ms/step - loss: 0.6506 - mae: 0.6506\n",
            "Epoch 95/100\n",
            "1/1 [==============================] - 0s 11ms/step - loss: 0.5625 - mae: 0.5625\n",
            "Epoch 96/100\n",
            "1/1 [==============================] - 0s 14ms/step - loss: 0.5360 - mae: 0.5360\n",
            "Epoch 97/100\n",
            "1/1 [==============================] - 0s 12ms/step - loss: 0.4586 - mae: 0.4586\n",
            "Epoch 98/100\n",
            "1/1 [==============================] - 0s 13ms/step - loss: 0.3419 - mae: 0.3419\n",
            "Epoch 99/100\n",
            "1/1 [==============================] - 0s 13ms/step - loss: 0.3107 - mae: 0.3107\n",
            "Epoch 100/100\n",
            "1/1 [==============================] - 0s 12ms/step - loss: 0.2077 - mae: 0.2077\n"
          ]
        },
        {
          "output_type": "execute_result",
          "data": {
            "text/plain": [
              "<keras.src.callbacks.History at 0x78fea610b7c0>"
            ]
          },
          "metadata": {},
          "execution_count": 67
        }
      ]
    },
    {
      "cell_type": "code",
      "source": [
        "model.predict([17.0])"
      ],
      "metadata": {
        "colab": {
          "base_uri": "https://localhost:8080/"
        },
        "id": "0HIcfvzhbUcx",
        "outputId": "5e1cd5f7-1eb3-47e8-8028-2c25cd4dcca8"
      },
      "execution_count": 68,
      "outputs": [
        {
          "output_type": "stream",
          "name": "stdout",
          "text": [
            "1/1 [==============================] - 0s 76ms/step\n"
          ]
        },
        {
          "output_type": "execute_result",
          "data": {
            "text/plain": [
              "array([[27.496822]], dtype=float32)"
            ]
          },
          "metadata": {},
          "execution_count": 68
        }
      ]
    },
    {
      "cell_type": "code",
      "source": [
        "model.summary()"
      ],
      "metadata": {
        "colab": {
          "base_uri": "https://localhost:8080/"
        },
        "id": "D3IkZ_lNdNTR",
        "outputId": "14ac6100-43bc-454d-8fd3-18f7d8790edd"
      },
      "execution_count": 69,
      "outputs": [
        {
          "output_type": "stream",
          "name": "stdout",
          "text": [
            "Model: \"sequential_17\"\n",
            "_________________________________________________________________\n",
            " Layer (type)                Output Shape              Param #   \n",
            "=================================================================\n",
            " dense_20 (Dense)            (None, 1)                 2         \n",
            "                                                                 \n",
            "=================================================================\n",
            "Total params: 2 (8.00 Byte)\n",
            "Trainable params: 2 (8.00 Byte)\n",
            "Non-trainable params: 0 (0.00 Byte)\n",
            "_________________________________________________________________\n"
          ]
        }
      ]
    },
    {
      "cell_type": "code",
      "source": [
        "model.trainable_variables"
      ],
      "metadata": {
        "colab": {
          "base_uri": "https://localhost:8080/"
        },
        "id": "e4Smo6wNdRnJ",
        "outputId": "9c475013-01c1-4395-c88b-acee2f863b7c"
      },
      "execution_count": 70,
      "outputs": [
        {
          "output_type": "execute_result",
          "data": {
            "text/plain": [
              "[<tf.Variable 'dense_20/kernel:0' shape=(1, 1) dtype=float32, numpy=array([[1.0385429]], dtype=float32)>,\n",
              " <tf.Variable 'dense_20/bias:0' shape=(1,) dtype=float32, numpy=array([9.841592], dtype=float32)>]"
            ]
          },
          "metadata": {},
          "execution_count": 70
        }
      ]
    },
    {
      "cell_type": "code",
      "source": [
        "model.trainable_weights"
      ],
      "metadata": {
        "colab": {
          "base_uri": "https://localhost:8080/"
        },
        "id": "-BNXgkigdUu1",
        "outputId": "0967127b-2017-4215-feff-aeadf64cfe36"
      },
      "execution_count": 71,
      "outputs": [
        {
          "output_type": "execute_result",
          "data": {
            "text/plain": [
              "[<tf.Variable 'dense_20/kernel:0' shape=(1, 1) dtype=float32, numpy=array([[1.0385429]], dtype=float32)>,\n",
              " <tf.Variable 'dense_20/bias:0' shape=(1,) dtype=float32, numpy=array([9.841592], dtype=float32)>]"
            ]
          },
          "metadata": {},
          "execution_count": 71
        }
      ]
    },
    {
      "cell_type": "code",
      "source": [
        "model.trainable_variables==model.trainable_weights"
      ],
      "metadata": {
        "colab": {
          "base_uri": "https://localhost:8080/"
        },
        "id": "ck9KHUuDdcp2",
        "outputId": "363f132e-097e-4bb0-e8c9-cded3537d3ad"
      },
      "execution_count": 72,
      "outputs": [
        {
          "output_type": "execute_result",
          "data": {
            "text/plain": [
              "True"
            ]
          },
          "metadata": {},
          "execution_count": 72
        }
      ]
    },
    {
      "cell_type": "code",
      "source": [
        "# ###MORE PRACTICE\n",
        "\n",
        "# model = tf.keras.Sequential()\n",
        "# model.add(tf.keras.layers.Dense(100, activation=\"relu\"))\n",
        "# model.add(tf.keras.layers.Dense(1))\n",
        "\n",
        "# model.compile(loss=tf.keras.losses.mae,\n",
        "#               optimizer=tf.keras.optimizers.SGD(),\n",
        "#               metrics=[\"mae\"])\n",
        "# model.fit(tf.expand_dims(X, axis=-1), y, epochs=100)"
      ],
      "metadata": {
        "id": "britVxv_bem-"
      },
      "execution_count": 73,
      "outputs": []
    },
    {
      "cell_type": "code",
      "source": [
        "# model.predict([17.0])"
      ],
      "metadata": {
        "id": "0WiAjquQcPwX"
      },
      "execution_count": 74,
      "outputs": []
    },
    {
      "cell_type": "code",
      "source": [
        "# model.summary()"
      ],
      "metadata": {
        "id": "cb_H75LLcev4"
      },
      "execution_count": 75,
      "outputs": []
    },
    {
      "cell_type": "code",
      "source": [
        "# model.trainable_variables"
      ],
      "metadata": {
        "id": "LlZ153cDdBKJ"
      },
      "execution_count": 76,
      "outputs": []
    },
    {
      "cell_type": "markdown",
      "source": [
        "## Evaluating a model\n",
        "\n",
        "Typical workflow:\n",
        "1. build a model (Experiment, Experiment, Experiment)\n",
        "2. Fit it\n",
        "3. Evaluate it (visualize,visualize,visualize)\n",
        "\n",
        "Tweak and repeat\n",
        "\n",
        "What can we vizualize:\n",
        "* data (What data are we working with, what does it look like?)\n",
        "* model itself (what does our model look like)\n",
        "* training of our model (how does a model perform while it learns?)\n",
        "* predictions of our model(how do predictions of our model lines up with the ground truth)"
      ],
      "metadata": {
        "id": "zq2kA0QqdH0M"
      }
    },
    {
      "cell_type": "code",
      "source": [
        "# Make a bigger dataset\n",
        "X=tf.range(-100,100, 4)\n",
        "y=X+10"
      ],
      "metadata": {
        "id": "cp6tn2l2emPr"
      },
      "execution_count": 77,
      "outputs": []
    },
    {
      "cell_type": "code",
      "source": [
        "import matplotlib.pyplot as plt\n",
        "plt.scatter(X,y)"
      ],
      "metadata": {
        "colab": {
          "base_uri": "https://localhost:8080/",
          "height": 448
        },
        "id": "Wk3ebNYmf2QO",
        "outputId": "8ce7117e-630e-420f-e897-a5506cfefa1b"
      },
      "execution_count": 78,
      "outputs": [
        {
          "output_type": "execute_result",
          "data": {
            "text/plain": [
              "<matplotlib.collections.PathCollection at 0x78fea6aa2ef0>"
            ]
          },
          "metadata": {},
          "execution_count": 78
        },
        {
          "output_type": "display_data",
          "data": {
            "text/plain": [
              "<Figure size 640x480 with 1 Axes>"
            ],
            "image/png": "[encoded data removed]"
          },
          "metadata": {}
        }
      ]
    },
    {
      "cell_type": "markdown",
      "source": [
        "### Three sets\n",
        "\n",
        "* Training set : model learns from this data (70-80% data)\n",
        "* Validation set: model gets tuned on this data (10-15%)\n",
        "* Test set: model gets evaluated on this data to test what it has learned (10-15%)\n"
      ],
      "metadata": {
        "id": "Nu1pftxhgDpI"
      }
    },
    {
      "cell_type": "code",
      "source": [
        "len(X)"
      ],
      "metadata": {
        "colab": {
          "base_uri": "https://localhost:8080/"
        },
        "id": "x8K7rVxcgN9u",
        "outputId": "6a5d1611-6725-47be-d300-56d465bd2f44"
      },
      "execution_count": 79,
      "outputs": [
        {
          "output_type": "execute_result",
          "data": {
            "text/plain": [
              "50"
            ]
          },
          "metadata": {},
          "execution_count": 79
        }
      ]
    },
    {
      "cell_type": "code",
      "source": [
        "#Split the data into train and test sets\n",
        "X_train = X[:40]\n",
        "X_test = X[40:]\n",
        "y_train = y[:40]\n",
        "y_test = y[40:]\n",
        "\n",
        "len(X_train), len(X_test), len(y_train), len(y_test)"
      ],
      "metadata": {
        "colab": {
          "base_uri": "https://localhost:8080/"
        },
        "id": "B0ADXM_vg-P3",
        "outputId": "94d2e83c-ff07-4724-f8cc-b0be1c7fd2ed"
      },
      "execution_count": 80,
      "outputs": [
        {
          "output_type": "execute_result",
          "data": {
            "text/plain": [
              "(40, 10, 40, 10)"
            ]
          },
          "metadata": {},
          "execution_count": 80
        }
      ]
    },
    {
      "cell_type": "markdown",
      "source": [
        "### Vizualing Data"
      ],
      "metadata": {
        "id": "dp_Bc-nKnlTT"
      }
    },
    {
      "cell_type": "code",
      "source": [
        "## Visualizing data\n",
        "plt.figure(figsize=(10,7))\n",
        "plt.scatter(X_train, y_train, c=\"b\", label=\"Training data\")\n",
        "plt.scatter(X_test, y_test, c=\"g\", label=\"Testing data\")\n",
        "plt.legend()"
      ],
      "metadata": {
        "colab": {
          "base_uri": "https://localhost:8080/",
          "height": 617
        },
        "id": "-eoq2yLmha2n",
        "outputId": "e1dabf15-e201-45c0-8f35-37b83946b2b0"
      },
      "execution_count": 81,
      "outputs": [
        {
          "output_type": "execute_result",
          "data": {
            "text/plain": [
              "<matplotlib.legend.Legend at 0x78feab694a60>"
            ]
          },
          "metadata": {},
          "execution_count": 81
        },
        {
          "output_type": "display_data",
          "data": {
            "text/plain": [
              "<Figure size 1000x700 with 1 Axes>"
            ],
            "image/png": "[encoded data removed]"
          },
          "metadata": {}
        }
      ]
    },
    {
      "cell_type": "code",
      "source": [
        "# Build a NN for our data\n",
        "##NOTICE: build a model automatically by specifying an input shape argument in the first layer!!\n",
        "tf.random.set_seed(42)\n",
        "model = tf.keras.Sequential([\n",
        "    tf.keras.layers.Dense(1, input_shape= [1], name=\"output_layer\")\n",
        "], name=\"model_0\")\n",
        "model.compile(loss=tf.keras.losses.mae,\n",
        "              optimizer=tf.keras.optimizers.Adam(learning_rate=0.1),\n",
        "              metrics=[\"mae\"])\n"
      ],
      "metadata": {
        "id": "B7-U5Yy2h2KN"
      },
      "execution_count": 96,
      "outputs": []
    },
    {
      "cell_type": "code",
      "source": [
        "model.summary()"
      ],
      "metadata": {
        "colab": {
          "base_uri": "https://localhost:8080/"
        },
        "id": "uv-dc_zejGcP",
        "outputId": "df2af4e1-8d18-45bf-9c2a-c8f9896b47d6"
      },
      "execution_count": 97,
      "outputs": [
        {
          "output_type": "stream",
          "name": "stdout",
          "text": [
            "Model: \"model_0\"\n",
            "_________________________________________________________________\n",
            " Layer (type)                Output Shape              Param #   \n",
            "=================================================================\n",
            " output_layer (Dense)        (None, 1)                 2         \n",
            "                                                                 \n",
            "=================================================================\n",
            "Total params: 2 (8.00 Byte)\n",
            "Trainable params: 2 (8.00 Byte)\n",
            "Non-trainable params: 0 (0.00 Byte)\n",
            "_________________________________________________________________\n"
          ]
        }
      ]
    },
    {
      "cell_type": "code",
      "source": [
        "model.fit(tf.expand_dims(X_train, axis=-1), y_train, epochs=100, verbose=1)"
      ],
      "metadata": {
        "colab": {
          "base_uri": "https://localhost:8080/"
        },
        "id": "S_sPcCkjjHrE",
        "outputId": "ee535611-5c36-40f1-96e6-b70b9a9c4f52"
      },
      "execution_count": 98,
      "outputs": [
        {
          "output_type": "stream",
          "name": "stdout",
          "text": [
            "Epoch 1/100\n",
            "2/2 [==============================] - 0s 12ms/step - loss: 110.1871 - mae: 110.1871\n",
            "Epoch 2/100\n",
            "2/2 [==============================] - 0s 9ms/step - loss: 101.3944 - mae: 101.3944\n",
            "Epoch 3/100\n",
            "2/2 [==============================] - 0s 8ms/step - loss: 92.9172 - mae: 92.9172\n",
            "Epoch 4/100\n",
            "2/2 [==============================] - 0s 8ms/step - loss: 84.3062 - mae: 84.3062\n",
            "Epoch 5/100\n",
            "2/2 [==============================] - 0s 11ms/step - loss: 75.8560 - mae: 75.8560\n",
            "Epoch 6/100\n",
            "2/2 [==============================] - 0s 10ms/step - loss: 67.3302 - mae: 67.3302\n",
            "Epoch 7/100\n",
            "2/2 [==============================] - 0s 9ms/step - loss: 58.7332 - mae: 58.7332\n",
            "Epoch 8/100\n",
            "2/2 [==============================] - 0s 8ms/step - loss: 49.9088 - mae: 49.9088\n",
            "Epoch 9/100\n",
            "2/2 [==============================] - 0s 13ms/step - loss: 41.6820 - mae: 41.6820\n",
            "Epoch 10/100\n",
            "2/2 [==============================] - 0s 9ms/step - loss: 33.5111 - mae: 33.5111\n",
            "Epoch 11/100\n",
            "2/2 [==============================] - 0s 12ms/step - loss: 24.8242 - mae: 24.8242\n",
            "Epoch 12/100\n",
            "2/2 [==============================] - 0s 8ms/step - loss: 16.9798 - mae: 16.9798\n",
            "Epoch 13/100\n",
            "2/2 [==============================] - 0s 9ms/step - loss: 9.9267 - mae: 9.9267\n",
            "Epoch 14/100\n",
            "2/2 [==============================] - 0s 10ms/step - loss: 10.6100 - mae: 10.6100\n",
            "Epoch 15/100\n",
            "2/2 [==============================] - 0s 14ms/step - loss: 13.2901 - mae: 13.2901\n",
            "Epoch 16/100\n",
            "2/2 [==============================] - 0s 12ms/step - loss: 15.1720 - mae: 15.1720\n",
            "Epoch 17/100\n",
            "2/2 [==============================] - 0s 9ms/step - loss: 16.1067 - mae: 16.1067\n",
            "Epoch 18/100\n",
            "2/2 [==============================] - 0s 7ms/step - loss: 16.3054 - mae: 16.3054\n",
            "Epoch 19/100\n",
            "2/2 [==============================] - 0s 8ms/step - loss: 15.4937 - mae: 15.4937\n",
            "Epoch 20/100\n",
            "2/2 [==============================] - 0s 9ms/step - loss: 14.1136 - mae: 14.1136\n",
            "Epoch 21/100\n",
            "2/2 [==============================] - 0s 8ms/step - loss: 12.3821 - mae: 12.3821\n",
            "Epoch 22/100\n",
            "2/2 [==============================] - 0s 11ms/step - loss: 10.5751 - mae: 10.5751\n",
            "Epoch 23/100\n",
            "2/2 [==============================] - 0s 9ms/step - loss: 8.1968 - mae: 8.1968\n",
            "Epoch 24/100\n",
            "2/2 [==============================] - 0s 9ms/step - loss: 7.9790 - mae: 7.9790\n",
            "Epoch 25/100\n",
            "2/2 [==============================] - 0s 8ms/step - loss: 9.2934 - mae: 9.2934\n",
            "Epoch 26/100\n",
            "2/2 [==============================] - 0s 9ms/step - loss: 9.5570 - mae: 9.5570\n",
            "Epoch 27/100\n",
            "2/2 [==============================] - 0s 9ms/step - loss: 8.5464 - mae: 8.5464\n",
            "Epoch 28/100\n",
            "2/2 [==============================] - 0s 9ms/step - loss: 7.1657 - mae: 7.1657\n",
            "Epoch 29/100\n",
            "2/2 [==============================] - 0s 9ms/step - loss: 7.2975 - mae: 7.2975\n",
            "Epoch 30/100\n",
            "2/2 [==============================] - 0s 9ms/step - loss: 7.5659 - mae: 7.5659\n",
            "Epoch 31/100\n",
            "2/2 [==============================] - 0s 8ms/step - loss: 6.9693 - mae: 6.9693\n",
            "Epoch 32/100\n",
            "2/2 [==============================] - 0s 8ms/step - loss: 6.1011 - mae: 6.1011\n",
            "Epoch 33/100\n",
            "2/2 [==============================] - 0s 8ms/step - loss: 6.6349 - mae: 6.6349\n",
            "Epoch 34/100\n",
            "2/2 [==============================] - 0s 8ms/step - loss: 6.7220 - mae: 6.7220\n",
            "Epoch 35/100\n",
            "2/2 [==============================] - 0s 8ms/step - loss: 6.2310 - mae: 6.2310\n",
            "Epoch 36/100\n",
            "2/2 [==============================] - 0s 9ms/step - loss: 5.6385 - mae: 5.6385\n",
            "Epoch 37/100\n",
            "2/2 [==============================] - 0s 12ms/step - loss: 5.4787 - mae: 5.4787\n",
            "Epoch 38/100\n",
            "2/2 [==============================] - 0s 11ms/step - loss: 5.3554 - mae: 5.3554\n",
            "Epoch 39/100\n",
            "2/2 [==============================] - 0s 10ms/step - loss: 5.0899 - mae: 5.0899\n",
            "Epoch 40/100\n",
            "2/2 [==============================] - 0s 9ms/step - loss: 5.2741 - mae: 5.2741\n",
            "Epoch 41/100\n",
            "2/2 [==============================] - 0s 9ms/step - loss: 5.1670 - mae: 5.1670\n",
            "Epoch 42/100\n",
            "2/2 [==============================] - 0s 9ms/step - loss: 4.6934 - mae: 4.6934\n",
            "Epoch 43/100\n",
            "2/2 [==============================] - 0s 8ms/step - loss: 4.7707 - mae: 4.7707\n",
            "Epoch 44/100\n",
            "2/2 [==============================] - 0s 9ms/step - loss: 4.3373 - mae: 4.3373\n",
            "Epoch 45/100\n",
            "2/2 [==============================] - 0s 9ms/step - loss: 4.5093 - mae: 4.5093\n",
            "Epoch 46/100\n",
            "2/2 [==============================] - 0s 8ms/step - loss: 4.7819 - mae: 4.7819\n",
            "Epoch 47/100\n",
            "2/2 [==============================] - 0s 8ms/step - loss: 4.3113 - mae: 4.3113\n",
            "Epoch 48/100\n",
            "2/2 [==============================] - 0s 9ms/step - loss: 3.7168 - mae: 3.7168\n",
            "Epoch 49/100\n",
            "2/2 [==============================] - 0s 8ms/step - loss: 4.1677 - mae: 4.1677\n",
            "Epoch 50/100\n",
            "2/2 [==============================] - 0s 10ms/step - loss: 4.0486 - mae: 4.0486\n",
            "Epoch 51/100\n",
            "2/2 [==============================] - 0s 9ms/step - loss: 3.3880 - mae: 3.3880\n",
            "Epoch 52/100\n",
            "2/2 [==============================] - 0s 9ms/step - loss: 3.1435 - mae: 3.1435\n",
            "Epoch 53/100\n",
            "2/2 [==============================] - 0s 8ms/step - loss: 2.9860 - mae: 2.9860\n",
            "Epoch 54/100\n",
            "2/2 [==============================] - 0s 11ms/step - loss: 2.7853 - mae: 2.7853\n",
            "Epoch 55/100\n",
            "2/2 [==============================] - 0s 8ms/step - loss: 2.6363 - mae: 2.6363\n",
            "Epoch 56/100\n",
            "2/2 [==============================] - 0s 8ms/step - loss: 2.5157 - mae: 2.5157\n",
            "Epoch 57/100\n",
            "2/2 [==============================] - 0s 8ms/step - loss: 2.2997 - mae: 2.2997\n",
            "Epoch 58/100\n",
            "2/2 [==============================] - 0s 10ms/step - loss: 2.2240 - mae: 2.2240\n",
            "Epoch 59/100\n",
            "2/2 [==============================] - 0s 9ms/step - loss: 1.9928 - mae: 1.9928\n",
            "Epoch 60/100\n",
            "2/2 [==============================] - 0s 13ms/step - loss: 1.9268 - mae: 1.9268\n",
            "Epoch 61/100\n",
            "2/2 [==============================] - 0s 8ms/step - loss: 1.7164 - mae: 1.7164\n",
            "Epoch 62/100\n",
            "2/2 [==============================] - 0s 8ms/step - loss: 1.6353 - mae: 1.6353\n",
            "Epoch 63/100\n",
            "2/2 [==============================] - 0s 9ms/step - loss: 1.6053 - mae: 1.6053\n",
            "Epoch 64/100\n",
            "2/2 [==============================] - 0s 8ms/step - loss: 1.2777 - mae: 1.2777\n",
            "Epoch 65/100\n",
            "2/2 [==============================] - 0s 8ms/step - loss: 1.3589 - mae: 1.3589\n",
            "Epoch 66/100\n",
            "2/2 [==============================] - 0s 11ms/step - loss: 0.9834 - mae: 0.9834\n",
            "Epoch 67/100\n",
            "2/2 [==============================] - 0s 8ms/step - loss: 0.9636 - mae: 0.9636\n",
            "Epoch 68/100\n",
            "2/2 [==============================] - 0s 12ms/step - loss: 0.6757 - mae: 0.6757\n",
            "Epoch 69/100\n",
            "2/2 [==============================] - 0s 8ms/step - loss: 0.5389 - mae: 0.5389\n",
            "Epoch 70/100\n",
            "2/2 [==============================] - 0s 10ms/step - loss: 0.4445 - mae: 0.4445\n",
            "Epoch 71/100\n",
            "2/2 [==============================] - 0s 9ms/step - loss: 0.2306 - mae: 0.2306\n",
            "Epoch 72/100\n",
            "2/2 [==============================] - 0s 13ms/step - loss: 0.1933 - mae: 0.1933\n",
            "Epoch 73/100\n",
            "2/2 [==============================] - 0s 11ms/step - loss: 0.4081 - mae: 0.4081\n",
            "Epoch 74/100\n",
            "2/2 [==============================] - 0s 8ms/step - loss: 0.2380 - mae: 0.2380\n",
            "Epoch 75/100\n",
            "2/2 [==============================] - 0s 11ms/step - loss: 0.3083 - mae: 0.3083\n",
            "Epoch 76/100\n",
            "2/2 [==============================] - 0s 9ms/step - loss: 0.3227 - mae: 0.3227\n",
            "Epoch 77/100\n",
            "2/2 [==============================] - 0s 9ms/step - loss: 0.2990 - mae: 0.2990\n",
            "Epoch 78/100\n",
            "2/2 [==============================] - 0s 8ms/step - loss: 0.2238 - mae: 0.2238\n",
            "Epoch 79/100\n",
            "2/2 [==============================] - 0s 8ms/step - loss: 0.6608 - mae: 0.6608\n",
            "Epoch 80/100\n",
            "2/2 [==============================] - 0s 8ms/step - loss: 0.2907 - mae: 0.2907\n",
            "Epoch 81/100\n",
            "2/2 [==============================] - 0s 8ms/step - loss: 0.0714 - mae: 0.0714\n",
            "Epoch 82/100\n",
            "2/2 [==============================] - 0s 8ms/step - loss: 0.2643 - mae: 0.2643\n",
            "Epoch 83/100\n",
            "2/2 [==============================] - 0s 9ms/step - loss: 0.4116 - mae: 0.4116\n",
            "Epoch 84/100\n",
            "2/2 [==============================] - 0s 8ms/step - loss: 0.3499 - mae: 0.3499\n",
            "Epoch 85/100\n",
            "2/2 [==============================] - 0s 9ms/step - loss: 1.1312 - mae: 1.1312\n",
            "Epoch 86/100\n",
            "2/2 [==============================] - 0s 11ms/step - loss: 0.9339 - mae: 0.9339\n",
            "Epoch 87/100\n",
            "2/2 [==============================] - 0s 8ms/step - loss: 1.3297 - mae: 1.3297\n",
            "Epoch 88/100\n",
            "2/2 [==============================] - 0s 12ms/step - loss: 1.5550 - mae: 1.5550\n",
            "Epoch 89/100\n",
            "2/2 [==============================] - 0s 10ms/step - loss: 0.3948 - mae: 0.3948\n",
            "Epoch 90/100\n",
            "2/2 [==============================] - 0s 9ms/step - loss: 0.5053 - mae: 0.5053\n",
            "Epoch 91/100\n",
            "2/2 [==============================] - 0s 8ms/step - loss: 0.2975 - mae: 0.2975\n",
            "Epoch 92/100\n",
            "2/2 [==============================] - 0s 8ms/step - loss: 0.2355 - mae: 0.2355\n",
            "Epoch 93/100\n",
            "2/2 [==============================] - 0s 9ms/step - loss: 0.2123 - mae: 0.2123\n",
            "Epoch 94/100\n",
            "2/2 [==============================] - 0s 8ms/step - loss: 0.1415 - mae: 0.1415\n",
            "Epoch 95/100\n",
            "2/2 [==============================] - 0s 9ms/step - loss: 0.1210 - mae: 0.1210\n",
            "Epoch 96/100\n",
            "2/2 [==============================] - 0s 9ms/step - loss: 0.1300 - mae: 0.1300\n",
            "Epoch 97/100\n",
            "2/2 [==============================] - 0s 9ms/step - loss: 0.1725 - mae: 0.1725\n",
            "Epoch 98/100\n",
            "2/2 [==============================] - 0s 9ms/step - loss: 0.2145 - mae: 0.2145\n",
            "Epoch 99/100\n",
            "2/2 [==============================] - 0s 8ms/step - loss: 0.1713 - mae: 0.1713\n",
            "Epoch 100/100\n",
            "2/2 [==============================] - 0s 9ms/step - loss: 0.2852 - mae: 0.2852\n"
          ]
        },
        {
          "output_type": "execute_result",
          "data": {
            "text/plain": [
              "<keras.src.callbacks.History at 0x78feab131db0>"
            ]
          },
          "metadata": {},
          "execution_count": 98
        }
      ]
    },
    {
      "cell_type": "code",
      "source": [
        "model.predict(X_test), y_test"
      ],
      "metadata": {
        "colab": {
          "base_uri": "https://localhost:8080/"
        },
        "id": "4HWg0_u-lw9a",
        "outputId": "98dab072-1daa-4708-f8a9-d3e47657273f"
      },
      "execution_count": 99,
      "outputs": [
        {
          "output_type": "stream",
          "name": "stdout",
          "text": [
            "1/1 [==============================] - 0s 54ms/step\n"
          ]
        },
        {
          "output_type": "execute_result",
          "data": {
            "text/plain": [
              "(array([[ 70.770996],\n",
              "        [ 74.82491 ],\n",
              "        [ 78.87884 ],\n",
              "        [ 82.932755],\n",
              "        [ 86.98668 ],\n",
              "        [ 91.0406  ],\n",
              "        [ 95.09452 ],\n",
              "        [ 99.148445],\n",
              "        [103.20237 ],\n",
              "        [107.25629 ]], dtype=float32),\n",
              " <tf.Tensor: shape=(10,), dtype=int32, numpy=array([ 70,  74,  78,  82,  86,  90,  94,  98, 102, 106], dtype=int32)>)"
            ]
          },
          "metadata": {},
          "execution_count": 99
        }
      ]
    },
    {
      "cell_type": "code",
      "source": [
        "from tensorflow.keras.utils import plot_model"
      ],
      "metadata": {
        "id": "7Tdx3yEJmWCr"
      },
      "execution_count": 100,
      "outputs": []
    },
    {
      "cell_type": "markdown",
      "source": [
        "### Vizualzing model"
      ],
      "metadata": {
        "id": "W0f-eBeZncdA"
      }
    },
    {
      "cell_type": "code",
      "source": [
        "plot_model(model, show_shapes=True)"
      ],
      "metadata": {
        "colab": {
          "base_uri": "https://localhost:8080/",
          "height": 201
        },
        "id": "1ktqW1HtmnZC",
        "outputId": "d9c19cc8-5268-46e9-ca5b-a5670be56fd8"
      },
      "execution_count": 101,
      "outputs": [
        {
          "output_type": "execute_result",
          "data": {
            "image/png": "[encoded data removed]",
            "text/plain": [
              "<IPython.core.display.Image object>"
            ]
          },
          "metadata": {},
          "execution_count": 101
        }
      ]
    },
    {
      "cell_type": "markdown",
      "source": [
        "### Vizualing model's predictions\n",
        "\n",
        "Plot them against the ground truth labels"
      ],
      "metadata": {
        "id": "vCCBgz4jnfVF"
      }
    },
    {
      "cell_type": "code",
      "source": [
        "# make some predictions\n",
        "\n",
        "y_pred = model.predict(X_test)\n",
        "y_pred"
      ],
      "metadata": {
        "colab": {
          "base_uri": "https://localhost:8080/"
        },
        "id": "XE_9IS7Gmp8Z",
        "outputId": "fddf89c2-b1a7-4c9c-bddb-093972d0913c"
      },
      "execution_count": 102,
      "outputs": [
        {
          "output_type": "stream",
          "name": "stdout",
          "text": [
            "1/1 [==============================] - 0s 23ms/step\n"
          ]
        },
        {
          "output_type": "execute_result",
          "data": {
            "text/plain": [
              "array([[ 70.770996],\n",
              "       [ 74.82491 ],\n",
              "       [ 78.87884 ],\n",
              "       [ 82.932755],\n",
              "       [ 86.98668 ],\n",
              "       [ 91.0406  ],\n",
              "       [ 95.09452 ],\n",
              "       [ 99.148445],\n",
              "       [103.20237 ],\n",
              "       [107.25629 ]], dtype=float32)"
            ]
          },
          "metadata": {},
          "execution_count": 102
        }
      ]
    },
    {
      "cell_type": "code",
      "source": [
        "y_test"
      ],
      "metadata": {
        "colab": {
          "base_uri": "https://localhost:8080/"
        },
        "id": "7UgruGdPn4WK",
        "outputId": "eee05b05-69c5-40a5-9299-a8ec30b9e5e2"
      },
      "execution_count": 103,
      "outputs": [
        {
          "output_type": "execute_result",
          "data": {
            "text/plain": [
              "<tf.Tensor: shape=(10,), dtype=int32, numpy=array([ 70,  74,  78,  82,  86,  90,  94,  98, 102, 106], dtype=int32)>"
            ]
          },
          "metadata": {},
          "execution_count": 103
        }
      ]
    },
    {
      "cell_type": "code",
      "source": [
        "### Create a plotting function\n",
        "def plot_predictions(train_data=X_train,\n",
        "                     train_labels=y_train,\n",
        "                     test_data=X_test,\n",
        "                     test_labels=y_test,\n",
        "                     predictions=y_pred):\n",
        "  \"\"\"\n",
        "  Plots training, test data against predictions\n",
        "  \"\"\"\n",
        "  plt.figure(figsize=(10,7))\n",
        "  plt.scatter(train_data, train_labels, c=\"b\", label=\"Training Data\")\n",
        "  plt.scatter(test_data, test_labels, c=\"g\", label=\"Test Data\")\n",
        "  plt.scatter(test_data, predictions, c=\"r\", label=\"Predictions\")\n",
        "  plt.legend()"
      ],
      "metadata": {
        "id": "j6d5mveln8RJ"
      },
      "execution_count": 105,
      "outputs": []
    },
    {
      "cell_type": "code",
      "source": [
        "plot_predictions()"
      ],
      "metadata": {
        "colab": {
          "base_uri": "https://localhost:8080/",
          "height": 599
        },
        "id": "xG7xHT-UoAwt",
        "outputId": "4b10b4f9-8701-4e9f-e3d3-d70eb129fd0b"
      },
      "execution_count": 106,
      "outputs": [
        {
          "output_type": "display_data",
          "data": {
            "text/plain": [
              "<Figure size 1000x700 with 1 Axes>"
            ],
            "image/png": "[encoded data removed]"
          },
          "metadata": {}
        }
      ]
    },
    {
      "cell_type": "markdown",
      "source": [
        "### Evaluating models predictions with Regression evaluation metrics\n",
        "\n",
        "For regression: MAE, MSE, Huber"
      ],
      "metadata": {
        "id": "GSLQAkH_ox39"
      }
    },
    {
      "cell_type": "code",
      "source": [
        "model.evaluate(X_test, y_test)"
      ],
      "metadata": {
        "colab": {
          "base_uri": "https://localhost:8080/"
        },
        "id": "dH1fmBIOpCkG",
        "outputId": "a35b17df-e4cd-436e-99c2-ea005a567eca"
      },
      "execution_count": 109,
      "outputs": [
        {
          "output_type": "stream",
          "name": "stdout",
          "text": [
            "1/1 [==============================] - 0s 282ms/step - loss: 1.0136 - mae: 1.0136\n"
          ]
        },
        {
          "output_type": "execute_result",
          "data": {
            "text/plain": [
              "[1.0136406421661377, 1.0136406421661377]"
            ]
          },
          "metadata": {},
          "execution_count": 109
        }
      ]
    },
    {
      "cell_type": "code",
      "source": [
        "tf.metrics.mean_absolute_error(y_test, y_pred)\n",
        "\n",
        "###WEIRD: CHECK SHAPES"
      ],
      "metadata": {
        "colab": {
          "base_uri": "https://localhost:8080/"
        },
        "id": "0VHVEDpMp4xI",
        "outputId": "08b912f3-dc19-4a51-eea9-0b8fbf0c0fb5"
      },
      "execution_count": 111,
      "outputs": [
        {
          "output_type": "execute_result",
          "data": {
            "text/plain": [
              "<tf.Tensor: shape=(10,), dtype=float32, numpy=\n",
              "array([17.383204, 14.305052, 12.048465, 10.613449, 10.      , 10.20812 ,\n",
              "       11.237808, 13.089067, 15.761896, 19.256287], dtype=float32)>"
            ]
          },
          "metadata": {},
          "execution_count": 111
        }
      ]
    },
    {
      "cell_type": "code",
      "source": [
        "y_test.shape"
      ],
      "metadata": {
        "colab": {
          "base_uri": "https://localhost:8080/"
        },
        "id": "jQqvodi9qMgC",
        "outputId": "fe89800a-75b1-40b7-b579-089c6a4270f0"
      },
      "execution_count": 112,
      "outputs": [
        {
          "output_type": "execute_result",
          "data": {
            "text/plain": [
              "TensorShape([10])"
            ]
          },
          "metadata": {},
          "execution_count": 112
        }
      ]
    },
    {
      "cell_type": "code",
      "source": [
        "y_pred.shape"
      ],
      "metadata": {
        "colab": {
          "base_uri": "https://localhost:8080/"
        },
        "id": "pw9tg-dmq3qQ",
        "outputId": "1fce06a3-a4c5-4ee4-96b4-00251cb38ea5"
      },
      "execution_count": 113,
      "outputs": [
        {
          "output_type": "execute_result",
          "data": {
            "text/plain": [
              "(10, 1)"
            ]
          },
          "metadata": {},
          "execution_count": 113
        }
      ]
    },
    {
      "cell_type": "code",
      "source": [
        "y_pred"
      ],
      "metadata": {
        "colab": {
          "base_uri": "https://localhost:8080/"
        },
        "id": "yEEggKdgq4sn",
        "outputId": "b9e2c7a7-8739-423c-d47e-216c8dcea1c5"
      },
      "execution_count": 115,
      "outputs": [
        {
          "output_type": "execute_result",
          "data": {
            "text/plain": [
              "array([[ 70.770996],\n",
              "       [ 74.82491 ],\n",
              "       [ 78.87884 ],\n",
              "       [ 82.932755],\n",
              "       [ 86.98668 ],\n",
              "       [ 91.0406  ],\n",
              "       [ 95.09452 ],\n",
              "       [ 99.148445],\n",
              "       [103.20237 ],\n",
              "       [107.25629 ]], dtype=float32)"
            ]
          },
          "metadata": {},
          "execution_count": 115
        }
      ]
    },
    {
      "cell_type": "code",
      "source": [
        "y_pred=tf.constant(y_pred)\n",
        "y_pred.shape"
      ],
      "metadata": {
        "colab": {
          "base_uri": "https://localhost:8080/"
        },
        "id": "TZ_t3j4zq5zL",
        "outputId": "0f3a5772-f8fa-4403-f0e6-355552911934"
      },
      "execution_count": 118,
      "outputs": [
        {
          "output_type": "execute_result",
          "data": {
            "text/plain": [
              "TensorShape([10, 1])"
            ]
          },
          "metadata": {},
          "execution_count": 118
        }
      ]
    },
    {
      "cell_type": "code",
      "source": [
        "###ONE EXTRA DIMENSION\n",
        "tf.squeeze(y_pred)"
      ],
      "metadata": {
        "colab": {
          "base_uri": "https://localhost:8080/"
        },
        "id": "744pBvi9rEA8",
        "outputId": "71422428-3448-4539-cf77-9ac6dd53587f"
      },
      "execution_count": 119,
      "outputs": [
        {
          "output_type": "execute_result",
          "data": {
            "text/plain": [
              "<tf.Tensor: shape=(10,), dtype=float32, numpy=\n",
              "array([ 70.770996,  74.82491 ,  78.87884 ,  82.932755,  86.98668 ,\n",
              "        91.0406  ,  95.09452 ,  99.148445, 103.20237 , 107.25629 ],\n",
              "      dtype=float32)>"
            ]
          },
          "metadata": {},
          "execution_count": 119
        }
      ]
    },
    {
      "cell_type": "code",
      "source": [
        "###CALCULATE MAE\n",
        "\n",
        "###NOTICE:::: SAME OUTPUT AS evaluate!\n",
        "\n",
        "mae= tf.metrics.mean_absolute_error(y_true=y_test,\n",
        "                                    y_pred= tf.squeeze(y_pred))\n",
        "mae"
      ],
      "metadata": {
        "colab": {
          "base_uri": "https://localhost:8080/"
        },
        "id": "OGVif-m-rOR_",
        "outputId": "3f8a3282-0f84-44da-a126-d5718732af61"
      },
      "execution_count": 121,
      "outputs": [
        {
          "output_type": "execute_result",
          "data": {
            "text/plain": [
              "<tf.Tensor: shape=(), dtype=float32, numpy=1.0136406>"
            ]
          },
          "metadata": {},
          "execution_count": 121
        }
      ]
    },
    {
      "cell_type": "code",
      "source": [
        "###Calculate mean squared error\n",
        "\n",
        "mse = tf.metrics.mean_squared_error(y_true=y_test,\n",
        "                                    y_pred= tf.squeeze(y_pred))\n",
        "mse"
      ],
      "metadata": {
        "colab": {
          "base_uri": "https://localhost:8080/"
        },
        "id": "_xt2UsC2rcg8",
        "outputId": "811c3381-d400-4797-a2f0-f8cff16fda4b"
      },
      "execution_count": 122,
      "outputs": [
        {
          "output_type": "execute_result",
          "data": {
            "text/plain": [
              "<tf.Tensor: shape=(), dtype=float32, numpy=1.0514545>"
            ]
          },
          "metadata": {},
          "execution_count": 122
        }
      ]
    },
    {
      "cell_type": "code",
      "source": [
        "### Huber\n",
        "\n",
        "huber=tf.keras.losses.Huber()\n",
        "huber(y_test, y_pred)"
      ],
      "metadata": {
        "colab": {
          "base_uri": "https://localhost:8080/"
        },
        "id": "cdduRXmlr3sk",
        "outputId": "857c8c46-b6ac-4428-d35e-ab1c073fb232"
      },
      "execution_count": 126,
      "outputs": [
        {
          "output_type": "execute_result",
          "data": {
            "text/plain": [
              "<tf.Tensor: shape=(), dtype=float32, numpy=0.5187645>"
            ]
          },
          "metadata": {},
          "execution_count": 126
        }
      ]
    },
    {
      "cell_type": "code",
      "source": [
        "# Make a function to print metrics\n",
        "\n",
        "def print_eval(y_true=y_test, y_pred=y_pred):\n",
        "  mae = tf.metrics.mean_absolute_error(y_true, y_pred)\n",
        "  mse = tf.metrics.mean_squared_error(y_true, y_pred)\n",
        "  print(f\"MAE: {mae}\")\n",
        "  print(f\"MSE: {mse}\")"
      ],
      "metadata": {
        "id": "cVWlerjpsCDL"
      },
      "execution_count": 127,
      "outputs": []
    },
    {
      "cell_type": "code",
      "source": [
        "print_eval(y_test, tf.squeeze(y_pred))"
      ],
      "metadata": {
        "colab": {
          "base_uri": "https://localhost:8080/"
        },
        "id": "8B59_vqMtHFK",
        "outputId": "a6053708-7610-400f-ddba-d5c9fdee5106"
      },
      "execution_count": 128,
      "outputs": [
        {
          "output_type": "stream",
          "name": "stdout",
          "text": [
            "MAE: 1.0136406421661377\n",
            "MSE: 1.0514545440673828\n"
          ]
        }
      ]
    },
    {
      "cell_type": "markdown",
      "source": [
        "## Trying 3 Experimental Models for same data\n",
        "\n",
        "1. model 1: same as orig\n",
        "2. model 2: 2 layers, 100 epochs\n",
        "3. model 3: 2 layers, 500 epochs"
      ],
      "metadata": {
        "id": "BrtCu9OWtaUF"
      }
    },
    {
      "cell_type": "code",
      "source": [
        "## model_1\n",
        "\n",
        "tf.random.set_seed(42)\n",
        "\n",
        "model_1 = tf.keras.Sequential([\n",
        "    tf.keras.layers.Dense(1)\n",
        "])\n",
        "\n",
        "model_1.compile(loss=tf.keras.losses.mae,\n",
        "                optimizer=tf.keras.optimizers.SGD(learning_rate=0.001),\n",
        "                metrics=[\"mae\"])\n",
        "\n",
        "model_1.fit(tf.expand_dims(X_train, axis=-1), y_train, epochs=100)"
      ],
      "metadata": {
        "colab": {
          "base_uri": "https://localhost:8080/"
        },
        "id": "HTF0sxJ5tzd-",
        "outputId": "6d6bbaf3-14d4-4af9-b35d-9eb1ad96431c"
      },
      "execution_count": 133,
      "outputs": [
        {
          "output_type": "stream",
          "name": "stdout",
          "text": [
            "Epoch 1/100\n",
            "2/2 [==============================] - 1s 15ms/step - loss: 80.1760 - mae: 80.1760\n",
            "Epoch 2/100\n",
            "2/2 [==============================] - 0s 21ms/step - loss: 76.6305 - mae: 76.6305\n",
            "Epoch 3/100\n",
            "2/2 [==============================] - 0s 20ms/step - loss: 72.8467 - mae: 72.8467\n",
            "Epoch 4/100\n",
            "2/2 [==============================] - 0s 14ms/step - loss: 69.1862 - mae: 69.1862\n",
            "Epoch 5/100\n",
            "2/2 [==============================] - 0s 17ms/step - loss: 65.5469 - mae: 65.5469\n",
            "Epoch 6/100\n",
            "2/2 [==============================] - 0s 11ms/step - loss: 62.0997 - mae: 62.0997\n",
            "Epoch 7/100\n",
            "2/2 [==============================] - 0s 10ms/step - loss: 58.6674 - mae: 58.6674\n",
            "Epoch 8/100\n",
            "2/2 [==============================] - 0s 12ms/step - loss: 54.9830 - mae: 54.9830\n",
            "Epoch 9/100\n",
            "2/2 [==============================] - 0s 14ms/step - loss: 50.7808 - mae: 50.7808\n",
            "Epoch 10/100\n",
            "2/2 [==============================] - 0s 19ms/step - loss: 47.0924 - mae: 47.0924\n",
            "Epoch 11/100\n",
            "2/2 [==============================] - 0s 15ms/step - loss: 43.6725 - mae: 43.6725\n",
            "Epoch 12/100\n",
            "2/2 [==============================] - 0s 12ms/step - loss: 39.7926 - mae: 39.7926\n",
            "Epoch 13/100\n",
            "2/2 [==============================] - 0s 11ms/step - loss: 36.0107 - mae: 36.0107\n",
            "Epoch 14/100\n",
            "2/2 [==============================] - 0s 13ms/step - loss: 31.9546 - mae: 31.9546\n",
            "Epoch 15/100\n",
            "2/2 [==============================] - 0s 14ms/step - loss: 28.3149 - mae: 28.3149\n",
            "Epoch 16/100\n",
            "2/2 [==============================] - 0s 13ms/step - loss: 24.9507 - mae: 24.9507\n",
            "Epoch 17/100\n",
            "2/2 [==============================] - 0s 11ms/step - loss: 21.4382 - mae: 21.4382\n",
            "Epoch 18/100\n",
            "2/2 [==============================] - 0s 12ms/step - loss: 17.9407 - mae: 17.9407\n",
            "Epoch 19/100\n",
            "2/2 [==============================] - 0s 12ms/step - loss: 14.7844 - mae: 14.7844\n",
            "Epoch 20/100\n",
            "2/2 [==============================] - 0s 26ms/step - loss: 12.0745 - mae: 12.0745\n",
            "Epoch 21/100\n",
            "2/2 [==============================] - 0s 13ms/step - loss: 9.4823 - mae: 9.4823\n",
            "Epoch 22/100\n",
            "2/2 [==============================] - 0s 12ms/step - loss: 7.8861 - mae: 7.8861\n",
            "Epoch 23/100\n",
            "2/2 [==============================] - 0s 13ms/step - loss: 7.6865 - mae: 7.6865\n",
            "Epoch 24/100\n",
            "2/2 [==============================] - 0s 11ms/step - loss: 7.7357 - mae: 7.7357\n",
            "Epoch 25/100\n",
            "2/2 [==============================] - 0s 11ms/step - loss: 7.7660 - mae: 7.7660\n",
            "Epoch 26/100\n",
            "2/2 [==============================] - 0s 12ms/step - loss: 7.6613 - mae: 7.6613\n",
            "Epoch 27/100\n",
            "2/2 [==============================] - 0s 17ms/step - loss: 7.6304 - mae: 7.6304\n",
            "Epoch 28/100\n",
            "2/2 [==============================] - 0s 19ms/step - loss: 7.6370 - mae: 7.6370\n",
            "Epoch 29/100\n",
            "2/2 [==============================] - 0s 13ms/step - loss: 7.6881 - mae: 7.6881\n",
            "Epoch 30/100\n",
            "2/2 [==============================] - 0s 14ms/step - loss: 7.6180 - mae: 7.6180\n",
            "Epoch 31/100\n",
            "2/2 [==============================] - 0s 13ms/step - loss: 7.7492 - mae: 7.7492\n",
            "Epoch 32/100\n",
            "2/2 [==============================] - 0s 13ms/step - loss: 7.7742 - mae: 7.7742\n",
            "Epoch 33/100\n",
            "2/2 [==============================] - 0s 21ms/step - loss: 7.6478 - mae: 7.6478\n",
            "Epoch 34/100\n",
            "2/2 [==============================] - 0s 14ms/step - loss: 7.6252 - mae: 7.6252\n",
            "Epoch 35/100\n",
            "2/2 [==============================] - 0s 12ms/step - loss: 7.7321 - mae: 7.7321\n",
            "Epoch 36/100\n",
            "2/2 [==============================] - 0s 17ms/step - loss: 8.0393 - mae: 8.0393\n",
            "Epoch 37/100\n",
            "2/2 [==============================] - 0s 12ms/step - loss: 7.6980 - mae: 7.6980\n",
            "Epoch 38/100\n",
            "2/2 [==============================] - 0s 13ms/step - loss: 7.6391 - mae: 7.6391\n",
            "Epoch 39/100\n",
            "2/2 [==============================] - 0s 13ms/step - loss: 7.6087 - mae: 7.6087\n",
            "Epoch 40/100\n",
            "2/2 [==============================] - 0s 17ms/step - loss: 7.6305 - mae: 7.6305\n",
            "Epoch 41/100\n",
            "2/2 [==============================] - 0s 13ms/step - loss: 7.6441 - mae: 7.6441\n",
            "Epoch 42/100\n",
            "2/2 [==============================] - 0s 12ms/step - loss: 7.6006 - mae: 7.6006\n",
            "Epoch 43/100\n",
            "2/2 [==============================] - 0s 12ms/step - loss: 7.6110 - mae: 7.6110\n",
            "Epoch 44/100\n",
            "2/2 [==============================] - 0s 9ms/step - loss: 7.6178 - mae: 7.6178\n",
            "Epoch 45/100\n",
            "2/2 [==============================] - 0s 8ms/step - loss: 7.7445 - mae: 7.7445\n",
            "Epoch 46/100\n",
            "2/2 [==============================] - 0s 12ms/step - loss: 7.6833 - mae: 7.6833\n",
            "Epoch 47/100\n",
            "2/2 [==============================] - 0s 11ms/step - loss: 7.6692 - mae: 7.6692\n",
            "Epoch 48/100\n",
            "2/2 [==============================] - 0s 12ms/step - loss: 7.6983 - mae: 7.6983\n",
            "Epoch 49/100\n",
            "2/2 [==============================] - 0s 12ms/step - loss: 7.6512 - mae: 7.6512\n",
            "Epoch 50/100\n",
            "2/2 [==============================] - 0s 10ms/step - loss: 7.8505 - mae: 7.8505\n",
            "Epoch 51/100\n",
            "2/2 [==============================] - 0s 8ms/step - loss: 7.6451 - mae: 7.6451\n",
            "Epoch 52/100\n",
            "2/2 [==============================] - 0s 9ms/step - loss: 7.6568 - mae: 7.6568\n",
            "Epoch 53/100\n",
            "2/2 [==============================] - 0s 8ms/step - loss: 7.6746 - mae: 7.6746\n",
            "Epoch 54/100\n",
            "2/2 [==============================] - 0s 8ms/step - loss: 7.6738 - mae: 7.6738\n",
            "Epoch 55/100\n",
            "2/2 [==============================] - 0s 9ms/step - loss: 7.6162 - mae: 7.6162\n",
            "Epoch 56/100\n",
            "2/2 [==============================] - 0s 9ms/step - loss: 7.6419 - mae: 7.6419\n",
            "Epoch 57/100\n",
            "2/2 [==============================] - 0s 9ms/step - loss: 7.8781 - mae: 7.8781\n",
            "Epoch 58/100\n",
            "2/2 [==============================] - 0s 8ms/step - loss: 7.6745 - mae: 7.6745\n",
            "Epoch 59/100\n",
            "2/2 [==============================] - 0s 9ms/step - loss: 7.6097 - mae: 7.6097\n",
            "Epoch 60/100\n",
            "2/2 [==============================] - 0s 10ms/step - loss: 7.5927 - mae: 7.5927\n",
            "Epoch 61/100\n",
            "2/2 [==============================] - 0s 9ms/step - loss: 7.5952 - mae: 7.5952\n",
            "Epoch 62/100\n",
            "2/2 [==============================] - 0s 9ms/step - loss: 7.6719 - mae: 7.6719\n",
            "Epoch 63/100\n",
            "2/2 [==============================] - 0s 10ms/step - loss: 7.6717 - mae: 7.6717\n",
            "Epoch 64/100\n",
            "2/2 [==============================] - 0s 10ms/step - loss: 7.8323 - mae: 7.8323\n",
            "Epoch 65/100\n",
            "2/2 [==============================] - 0s 8ms/step - loss: 7.5935 - mae: 7.5935\n",
            "Epoch 66/100\n",
            "2/2 [==============================] - 0s 8ms/step - loss: 7.5917 - mae: 7.5917\n",
            "Epoch 67/100\n",
            "2/2 [==============================] - 0s 9ms/step - loss: 7.5886 - mae: 7.5886\n",
            "Epoch 68/100\n",
            "2/2 [==============================] - 0s 8ms/step - loss: 7.5937 - mae: 7.5937\n",
            "Epoch 69/100\n",
            "2/2 [==============================] - 0s 8ms/step - loss: 7.6352 - mae: 7.6352\n",
            "Epoch 70/100\n",
            "2/2 [==============================] - 0s 8ms/step - loss: 7.6240 - mae: 7.6240\n",
            "Epoch 71/100\n",
            "2/2 [==============================] - 0s 8ms/step - loss: 7.9251 - mae: 7.9251\n",
            "Epoch 72/100\n",
            "2/2 [==============================] - 0s 9ms/step - loss: 7.6918 - mae: 7.6918\n",
            "Epoch 73/100\n",
            "2/2 [==============================] - 0s 8ms/step - loss: 7.6391 - mae: 7.6391\n",
            "Epoch 74/100\n",
            "2/2 [==============================] - 0s 9ms/step - loss: 7.7300 - mae: 7.7300\n",
            "Epoch 75/100\n",
            "2/2 [==============================] - 0s 7ms/step - loss: 7.6377 - mae: 7.6377\n",
            "Epoch 76/100\n",
            "2/2 [==============================] - 0s 8ms/step - loss: 7.6381 - mae: 7.6381\n",
            "Epoch 77/100\n",
            "2/2 [==============================] - 0s 7ms/step - loss: 7.5827 - mae: 7.5827\n",
            "Epoch 78/100\n",
            "2/2 [==============================] - 0s 8ms/step - loss: 7.6143 - mae: 7.6143\n",
            "Epoch 79/100\n",
            "2/2 [==============================] - 0s 10ms/step - loss: 7.5991 - mae: 7.5991\n",
            "Epoch 80/100\n",
            "2/2 [==============================] - 0s 7ms/step - loss: 7.6277 - mae: 7.6277\n",
            "Epoch 81/100\n",
            "2/2 [==============================] - 0s 8ms/step - loss: 7.5874 - mae: 7.5874\n",
            "Epoch 82/100\n",
            "2/2 [==============================] - 0s 9ms/step - loss: 7.5643 - mae: 7.5643\n",
            "Epoch 83/100\n",
            "2/2 [==============================] - 0s 8ms/step - loss: 7.6050 - mae: 7.6050\n",
            "Epoch 84/100\n",
            "2/2 [==============================] - 0s 9ms/step - loss: 7.5810 - mae: 7.5810\n",
            "Epoch 85/100\n",
            "2/2 [==============================] - 0s 9ms/step - loss: 7.5860 - mae: 7.5860\n",
            "Epoch 86/100\n",
            "2/2 [==============================] - 0s 8ms/step - loss: 7.6970 - mae: 7.6970\n",
            "Epoch 87/100\n",
            "2/2 [==============================] - 0s 9ms/step - loss: 7.8267 - mae: 7.8267\n",
            "Epoch 88/100\n",
            "2/2 [==============================] - 0s 11ms/step - loss: 8.1678 - mae: 8.1678\n",
            "Epoch 89/100\n",
            "2/2 [==============================] - 0s 9ms/step - loss: 7.5565 - mae: 7.5565\n",
            "Epoch 90/100\n",
            "2/2 [==============================] - 0s 11ms/step - loss: 7.5757 - mae: 7.5757\n",
            "Epoch 91/100\n",
            "2/2 [==============================] - 0s 8ms/step - loss: 7.6100 - mae: 7.6100\n",
            "Epoch 92/100\n",
            "2/2 [==============================] - 0s 8ms/step - loss: 7.6046 - mae: 7.6046\n",
            "Epoch 93/100\n",
            "2/2 [==============================] - 0s 9ms/step - loss: 7.5821 - mae: 7.5821\n",
            "Epoch 94/100\n",
            "2/2 [==============================] - 0s 9ms/step - loss: 7.5434 - mae: 7.5434\n",
            "Epoch 95/100\n",
            "2/2 [==============================] - 0s 9ms/step - loss: 7.7550 - mae: 7.7550\n",
            "Epoch 96/100\n",
            "2/2 [==============================] - 0s 10ms/step - loss: 7.6158 - mae: 7.6158\n",
            "Epoch 97/100\n",
            "2/2 [==============================] - 0s 9ms/step - loss: 7.6620 - mae: 7.6620\n",
            "Epoch 98/100\n",
            "2/2 [==============================] - 0s 9ms/step - loss: 7.6035 - mae: 7.6035\n",
            "Epoch 99/100\n",
            "2/2 [==============================] - 0s 8ms/step - loss: 7.5525 - mae: 7.5525\n",
            "Epoch 100/100\n",
            "2/2 [==============================] - 0s 9ms/step - loss: 7.5569 - mae: 7.5569\n"
          ]
        },
        {
          "output_type": "execute_result",
          "data": {
            "text/plain": [
              "<keras.src.callbacks.History at 0x78fea3ee3ca0>"
            ]
          },
          "metadata": {},
          "execution_count": 133
        }
      ]
    },
    {
      "cell_type": "code",
      "source": [
        "#Make and plot predictiosn for model_1\n",
        "y_preds_1 = model_1(X_test)\n",
        "plot_predictions(predictions=y_preds_1)"
      ],
      "metadata": {
        "colab": {
          "base_uri": "https://localhost:8080/",
          "height": 599
        },
        "id": "HHeQvdWtuS57",
        "outputId": "236c29e8-228b-4f46-b37d-2669096a27b9"
      },
      "execution_count": 136,
      "outputs": [
        {
          "output_type": "display_data",
          "data": {
            "text/plain": [
              "<Figure size 1000x700 with 1 Axes>"
            ],
            "image/png": "[encoded data removed]"
          },
          "metadata": {}
        }
      ]
    },
    {
      "cell_type": "code",
      "source": [
        "print_eval(y_test, tf.squeeze(y_preds_1))"
      ],
      "metadata": {
        "colab": {
          "base_uri": "https://localhost:8080/"
        },
        "id": "7oqv2giVarmq",
        "outputId": "d9b96363-6d3c-4d65-e88f-0d82b12a6707"
      },
      "execution_count": 137,
      "outputs": [
        {
          "output_type": "stream",
          "name": "stdout",
          "text": [
            "MAE: 17.884469985961914\n",
            "MSE: 321.2418212890625\n"
          ]
        }
      ]
    },
    {
      "cell_type": "markdown",
      "source": [
        "### Excursion: Understanding what went wrong without tf.squeeze()"
      ],
      "metadata": {
        "id": "fTuubZUhcXJC"
      }
    },
    {
      "cell_type": "code",
      "source": [
        "y_preds_1, tf.squeeze(y_preds_1)"
      ],
      "metadata": {
        "colab": {
          "base_uri": "https://localhost:8080/"
        },
        "id": "t0xHM5LSa2wk",
        "outputId": "9976310f-4e42-4e42-983e-1cec0b28df05"
      },
      "execution_count": 138,
      "outputs": [
        {
          "output_type": "execute_result",
          "data": {
            "text/plain": [
              "(<tf.Tensor: shape=(10, 1), dtype=float32, numpy=\n",
              " array([[53.960983],\n",
              "        [57.55088 ],\n",
              "        [61.140778],\n",
              "        [64.73068 ],\n",
              "        [68.32058 ],\n",
              "        [71.91048 ],\n",
              "        [75.50038 ],\n",
              "        [79.09028 ],\n",
              "        [82.680176],\n",
              "        [86.27007 ]], dtype=float32)>,\n",
              " <tf.Tensor: shape=(10,), dtype=float32, numpy=\n",
              " array([53.960983, 57.55088 , 61.140778, 64.73068 , 68.32058 , 71.91048 ,\n",
              "        75.50038 , 79.09028 , 82.680176, 86.27007 ], dtype=float32)>)"
            ]
          },
          "metadata": {},
          "execution_count": 138
        }
      ]
    },
    {
      "cell_type": "code",
      "source": [
        "y_test"
      ],
      "metadata": {
        "colab": {
          "base_uri": "https://localhost:8080/"
        },
        "id": "ps-15yg-bSYC",
        "outputId": "a0cf2f90-cd1f-468e-a71b-39987a80aafa"
      },
      "execution_count": 140,
      "outputs": [
        {
          "output_type": "execute_result",
          "data": {
            "text/plain": [
              "<tf.Tensor: shape=(10,), dtype=int32, numpy=array([ 70,  74,  78,  82,  86,  90,  94,  98, 102, 106], dtype=int32)>"
            ]
          },
          "metadata": {},
          "execution_count": 140
        }
      ]
    },
    {
      "cell_type": "code",
      "source": [
        "tf.metrics.mean_absolute_error(y_test, y_preds_1)"
      ],
      "metadata": {
        "colab": {
          "base_uri": "https://localhost:8080/"
        },
        "id": "uNf1kXFIbBWY",
        "outputId": "02750797-205a-4cdf-9991-5bdfd2fa3abf"
      },
      "execution_count": 139,
      "outputs": [
        {
          "output_type": "execute_result",
          "data": {
            "text/plain": [
              "<tf.Tensor: shape=(10,), dtype=float32, numpy=\n",
              "array([34.039017, 30.449121, 26.859222, 23.269318, 19.67942 , 16.471619,\n",
              "       13.899771, 11.963888, 10.663965, 10.      ], dtype=float32)>"
            ]
          },
          "metadata": {},
          "execution_count": 139
        }
      ]
    },
    {
      "cell_type": "code",
      "source": [
        "np.mean(abs(np.array([53.960983, 57.55088 , 61.140778, 64.73068 , 68.32058 , 71.91048 ,75.50038 , 79.09028 , 82.680176, 86.27007 ]) - np.array([70]*10)))"
      ],
      "metadata": {
        "colab": {
          "base_uri": "https://localhost:8080/"
        },
        "id": "EiAtSXUkbgEY",
        "outputId": "8d7c30ae-35b9-4b3c-a8b0-f6ad23a30bad"
      },
      "execution_count": 148,
      "outputs": [
        {
          "output_type": "execute_result",
          "data": {
            "text/plain": [
              "8.9747485"
            ]
          },
          "metadata": {},
          "execution_count": 148
        }
      ]
    },
    {
      "cell_type": "code",
      "source": [
        "np.mean(abs(np.array([ 70,  74,  78,  82,  86,  90,  94,  98, 102, 106])-np.array([53.960983]*10)))"
      ],
      "metadata": {
        "colab": {
          "base_uri": "https://localhost:8080/"
        },
        "id": "BV2Hmp2SbtvM",
        "outputId": "eb530b6e-2c83-4cbc-b40b-b19f0fa4be2d"
      },
      "execution_count": 150,
      "outputs": [
        {
          "output_type": "execute_result",
          "data": {
            "text/plain": [
              "34.039017"
            ]
          },
          "metadata": {},
          "execution_count": 150
        }
      ]
    },
    {
      "cell_type": "code",
      "source": [
        "## Build model_2\n",
        "tf.random.set_seed(42)\n",
        "model_2=tf.keras.Sequential([\n",
        "    tf.keras.layers.Dense(10),\n",
        "    tf.keras.layers.Dense(1)\n",
        "])\n",
        "\n",
        "model_2.compile(loss=tf.keras.losses.mae,\n",
        "                optimizer=tf.keras.optimizers.SGD(),\n",
        "                metrics=[\"mse\"])\n",
        "model_2.fit(tf.expand_dims(X_train, axis=-1), y_train, epochs=100)"
      ],
      "metadata": {
        "colab": {
          "base_uri": "https://localhost:8080/"
        },
        "id": "SDWTMhVQcNGx",
        "outputId": "7b6ee276-a39a-4256-9886-2b4419e79dfb"
      },
      "execution_count": 151,
      "outputs": [
        {
          "output_type": "stream",
          "name": "stdout",
          "text": [
            "Epoch 1/100\n",
            "2/2 [==============================] - 1s 36ms/step - loss: 30.6547 - mse: 1324.4622\n",
            "Epoch 2/100\n",
            "2/2 [==============================] - 0s 14ms/step - loss: 24.0175 - mse: 746.7255\n",
            "Epoch 3/100\n",
            "2/2 [==============================] - 0s 16ms/step - loss: 30.2785 - mse: 1338.5961\n",
            "Epoch 4/100\n",
            "2/2 [==============================] - 0s 11ms/step - loss: 22.9382 - mse: 755.8387\n",
            "Epoch 5/100\n",
            "2/2 [==============================] - 0s 11ms/step - loss: 13.7224 - mse: 228.8603\n",
            "Epoch 6/100\n",
            "2/2 [==============================] - 0s 19ms/step - loss: 11.0125 - mse: 133.9641\n",
            "Epoch 7/100\n",
            "2/2 [==============================] - 0s 18ms/step - loss: 11.9921 - mse: 180.4578\n",
            "Epoch 8/100\n",
            "2/2 [==============================] - 0s 12ms/step - loss: 10.8236 - mse: 131.3693\n",
            "Epoch 9/100\n",
            "2/2 [==============================] - 0s 12ms/step - loss: 37.2500 - mse: 2132.6875\n",
            "Epoch 10/100\n",
            "2/2 [==============================] - 0s 11ms/step - loss: 24.9564 - mse: 873.1392\n",
            "Epoch 11/100\n",
            "2/2 [==============================] - 0s 8ms/step - loss: 11.0178 - mse: 181.1348\n",
            "Epoch 12/100\n",
            "2/2 [==============================] - 0s 11ms/step - loss: 24.3765 - mse: 834.5494\n",
            "Epoch 13/100\n",
            "2/2 [==============================] - 0s 11ms/step - loss: 19.3136 - mse: 525.1441\n",
            "Epoch 14/100\n",
            "2/2 [==============================] - 0s 10ms/step - loss: 23.5590 - mse: 850.6727\n",
            "Epoch 15/100\n",
            "2/2 [==============================] - 0s 11ms/step - loss: 15.6703 - mse: 333.9924\n",
            "Epoch 16/100\n",
            "2/2 [==============================] - 0s 16ms/step - loss: 10.3974 - mse: 124.4545\n",
            "Epoch 17/100\n",
            "2/2 [==============================] - 0s 9ms/step - loss: 19.5889 - mse: 521.3776\n",
            "Epoch 18/100\n",
            "2/2 [==============================] - 0s 64ms/step - loss: 13.2450 - mse: 273.8150\n",
            "Epoch 19/100\n",
            "2/2 [==============================] - 0s 26ms/step - loss: 16.0000 - mse: 408.9774\n",
            "Epoch 20/100\n",
            "2/2 [==============================] - 0s 34ms/step - loss: 10.1788 - mse: 154.2726\n",
            "Epoch 21/100\n",
            "2/2 [==============================] - 0s 25ms/step - loss: 13.7180 - mse: 247.7590\n",
            "Epoch 22/100\n",
            "2/2 [==============================] - 0s 31ms/step - loss: 21.9093 - mse: 680.6179\n",
            "Epoch 23/100\n",
            "2/2 [==============================] - 0s 29ms/step - loss: 10.4553 - mse: 166.4434\n",
            "Epoch 24/100\n",
            "2/2 [==============================] - 0s 27ms/step - loss: 15.7542 - mse: 333.2505\n",
            "Epoch 25/100\n",
            "2/2 [==============================] - 0s 34ms/step - loss: 14.9017 - mse: 292.3033\n",
            "Epoch 26/100\n",
            "2/2 [==============================] - 0s 29ms/step - loss: 19.5326 - mse: 578.2390\n",
            "Epoch 27/100\n",
            "2/2 [==============================] - 0s 9ms/step - loss: 20.5125 - mse: 636.0159\n",
            "Epoch 28/100\n",
            "2/2 [==============================] - 0s 33ms/step - loss: 14.8882 - mse: 341.5932\n",
            "Epoch 29/100\n",
            "2/2 [==============================] - 0s 26ms/step - loss: 9.2576 - mse: 93.2960\n",
            "Epoch 30/100\n",
            "2/2 [==============================] - 0s 27ms/step - loss: 30.2602 - mse: 1671.4558\n",
            "Epoch 31/100\n",
            "2/2 [==============================] - 0s 25ms/step - loss: 54.9714 - mse: 5418.3369\n",
            "Epoch 32/100\n",
            "2/2 [==============================] - 0s 29ms/step - loss: 9.6737 - mse: 102.4739\n",
            "Epoch 33/100\n",
            "2/2 [==============================] - 0s 30ms/step - loss: 12.2815 - mse: 189.3046\n",
            "Epoch 34/100\n",
            "2/2 [==============================] - 0s 41ms/step - loss: 24.3868 - mse: 903.1226\n",
            "Epoch 35/100\n",
            "2/2 [==============================] - 0s 19ms/step - loss: 11.9623 - mse: 210.0582\n",
            "Epoch 36/100\n",
            "2/2 [==============================] - 0s 23ms/step - loss: 22.2223 - mse: 702.2606\n",
            "Epoch 37/100\n",
            "2/2 [==============================] - 0s 21ms/step - loss: 17.3620 - mse: 429.0307\n",
            "Epoch 38/100\n",
            "2/2 [==============================] - 0s 24ms/step - loss: 10.6597 - mse: 130.5598\n",
            "Epoch 39/100\n",
            "2/2 [==============================] - 0s 45ms/step - loss: 11.1770 - mse: 161.7129\n",
            "Epoch 40/100\n",
            "2/2 [==============================] - 0s 37ms/step - loss: 17.9808 - mse: 467.7687\n",
            "Epoch 41/100\n",
            "2/2 [==============================] - 0s 45ms/step - loss: 10.3970 - mse: 183.0882\n",
            "Epoch 42/100\n",
            "2/2 [==============================] - 0s 24ms/step - loss: 7.2662 - mse: 75.5000\n",
            "Epoch 43/100\n",
            "2/2 [==============================] - 0s 19ms/step - loss: 18.9508 - mse: 532.3311\n",
            "Epoch 44/100\n",
            "2/2 [==============================] - 0s 26ms/step - loss: 20.1071 - mse: 625.1934\n",
            "Epoch 45/100\n",
            "2/2 [==============================] - 0s 26ms/step - loss: 10.1179 - mse: 127.6388\n",
            "Epoch 46/100\n",
            "2/2 [==============================] - 0s 21ms/step - loss: 11.3806 - mse: 160.4424\n",
            "Epoch 47/100\n",
            "2/2 [==============================] - 0s 25ms/step - loss: 9.8141 - mse: 152.7678\n",
            "Epoch 48/100\n",
            "2/2 [==============================] - 0s 26ms/step - loss: 17.6011 - mse: 421.2370\n",
            "Epoch 49/100\n",
            "2/2 [==============================] - 0s 64ms/step - loss: 9.3334 - mse: 95.5396\n",
            "Epoch 50/100\n",
            "2/2 [==============================] - 0s 32ms/step - loss: 13.3864 - mse: 236.6738\n",
            "Epoch 51/100\n",
            "2/2 [==============================] - 0s 19ms/step - loss: 11.4349 - mse: 148.7061\n",
            "Epoch 52/100\n",
            "2/2 [==============================] - 0s 26ms/step - loss: 29.4455 - mse: 1487.3167\n",
            "Epoch 53/100\n",
            "2/2 [==============================] - 0s 20ms/step - loss: 16.7741 - mse: 416.6563\n",
            "Epoch 54/100\n",
            "2/2 [==============================] - 0s 15ms/step - loss: 21.7598 - mse: 698.4205\n",
            "Epoch 55/100\n",
            "2/2 [==============================] - 0s 20ms/step - loss: 22.2099 - mse: 738.4095\n",
            "Epoch 56/100\n",
            "2/2 [==============================] - 0s 31ms/step - loss: 11.2506 - mse: 171.4243\n",
            "Epoch 57/100\n",
            "2/2 [==============================] - 0s 16ms/step - loss: 13.2357 - mse: 219.3180\n",
            "Epoch 58/100\n",
            "2/2 [==============================] - 0s 15ms/step - loss: 9.8799 - mse: 107.7601\n",
            "Epoch 59/100\n",
            "2/2 [==============================] - 0s 22ms/step - loss: 13.4337 - mse: 256.5703\n",
            "Epoch 60/100\n",
            "2/2 [==============================] - 0s 27ms/step - loss: 10.9486 - mse: 142.1077\n",
            "Epoch 61/100\n",
            "2/2 [==============================] - 0s 31ms/step - loss: 13.5809 - mse: 247.6789\n",
            "Epoch 62/100\n",
            "2/2 [==============================] - 0s 22ms/step - loss: 17.9284 - mse: 489.3730\n",
            "Epoch 63/100\n",
            "2/2 [==============================] - 0s 24ms/step - loss: 8.7456 - mse: 91.7391\n",
            "Epoch 64/100\n",
            "2/2 [==============================] - 0s 36ms/step - loss: 16.1771 - mse: 375.2500\n",
            "Epoch 65/100\n",
            "2/2 [==============================] - 0s 25ms/step - loss: 10.7578 - mse: 147.5918\n",
            "Epoch 66/100\n",
            "2/2 [==============================] - 0s 50ms/step - loss: 22.2493 - mse: 733.7589\n",
            "Epoch 67/100\n",
            "2/2 [==============================] - 0s 32ms/step - loss: 10.2843 - mse: 121.6479\n",
            "Epoch 68/100\n",
            "2/2 [==============================] - 0s 58ms/step - loss: 13.5073 - mse: 270.8920\n",
            "Epoch 69/100\n",
            "2/2 [==============================] - 0s 45ms/step - loss: 11.4565 - mse: 164.5012\n",
            "Epoch 70/100\n",
            "2/2 [==============================] - 0s 24ms/step - loss: 13.6453 - mse: 247.4446\n",
            "Epoch 71/100\n",
            "2/2 [==============================] - 0s 29ms/step - loss: 15.6751 - mse: 349.2028\n",
            "Epoch 72/100\n",
            "2/2 [==============================] - 0s 48ms/step - loss: 11.8765 - mse: 169.5349\n",
            "Epoch 73/100\n",
            "2/2 [==============================] - 0s 47ms/step - loss: 16.6718 - mse: 374.6955\n",
            "Epoch 74/100\n",
            "2/2 [==============================] - 0s 29ms/step - loss: 24.2397 - mse: 925.2160\n",
            "Epoch 75/100\n",
            "2/2 [==============================] - 0s 38ms/step - loss: 9.6547 - mse: 148.8184\n",
            "Epoch 76/100\n",
            "2/2 [==============================] - 0s 24ms/step - loss: 12.5120 - mse: 190.9306\n",
            "Epoch 77/100\n",
            "2/2 [==============================] - 0s 23ms/step - loss: 16.7866 - mse: 437.4050\n",
            "Epoch 78/100\n",
            "2/2 [==============================] - 0s 24ms/step - loss: 9.0935 - mse: 97.2200\n",
            "Epoch 79/100\n",
            "2/2 [==============================] - 0s 27ms/step - loss: 24.1279 - mse: 877.4036\n",
            "Epoch 80/100\n",
            "2/2 [==============================] - 0s 25ms/step - loss: 26.9409 - mse: 1122.2549\n",
            "Epoch 81/100\n",
            "2/2 [==============================] - 0s 21ms/step - loss: 11.7749 - mse: 175.0089\n",
            "Epoch 82/100\n",
            "2/2 [==============================] - 0s 24ms/step - loss: 11.9762 - mse: 211.2362\n",
            "Epoch 83/100\n",
            "2/2 [==============================] - 0s 39ms/step - loss: 17.3572 - mse: 392.4072\n",
            "Epoch 84/100\n",
            "2/2 [==============================] - 0s 31ms/step - loss: 6.8485 - mse: 63.9410\n",
            "Epoch 85/100\n",
            "2/2 [==============================] - 0s 30ms/step - loss: 16.0215 - mse: 361.8776\n",
            "Epoch 86/100\n",
            "2/2 [==============================] - 0s 31ms/step - loss: 15.8659 - mse: 335.3576\n",
            "Epoch 87/100\n",
            "2/2 [==============================] - 0s 27ms/step - loss: 20.3353 - mse: 578.9276\n",
            "Epoch 88/100\n",
            "2/2 [==============================] - 0s 26ms/step - loss: 34.0451 - mse: 1701.3379\n",
            "Epoch 89/100\n",
            "2/2 [==============================] - 0s 20ms/step - loss: 10.6320 - mse: 132.0490\n",
            "Epoch 90/100\n",
            "2/2 [==============================] - 0s 25ms/step - loss: 23.5276 - mse: 800.7516\n",
            "Epoch 91/100\n",
            "2/2 [==============================] - 0s 32ms/step - loss: 11.1350 - mse: 160.2733\n",
            "Epoch 92/100\n",
            "2/2 [==============================] - 0s 50ms/step - loss: 20.3865 - mse: 575.1859\n",
            "Epoch 93/100\n",
            "2/2 [==============================] - 0s 24ms/step - loss: 6.5433 - mse: 60.6105\n",
            "Epoch 94/100\n",
            "2/2 [==============================] - 0s 19ms/step - loss: 11.1681 - mse: 155.4722\n",
            "Epoch 95/100\n",
            "2/2 [==============================] - 0s 19ms/step - loss: 24.5971 - mse: 908.6948\n",
            "Epoch 96/100\n",
            "2/2 [==============================] - 0s 26ms/step - loss: 10.7789 - mse: 171.6801\n",
            "Epoch 97/100\n",
            "2/2 [==============================] - 0s 31ms/step - loss: 15.5102 - mse: 365.1245\n",
            "Epoch 98/100\n",
            "2/2 [==============================] - 0s 16ms/step - loss: 9.0503 - mse: 143.5184\n",
            "Epoch 99/100\n",
            "2/2 [==============================] - 0s 18ms/step - loss: 10.8671 - mse: 138.9847\n",
            "Epoch 100/100\n",
            "2/2 [==============================] - 0s 36ms/step - loss: 27.1308 - mse: 1122.7937\n"
          ]
        },
        {
          "output_type": "execute_result",
          "data": {
            "text/plain": [
              "<keras.src.callbacks.History at 0x78feab0a59c0>"
            ]
          },
          "metadata": {},
          "execution_count": 151
        }
      ]
    },
    {
      "cell_type": "code",
      "source": [
        "y_preds_2=model_2.predict(X_test)\n",
        "plot_predictions(predictions=y_preds_2)"
      ],
      "metadata": {
        "colab": {
          "base_uri": "https://localhost:8080/",
          "height": 617
        },
        "id": "zIfg3QnkdAeC",
        "outputId": "1437ae8c-c397-4f0d-ad36-b00a0d28a7d6"
      },
      "execution_count": 152,
      "outputs": [
        {
          "output_type": "stream",
          "name": "stdout",
          "text": [
            "1/1 [==============================] - 0s 100ms/step\n"
          ]
        },
        {
          "output_type": "display_data",
          "data": {
            "text/plain": [
              "<Figure size 1000x700 with 1 Axes>"
            ],
            "image/png": "[encoded data removed]"
          },
          "metadata": {}
        }
      ]
    },
    {
      "cell_type": "code",
      "source": [
        "print_eval(y_test, tf.squeeze(y_preds_2))"
      ],
      "metadata": {
        "colab": {
          "base_uri": "https://localhost:8080/"
        },
        "id": "ehQLTv5gdMuO",
        "outputId": "e3b8b049-f9ca-4f4b-9b5f-6ed204f3405d"
      },
      "execution_count": 153,
      "outputs": [
        {
          "output_type": "stream",
          "name": "stdout",
          "text": [
            "MAE: 10.190092086791992\n",
            "MSE: 111.21623229980469\n"
          ]
        }
      ]
    },
    {
      "cell_type": "code",
      "source": [
        "##model_3\n",
        "\n",
        "tf.random.set_seed(42)\n",
        "model_3=tf.keras.Sequential([\n",
        "    tf.keras.layers.Dense(10),\n",
        "    tf.keras.layers.Dense(1)\n",
        "])\n",
        "\n",
        "model_3.compile(loss=tf.keras.losses.mae,\n",
        "                optimizer=tf.keras.optimizers.SGD(),\n",
        "                metrics=[\"mse\"])\n",
        "model_3.fit(tf.expand_dims(X_train, axis=-1), y_train, epochs=500)"
      ],
      "metadata": {
        "colab": {
          "base_uri": "https://localhost:8080/"
        },
        "id": "3IX0QrVedRow",
        "outputId": "2f6174d8-ebd0-4423-88a2-ccec58b76101"
      },
      "execution_count": 159,
      "outputs": [
        {
          "output_type": "stream",
          "name": "stdout",
          "text": [
            "Epoch 1/500\n",
            "2/2 [==============================] - 1s 18ms/step - loss: 54.9366 - mse: 4723.5254\n",
            "Epoch 2/500\n",
            "2/2 [==============================] - 0s 16ms/step - loss: 29.7603 - mse: 1159.6974\n",
            "Epoch 3/500\n",
            "2/2 [==============================] - 0s 8ms/step - loss: 34.4615 - mse: 1797.9670\n",
            "Epoch 4/500\n",
            "2/2 [==============================] - 0s 8ms/step - loss: 29.1491 - mse: 1258.1277\n",
            "Epoch 5/500\n",
            "2/2 [==============================] - 0s 9ms/step - loss: 15.7752 - mse: 325.7520\n",
            "Epoch 6/500\n",
            "2/2 [==============================] - 0s 10ms/step - loss: 12.4975 - mse: 202.3321\n",
            "Epoch 7/500\n",
            "2/2 [==============================] - 0s 17ms/step - loss: 11.7580 - mse: 170.8950\n",
            "Epoch 8/500\n",
            "2/2 [==============================] - 0s 9ms/step - loss: 12.1127 - mse: 204.0414\n",
            "Epoch 9/500\n",
            "2/2 [==============================] - 0s 9ms/step - loss: 38.1305 - mse: 2248.7407\n",
            "Epoch 10/500\n",
            "2/2 [==============================] - 0s 9ms/step - loss: 25.7010 - mse: 927.9344\n",
            "Epoch 11/500\n",
            "2/2 [==============================] - 0s 12ms/step - loss: 10.2397 - mse: 148.5055\n",
            "Epoch 12/500\n",
            "2/2 [==============================] - 0s 10ms/step - loss: 25.2543 - mse: 889.1732\n",
            "Epoch 13/500\n",
            "2/2 [==============================] - 0s 8ms/step - loss: 17.0853 - mse: 405.8341\n",
            "Epoch 14/500\n",
            "2/2 [==============================] - 0s 8ms/step - loss: 26.1145 - mse: 1067.1372\n",
            "Epoch 15/500\n",
            "2/2 [==============================] - 0s 8ms/step - loss: 18.1504 - mse: 458.0865\n",
            "Epoch 16/500\n",
            "2/2 [==============================] - 0s 11ms/step - loss: 7.8489 - mse: 89.1386\n",
            "Epoch 17/500\n",
            "2/2 [==============================] - 0s 10ms/step - loss: 22.2751 - mse: 687.9933\n",
            "Epoch 18/500\n",
            "2/2 [==============================] - 0s 7ms/step - loss: 10.8352 - mse: 173.3608\n",
            "Epoch 19/500\n",
            "2/2 [==============================] - 0s 10ms/step - loss: 10.7273 - mse: 140.3337\n",
            "Epoch 20/500\n",
            "2/2 [==============================] - 0s 8ms/step - loss: 12.0519 - mse: 165.9057\n",
            "Epoch 21/500\n",
            "2/2 [==============================] - 0s 9ms/step - loss: 20.2209 - mse: 594.2256\n",
            "Epoch 22/500\n",
            "2/2 [==============================] - 0s 8ms/step - loss: 13.8204 - mse: 245.1781\n",
            "Epoch 23/500\n",
            "2/2 [==============================] - 0s 8ms/step - loss: 9.5533 - mse: 95.2322\n",
            "Epoch 24/500\n",
            "2/2 [==============================] - 0s 9ms/step - loss: 11.9136 - mse: 164.4017\n",
            "Epoch 25/500\n",
            "2/2 [==============================] - 0s 9ms/step - loss: 16.2862 - mse: 388.7411\n",
            "Epoch 26/500\n",
            "2/2 [==============================] - 0s 9ms/step - loss: 16.4731 - mse: 378.3818\n",
            "Epoch 27/500\n",
            "2/2 [==============================] - 0s 12ms/step - loss: 11.5998 - mse: 183.6491\n",
            "Epoch 28/500\n",
            "2/2 [==============================] - 0s 15ms/step - loss: 30.1552 - mse: 1483.4760\n",
            "Epoch 29/500\n",
            "2/2 [==============================] - 0s 12ms/step - loss: 9.2414 - mse: 92.1031\n",
            "Epoch 30/500\n",
            "2/2 [==============================] - 0s 9ms/step - loss: 30.6762 - mse: 1729.6692\n",
            "Epoch 31/500\n",
            "2/2 [==============================] - 0s 10ms/step - loss: 41.9713 - mse: 3079.1689\n",
            "Epoch 32/500\n",
            "2/2 [==============================] - 0s 8ms/step - loss: 11.8813 - mse: 205.4422\n",
            "Epoch 33/500\n",
            "2/2 [==============================] - 0s 8ms/step - loss: 15.4828 - mse: 330.4855\n",
            "Epoch 34/500\n",
            "2/2 [==============================] - 0s 8ms/step - loss: 12.5725 - mse: 208.8929\n",
            "Epoch 35/500\n",
            "2/2 [==============================] - 0s 11ms/step - loss: 9.1722 - mse: 91.2022\n",
            "Epoch 36/500\n",
            "2/2 [==============================] - 0s 10ms/step - loss: 16.4957 - mse: 395.9377\n",
            "Epoch 37/500\n",
            "2/2 [==============================] - 0s 9ms/step - loss: 11.0547 - mse: 191.7431\n",
            "Epoch 38/500\n",
            "2/2 [==============================] - 0s 10ms/step - loss: 18.1836 - mse: 435.4492\n",
            "Epoch 39/500\n",
            "2/2 [==============================] - 0s 10ms/step - loss: 19.1149 - mse: 531.6516\n",
            "Epoch 40/500\n",
            "2/2 [==============================] - 0s 10ms/step - loss: 20.4629 - mse: 612.0340\n",
            "Epoch 41/500\n",
            "2/2 [==============================] - 0s 8ms/step - loss: 14.8290 - mse: 276.3524\n",
            "Epoch 42/500\n",
            "2/2 [==============================] - 0s 8ms/step - loss: 12.2194 - mse: 184.3732\n",
            "Epoch 43/500\n",
            "2/2 [==============================] - 0s 9ms/step - loss: 10.6863 - mse: 165.3864\n",
            "Epoch 44/500\n",
            "2/2 [==============================] - 0s 8ms/step - loss: 22.9814 - mse: 826.7313\n",
            "Epoch 45/500\n",
            "2/2 [==============================] - 0s 8ms/step - loss: 10.3462 - mse: 128.1749\n",
            "Epoch 46/500\n",
            "2/2 [==============================] - 0s 9ms/step - loss: 11.7463 - mse: 180.7506\n",
            "Epoch 47/500\n",
            "2/2 [==============================] - 0s 10ms/step - loss: 9.6247 - mse: 153.3111\n",
            "Epoch 48/500\n",
            "2/2 [==============================] - 0s 8ms/step - loss: 17.2157 - mse: 402.3330\n",
            "Epoch 49/500\n",
            "2/2 [==============================] - 0s 8ms/step - loss: 9.5485 - mse: 99.3739\n",
            "Epoch 50/500\n",
            "2/2 [==============================] - 0s 8ms/step - loss: 13.8029 - mse: 260.5883\n",
            "Epoch 51/500\n",
            "2/2 [==============================] - 0s 8ms/step - loss: 11.5719 - mse: 154.5098\n",
            "Epoch 52/500\n",
            "2/2 [==============================] - 0s 8ms/step - loss: 30.6435 - mse: 1622.8331\n",
            "Epoch 53/500\n",
            "2/2 [==============================] - 0s 8ms/step - loss: 14.3780 - mse: 303.8191\n",
            "Epoch 54/500\n",
            "2/2 [==============================] - 0s 8ms/step - loss: 24.0377 - mse: 864.2969\n",
            "Epoch 55/500\n",
            "2/2 [==============================] - 0s 8ms/step - loss: 23.2601 - mse: 810.3840\n",
            "Epoch 56/500\n",
            "2/2 [==============================] - 0s 9ms/step - loss: 10.8764 - mse: 170.1629\n",
            "Epoch 57/500\n",
            "2/2 [==============================] - 0s 8ms/step - loss: 12.7538 - mse: 199.6581\n",
            "Epoch 58/500\n",
            "2/2 [==============================] - 0s 11ms/step - loss: 9.5969 - mse: 102.3995\n",
            "Epoch 59/500\n",
            "2/2 [==============================] - 0s 14ms/step - loss: 12.9368 - mse: 230.3858\n",
            "Epoch 60/500\n",
            "2/2 [==============================] - 0s 11ms/step - loss: 10.6395 - mse: 132.1427\n",
            "Epoch 61/500\n",
            "2/2 [==============================] - 0s 12ms/step - loss: 17.4095 - mse: 426.1678\n",
            "Epoch 62/500\n",
            "2/2 [==============================] - 0s 11ms/step - loss: 10.5618 - mse: 135.9770\n",
            "Epoch 63/500\n",
            "2/2 [==============================] - 0s 10ms/step - loss: 10.4520 - mse: 151.5024\n",
            "Epoch 64/500\n",
            "2/2 [==============================] - 0s 9ms/step - loss: 24.8309 - mse: 910.6199\n",
            "Epoch 65/500\n",
            "2/2 [==============================] - 0s 8ms/step - loss: 10.6416 - mse: 142.1245\n",
            "Epoch 66/500\n",
            "2/2 [==============================] - 0s 8ms/step - loss: 21.9651 - mse: 713.7030\n",
            "Epoch 67/500\n",
            "2/2 [==============================] - 0s 8ms/step - loss: 10.1634 - mse: 118.8832\n",
            "Epoch 68/500\n",
            "2/2 [==============================] - 0s 9ms/step - loss: 13.3347 - mse: 263.5932\n",
            "Epoch 69/500\n",
            "2/2 [==============================] - 0s 11ms/step - loss: 11.3244 - mse: 159.1272\n",
            "Epoch 70/500\n",
            "2/2 [==============================] - 0s 8ms/step - loss: 13.5037 - mse: 241.4634\n",
            "Epoch 71/500\n",
            "2/2 [==============================] - 0s 9ms/step - loss: 15.5162 - mse: 342.3040\n",
            "Epoch 72/500\n",
            "2/2 [==============================] - 0s 9ms/step - loss: 11.7670 - mse: 165.9049\n",
            "Epoch 73/500\n",
            "2/2 [==============================] - 0s 8ms/step - loss: 16.5497 - mse: 369.3299\n",
            "Epoch 74/500\n",
            "2/2 [==============================] - 0s 8ms/step - loss: 24.0712 - mse: 911.3084\n",
            "Epoch 75/500\n",
            "2/2 [==============================] - 0s 9ms/step - loss: 9.5701 - mse: 148.5058\n",
            "Epoch 76/500\n",
            "2/2 [==============================] - 0s 9ms/step - loss: 12.4225 - mse: 188.3215\n",
            "Epoch 77/500\n",
            "2/2 [==============================] - 0s 9ms/step - loss: 16.6917 - mse: 432.0948\n",
            "Epoch 78/500\n",
            "2/2 [==============================] - 0s 9ms/step - loss: 9.0370 - mse: 95.6449\n",
            "Epoch 79/500\n",
            "2/2 [==============================] - 0s 9ms/step - loss: 24.0541 - mse: 871.0363\n",
            "Epoch 80/500\n",
            "2/2 [==============================] - 0s 11ms/step - loss: 26.8500 - mse: 1113.8755\n",
            "Epoch 81/500\n",
            "2/2 [==============================] - 0s 11ms/step - loss: 11.6926 - mse: 172.5086\n",
            "Epoch 82/500\n",
            "2/2 [==============================] - 0s 9ms/step - loss: 11.9760 - mse: 210.8730\n",
            "Epoch 83/500\n",
            "2/2 [==============================] - 0s 11ms/step - loss: 17.3531 - mse: 392.4963\n",
            "Epoch 84/500\n",
            "2/2 [==============================] - 0s 9ms/step - loss: 7.2260 - mse: 72.7286\n",
            "Epoch 85/500\n",
            "2/2 [==============================] - 0s 9ms/step - loss: 14.9014 - mse: 310.4851\n",
            "Epoch 86/500\n",
            "2/2 [==============================] - 0s 9ms/step - loss: 15.2309 - mse: 313.8530\n",
            "Epoch 87/500\n",
            "2/2 [==============================] - 0s 9ms/step - loss: 19.0066 - mse: 516.6671\n",
            "Epoch 88/500\n",
            "2/2 [==============================] - 0s 9ms/step - loss: 30.0778 - mse: 1310.9283\n",
            "Epoch 89/500\n",
            "2/2 [==============================] - 0s 9ms/step - loss: 10.1861 - mse: 123.8053\n",
            "Epoch 90/500\n",
            "2/2 [==============================] - 0s 10ms/step - loss: 21.7506 - mse: 678.2679\n",
            "Epoch 91/500\n",
            "2/2 [==============================] - 0s 9ms/step - loss: 10.6034 - mse: 160.3372\n",
            "Epoch 92/500\n",
            "2/2 [==============================] - 0s 8ms/step - loss: 18.6136 - mse: 475.9028\n",
            "Epoch 93/500\n",
            "2/2 [==============================] - 0s 10ms/step - loss: 8.1586 - mse: 104.0302\n",
            "Epoch 94/500\n",
            "2/2 [==============================] - 0s 10ms/step - loss: 11.3775 - mse: 169.1333\n",
            "Epoch 95/500\n",
            "2/2 [==============================] - 0s 9ms/step - loss: 25.6163 - mse: 991.8290\n",
            "Epoch 96/500\n",
            "2/2 [==============================] - 0s 9ms/step - loss: 11.0031 - mse: 168.8446\n",
            "Epoch 97/500\n",
            "2/2 [==============================] - 0s 9ms/step - loss: 16.4349 - mse: 411.9567\n",
            "Epoch 98/500\n",
            "2/2 [==============================] - 0s 8ms/step - loss: 6.7959 - mse: 65.1242\n",
            "Epoch 99/500\n",
            "2/2 [==============================] - 0s 8ms/step - loss: 11.6539 - mse: 213.3180\n",
            "Epoch 100/500\n",
            "2/2 [==============================] - 0s 8ms/step - loss: 23.4378 - mse: 764.1940\n",
            "Epoch 101/500\n",
            "2/2 [==============================] - 0s 8ms/step - loss: 21.4176 - mse: 694.5343\n",
            "Epoch 102/500\n",
            "2/2 [==============================] - 0s 8ms/step - loss: 10.7866 - mse: 158.7698\n",
            "Epoch 103/500\n",
            "2/2 [==============================] - 0s 10ms/step - loss: 9.1583 - mse: 95.1909\n",
            "Epoch 104/500\n",
            "2/2 [==============================] - 0s 10ms/step - loss: 24.0642 - mse: 867.9782\n",
            "Epoch 105/500\n",
            "2/2 [==============================] - 0s 11ms/step - loss: 10.8752 - mse: 165.0666\n",
            "Epoch 106/500\n",
            "2/2 [==============================] - 0s 8ms/step - loss: 11.3360 - mse: 181.6453\n",
            "Epoch 107/500\n",
            "2/2 [==============================] - 0s 9ms/step - loss: 21.6869 - mse: 702.1835\n",
            "Epoch 108/500\n",
            "2/2 [==============================] - 0s 10ms/step - loss: 7.1892 - mse: 72.2904\n",
            "Epoch 109/500\n",
            "2/2 [==============================] - 0s 11ms/step - loss: 18.9098 - mse: 508.4132\n",
            "Epoch 110/500\n",
            "2/2 [==============================] - 0s 12ms/step - loss: 11.0289 - mse: 198.6935\n",
            "Epoch 111/500\n",
            "2/2 [==============================] - 0s 14ms/step - loss: 17.5736 - mse: 446.2869\n",
            "Epoch 112/500\n",
            "2/2 [==============================] - 0s 10ms/step - loss: 7.1453 - mse: 79.4879\n",
            "Epoch 113/500\n",
            "2/2 [==============================] - 0s 10ms/step - loss: 19.5757 - mse: 553.7330\n",
            "Epoch 114/500\n",
            "2/2 [==============================] - 0s 9ms/step - loss: 17.2784 - mse: 446.9132\n",
            "Epoch 115/500\n",
            "2/2 [==============================] - 0s 9ms/step - loss: 11.1494 - mse: 156.9165\n",
            "Epoch 116/500\n",
            "2/2 [==============================] - 0s 12ms/step - loss: 23.4480 - mse: 802.0208\n",
            "Epoch 117/500\n",
            "2/2 [==============================] - 0s 9ms/step - loss: 9.6559 - mse: 126.0011\n",
            "Epoch 118/500\n",
            "2/2 [==============================] - 0s 10ms/step - loss: 10.7410 - mse: 141.7467\n",
            "Epoch 119/500\n",
            "2/2 [==============================] - 0s 10ms/step - loss: 8.0392 - mse: 79.4392\n",
            "Epoch 120/500\n",
            "2/2 [==============================] - 0s 9ms/step - loss: 29.8817 - mse: 1334.5898\n",
            "Epoch 121/500\n",
            "2/2 [==============================] - 0s 10ms/step - loss: 8.0738 - mse: 70.9427\n",
            "Epoch 122/500\n",
            "2/2 [==============================] - 0s 9ms/step - loss: 28.4739 - mse: 1250.5544\n",
            "Epoch 123/500\n",
            "2/2 [==============================] - 0s 8ms/step - loss: 33.1065 - mse: 1613.6718\n",
            "Epoch 124/500\n",
            "2/2 [==============================] - 0s 8ms/step - loss: 19.7835 - mse: 580.9915\n",
            "Epoch 125/500\n",
            "2/2 [==============================] - 0s 9ms/step - loss: 7.6438 - mse: 93.3549\n",
            "Epoch 126/500\n",
            "2/2 [==============================] - 0s 9ms/step - loss: 17.0704 - mse: 400.6532\n",
            "Epoch 127/500\n",
            "2/2 [==============================] - 0s 9ms/step - loss: 7.4798 - mse: 67.7940\n",
            "Epoch 128/500\n",
            "2/2 [==============================] - 0s 9ms/step - loss: 18.0772 - mse: 471.6425\n",
            "Epoch 129/500\n",
            "2/2 [==============================] - 0s 8ms/step - loss: 8.7465 - mse: 99.3037\n",
            "Epoch 130/500\n",
            "2/2 [==============================] - 0s 10ms/step - loss: 22.4955 - mse: 712.0604\n",
            "Epoch 131/500\n",
            "2/2 [==============================] - 0s 10ms/step - loss: 10.2059 - mse: 146.5368\n",
            "Epoch 132/500\n",
            "2/2 [==============================] - 0s 8ms/step - loss: 14.9821 - mse: 337.4182\n",
            "Epoch 133/500\n",
            "2/2 [==============================] - 0s 9ms/step - loss: 7.0671 - mse: 65.5484\n",
            "Epoch 134/500\n",
            "2/2 [==============================] - 0s 9ms/step - loss: 23.8742 - mse: 814.6248\n",
            "Epoch 135/500\n",
            "2/2 [==============================] - 0s 9ms/step - loss: 16.5715 - mse: 385.5150\n",
            "Epoch 136/500\n",
            "2/2 [==============================] - 0s 9ms/step - loss: 14.8047 - mse: 306.9382\n",
            "Epoch 137/500\n",
            "2/2 [==============================] - 0s 8ms/step - loss: 23.0560 - mse: 717.0566\n",
            "Epoch 138/500\n",
            "2/2 [==============================] - 0s 9ms/step - loss: 9.0824 - mse: 139.3150\n",
            "Epoch 139/500\n",
            "2/2 [==============================] - 0s 9ms/step - loss: 8.8815 - mse: 144.7566\n",
            "Epoch 140/500\n",
            "2/2 [==============================] - 0s 9ms/step - loss: 16.4146 - mse: 386.7312\n",
            "Epoch 141/500\n",
            "2/2 [==============================] - 0s 8ms/step - loss: 8.3982 - mse: 90.8188\n",
            "Epoch 142/500\n",
            "2/2 [==============================] - 0s 8ms/step - loss: 36.8877 - mse: 2394.6472\n",
            "Epoch 143/500\n",
            "2/2 [==============================] - 0s 10ms/step - loss: 25.5152 - mse: 922.1356\n",
            "Epoch 144/500\n",
            "2/2 [==============================] - 0s 9ms/step - loss: 9.5269 - mse: 143.6772\n",
            "Epoch 145/500\n",
            "2/2 [==============================] - 0s 9ms/step - loss: 26.6138 - mse: 957.8576\n",
            "Epoch 146/500\n",
            "2/2 [==============================] - 0s 8ms/step - loss: 8.6920 - mse: 108.7811\n",
            "Epoch 147/500\n",
            "2/2 [==============================] - 0s 8ms/step - loss: 15.6110 - mse: 310.9455\n",
            "Epoch 148/500\n",
            "2/2 [==============================] - 0s 9ms/step - loss: 18.3020 - mse: 464.7436\n",
            "Epoch 149/500\n",
            "2/2 [==============================] - 0s 10ms/step - loss: 8.1841 - mse: 106.1247\n",
            "Epoch 150/500\n",
            "2/2 [==============================] - 0s 9ms/step - loss: 7.4802 - mse: 66.1464\n",
            "Epoch 151/500\n",
            "2/2 [==============================] - 0s 9ms/step - loss: 18.3505 - mse: 486.8188\n",
            "Epoch 152/500\n",
            "2/2 [==============================] - 0s 10ms/step - loss: 10.2774 - mse: 130.4453\n",
            "Epoch 153/500\n",
            "2/2 [==============================] - 0s 9ms/step - loss: 29.6842 - mse: 1272.5601\n",
            "Epoch 154/500\n",
            "2/2 [==============================] - 0s 9ms/step - loss: 10.5366 - mse: 201.2412\n",
            "Epoch 155/500\n",
            "2/2 [==============================] - 0s 9ms/step - loss: 15.4364 - mse: 346.2992\n",
            "Epoch 156/500\n",
            "2/2 [==============================] - 0s 9ms/step - loss: 16.9835 - mse: 437.5924\n",
            "Epoch 157/500\n",
            "2/2 [==============================] - 0s 11ms/step - loss: 32.9047 - mse: 1754.1852\n",
            "Epoch 158/500\n",
            "2/2 [==============================] - 0s 9ms/step - loss: 10.7106 - mse: 151.4751\n",
            "Epoch 159/500\n",
            "2/2 [==============================] - 0s 11ms/step - loss: 8.9021 - mse: 97.6016\n",
            "Epoch 160/500\n",
            "2/2 [==============================] - 0s 10ms/step - loss: 22.2082 - mse: 714.7499\n",
            "Epoch 161/500\n",
            "2/2 [==============================] - 0s 9ms/step - loss: 11.7295 - mse: 203.8411\n",
            "Epoch 162/500\n",
            "2/2 [==============================] - 0s 9ms/step - loss: 21.6526 - mse: 675.5089\n",
            "Epoch 163/500\n",
            "2/2 [==============================] - 0s 11ms/step - loss: 19.3224 - mse: 537.5907\n",
            "Epoch 164/500\n",
            "2/2 [==============================] - 0s 14ms/step - loss: 11.0527 - mse: 179.4916\n",
            "Epoch 165/500\n",
            "2/2 [==============================] - 0s 17ms/step - loss: 9.5957 - mse: 180.7477\n",
            "Epoch 166/500\n",
            "2/2 [==============================] - 0s 8ms/step - loss: 21.5382 - mse: 679.2966\n",
            "Epoch 167/500\n",
            "2/2 [==============================] - 0s 9ms/step - loss: 26.4129 - mse: 1059.5928\n",
            "Epoch 168/500\n",
            "2/2 [==============================] - 0s 7ms/step - loss: 9.8605 - mse: 118.3510\n",
            "Epoch 169/500\n",
            "2/2 [==============================] - 0s 9ms/step - loss: 22.7070 - mse: 797.2015\n",
            "Epoch 170/500\n",
            "2/2 [==============================] - 0s 9ms/step - loss: 10.1181 - mse: 196.6712\n",
            "Epoch 171/500\n",
            "2/2 [==============================] - 0s 9ms/step - loss: 17.9784 - mse: 500.4772\n",
            "Epoch 172/500\n",
            "2/2 [==============================] - 0s 10ms/step - loss: 28.9993 - mse: 1321.7367\n",
            "Epoch 173/500\n",
            "2/2 [==============================] - 0s 12ms/step - loss: 16.6505 - mse: 437.8334\n",
            "Epoch 174/500\n",
            "2/2 [==============================] - 0s 9ms/step - loss: 11.1898 - mse: 200.7400\n",
            "Epoch 175/500\n",
            "2/2 [==============================] - 0s 8ms/step - loss: 27.5395 - mse: 1094.7109\n",
            "Epoch 176/500\n",
            "2/2 [==============================] - 0s 9ms/step - loss: 8.3002 - mse: 78.2479\n",
            "Epoch 177/500\n",
            "2/2 [==============================] - 0s 11ms/step - loss: 9.2787 - mse: 109.3116\n",
            "Epoch 178/500\n",
            "2/2 [==============================] - 0s 11ms/step - loss: 18.2947 - mse: 473.0917\n",
            "Epoch 179/500\n",
            "2/2 [==============================] - 0s 10ms/step - loss: 10.5253 - mse: 146.0851\n",
            "Epoch 180/500\n",
            "2/2 [==============================] - 0s 10ms/step - loss: 7.9113 - mse: 99.3850\n",
            "Epoch 181/500\n",
            "2/2 [==============================] - 0s 8ms/step - loss: 17.5399 - mse: 445.1930\n",
            "Epoch 182/500\n",
            "2/2 [==============================] - 0s 9ms/step - loss: 11.0577 - mse: 158.6153\n",
            "Epoch 183/500\n",
            "2/2 [==============================] - 0s 9ms/step - loss: 12.2737 - mse: 228.7891\n",
            "Epoch 184/500\n",
            "2/2 [==============================] - 0s 9ms/step - loss: 27.0841 - mse: 1088.0013\n",
            "Epoch 185/500\n",
            "2/2 [==============================] - 0s 8ms/step - loss: 8.1693 - mse: 130.1602\n",
            "Epoch 186/500\n",
            "2/2 [==============================] - 0s 9ms/step - loss: 22.7077 - mse: 730.2732\n",
            "Epoch 187/500\n",
            "2/2 [==============================] - 0s 9ms/step - loss: 19.1964 - mse: 515.6141\n",
            "Epoch 188/500\n",
            "2/2 [==============================] - 0s 9ms/step - loss: 13.6115 - mse: 259.6866\n",
            "Epoch 189/500\n",
            "2/2 [==============================] - 0s 8ms/step - loss: 15.0661 - mse: 302.1003\n",
            "Epoch 190/500\n",
            "2/2 [==============================] - 0s 9ms/step - loss: 20.6101 - mse: 655.0968\n",
            "Epoch 191/500\n",
            "2/2 [==============================] - 0s 9ms/step - loss: 22.2281 - mse: 702.2094\n",
            "Epoch 192/500\n",
            "2/2 [==============================] - 0s 10ms/step - loss: 10.0140 - mse: 172.1600\n",
            "Epoch 193/500\n",
            "2/2 [==============================] - 0s 13ms/step - loss: 28.6082 - mse: 1136.7576\n",
            "Epoch 194/500\n",
            "2/2 [==============================] - 0s 9ms/step - loss: 7.0476 - mse: 79.1319\n",
            "Epoch 195/500\n",
            "2/2 [==============================] - 0s 9ms/step - loss: 7.7877 - mse: 99.7939\n",
            "Epoch 196/500\n",
            "2/2 [==============================] - 0s 10ms/step - loss: 26.0315 - mse: 960.3417\n",
            "Epoch 197/500\n",
            "2/2 [==============================] - 0s 9ms/step - loss: 11.5780 - mse: 188.8081\n",
            "Epoch 198/500\n",
            "2/2 [==============================] - 0s 9ms/step - loss: 18.9276 - mse: 530.1859\n",
            "Epoch 199/500\n",
            "2/2 [==============================] - 0s 8ms/step - loss: 16.7182 - mse: 405.9026\n",
            "Epoch 200/500\n",
            "2/2 [==============================] - 0s 9ms/step - loss: 12.4023 - mse: 228.4787\n",
            "Epoch 201/500\n",
            "2/2 [==============================] - 0s 9ms/step - loss: 7.1055 - mse: 67.4016\n",
            "Epoch 202/500\n",
            "2/2 [==============================] - 0s 8ms/step - loss: 22.9824 - mse: 752.8715\n",
            "Epoch 203/500\n",
            "2/2 [==============================] - 0s 9ms/step - loss: 8.9955 - mse: 152.6997\n",
            "Epoch 204/500\n",
            "2/2 [==============================] - 0s 12ms/step - loss: 18.9345 - mse: 537.3708\n",
            "Epoch 205/500\n",
            "2/2 [==============================] - 0s 8ms/step - loss: 9.4117 - mse: 127.5349\n",
            "Epoch 206/500\n",
            "2/2 [==============================] - 0s 12ms/step - loss: 10.4716 - mse: 144.9908\n",
            "Epoch 207/500\n",
            "2/2 [==============================] - 0s 11ms/step - loss: 21.1993 - mse: 683.6817\n",
            "Epoch 208/500\n",
            "2/2 [==============================] - 0s 9ms/step - loss: 16.5485 - mse: 393.6548\n",
            "Epoch 209/500\n",
            "2/2 [==============================] - 0s 11ms/step - loss: 14.4382 - mse: 320.6603\n",
            "Epoch 210/500\n",
            "2/2 [==============================] - 0s 9ms/step - loss: 17.6178 - mse: 453.6014\n",
            "Epoch 211/500\n",
            "2/2 [==============================] - 0s 8ms/step - loss: 9.7713 - mse: 146.9370\n",
            "Epoch 212/500\n",
            "2/2 [==============================] - 0s 9ms/step - loss: 17.9860 - mse: 489.8348\n",
            "Epoch 213/500\n",
            "2/2 [==============================] - 0s 9ms/step - loss: 15.1494 - mse: 311.2133\n",
            "Epoch 214/500\n",
            "2/2 [==============================] - 0s 14ms/step - loss: 14.6618 - mse: 297.4543\n",
            "Epoch 215/500\n",
            "2/2 [==============================] - 0s 11ms/step - loss: 23.4390 - mse: 807.5865\n",
            "Epoch 216/500\n",
            "2/2 [==============================] - 0s 14ms/step - loss: 12.8385 - mse: 254.8413\n",
            "Epoch 217/500\n",
            "2/2 [==============================] - 0s 9ms/step - loss: 11.9780 - mse: 219.1058\n",
            "Epoch 218/500\n",
            "2/2 [==============================] - 0s 8ms/step - loss: 17.1213 - mse: 388.9780\n",
            "Epoch 219/500\n",
            "2/2 [==============================] - 0s 8ms/step - loss: 9.5056 - mse: 165.9144\n",
            "Epoch 220/500\n",
            "2/2 [==============================] - 0s 13ms/step - loss: 13.8677 - mse: 270.3039\n",
            "Epoch 221/500\n",
            "2/2 [==============================] - 0s 9ms/step - loss: 32.2741 - mse: 1423.8281\n",
            "Epoch 222/500\n",
            "2/2 [==============================] - 0s 8ms/step - loss: 11.0737 - mse: 190.4685\n",
            "Epoch 223/500\n",
            "2/2 [==============================] - 0s 9ms/step - loss: 8.6576 - mse: 134.3978\n",
            "Epoch 224/500\n",
            "2/2 [==============================] - 0s 8ms/step - loss: 14.5810 - mse: 310.9572\n",
            "Epoch 225/500\n",
            "2/2 [==============================] - 0s 9ms/step - loss: 16.5915 - mse: 354.3018\n",
            "Epoch 226/500\n",
            "2/2 [==============================] - 0s 9ms/step - loss: 15.8173 - mse: 362.6204\n",
            "Epoch 227/500\n",
            "2/2 [==============================] - 0s 9ms/step - loss: 16.0316 - mse: 362.2903\n",
            "Epoch 228/500\n",
            "2/2 [==============================] - 0s 12ms/step - loss: 13.8172 - mse: 276.0925\n",
            "Epoch 229/500\n",
            "2/2 [==============================] - 0s 12ms/step - loss: 17.9252 - mse: 448.8947\n",
            "Epoch 230/500\n",
            "2/2 [==============================] - 0s 10ms/step - loss: 15.5304 - mse: 312.4985\n",
            "Epoch 231/500\n",
            "2/2 [==============================] - 0s 8ms/step - loss: 21.0119 - mse: 661.0336\n",
            "Epoch 232/500\n",
            "2/2 [==============================] - 0s 7ms/step - loss: 25.7096 - mse: 947.5349\n",
            "Epoch 233/500\n",
            "2/2 [==============================] - 0s 10ms/step - loss: 16.6627 - mse: 402.7739\n",
            "Epoch 234/500\n",
            "2/2 [==============================] - 0s 12ms/step - loss: 7.3893 - mse: 68.0639\n",
            "Epoch 235/500\n",
            "2/2 [==============================] - 0s 13ms/step - loss: 17.3077 - mse: 419.5906\n",
            "Epoch 236/500\n",
            "2/2 [==============================] - 0s 12ms/step - loss: 7.2689 - mse: 70.7163\n",
            "Epoch 237/500\n",
            "2/2 [==============================] - 0s 9ms/step - loss: 9.3926 - mse: 121.6344\n",
            "Epoch 238/500\n",
            "2/2 [==============================] - 0s 9ms/step - loss: 8.2127 - mse: 87.6795\n",
            "Epoch 239/500\n",
            "2/2 [==============================] - 0s 11ms/step - loss: 17.3517 - mse: 452.3126\n",
            "Epoch 240/500\n",
            "2/2 [==============================] - 0s 12ms/step - loss: 9.0114 - mse: 109.3644\n",
            "Epoch 241/500\n",
            "2/2 [==============================] - 0s 11ms/step - loss: 13.3960 - mse: 279.0107\n",
            "Epoch 242/500\n",
            "2/2 [==============================] - 0s 11ms/step - loss: 8.9046 - mse: 107.4643\n",
            "Epoch 243/500\n",
            "2/2 [==============================] - 0s 11ms/step - loss: 19.2226 - mse: 564.6591\n",
            "Epoch 244/500\n",
            "2/2 [==============================] - 0s 9ms/step - loss: 13.9205 - mse: 272.3550\n",
            "Epoch 245/500\n",
            "2/2 [==============================] - 0s 9ms/step - loss: 14.5643 - mse: 284.2895\n",
            "Epoch 246/500\n",
            "2/2 [==============================] - 0s 9ms/step - loss: 15.7068 - mse: 363.4401\n",
            "Epoch 247/500\n",
            "2/2 [==============================] - 0s 9ms/step - loss: 17.5503 - mse: 413.5920\n",
            "Epoch 248/500\n",
            "2/2 [==============================] - 0s 9ms/step - loss: 13.1155 - mse: 250.4265\n",
            "Epoch 249/500\n",
            "2/2 [==============================] - 0s 15ms/step - loss: 14.4433 - mse: 285.2348\n",
            "Epoch 250/500\n",
            "2/2 [==============================] - 0s 10ms/step - loss: 27.8482 - mse: 1103.1191\n",
            "Epoch 251/500\n",
            "2/2 [==============================] - 0s 9ms/step - loss: 7.5285 - mse: 70.1072\n",
            "Epoch 252/500\n",
            "2/2 [==============================] - 0s 12ms/step - loss: 38.0581 - mse: 2391.3879\n",
            "Epoch 253/500\n",
            "2/2 [==============================] - 0s 9ms/step - loss: 22.8929 - mse: 736.7643\n",
            "Epoch 254/500\n",
            "2/2 [==============================] - 0s 11ms/step - loss: 7.4589 - mse: 73.7253\n",
            "Epoch 255/500\n",
            "2/2 [==============================] - 0s 11ms/step - loss: 25.7714 - mse: 970.9803\n",
            "Epoch 256/500\n",
            "2/2 [==============================] - 0s 9ms/step - loss: 13.7155 - mse: 275.1111\n",
            "Epoch 257/500\n",
            "2/2 [==============================] - 0s 10ms/step - loss: 8.3529 - mse: 111.4580\n",
            "Epoch 258/500\n",
            "2/2 [==============================] - 0s 10ms/step - loss: 13.2018 - mse: 273.0988\n",
            "Epoch 259/500\n",
            "2/2 [==============================] - 0s 11ms/step - loss: 9.5383 - mse: 125.5796\n",
            "Epoch 260/500\n",
            "2/2 [==============================] - 0s 11ms/step - loss: 38.4154 - mse: 2324.5593\n",
            "Epoch 261/500\n",
            "2/2 [==============================] - 0s 10ms/step - loss: 15.5170 - mse: 352.1189\n",
            "Epoch 262/500\n",
            "2/2 [==============================] - 0s 12ms/step - loss: 5.7930 - mse: 61.8717\n",
            "Epoch 263/500\n",
            "2/2 [==============================] - 0s 9ms/step - loss: 14.6102 - mse: 306.8416\n",
            "Epoch 264/500\n",
            "2/2 [==============================] - 0s 8ms/step - loss: 18.7715 - mse: 523.3089\n",
            "Epoch 265/500\n",
            "2/2 [==============================] - 0s 9ms/step - loss: 13.0686 - mse: 258.4708\n",
            "Epoch 266/500\n",
            "2/2 [==============================] - 0s 11ms/step - loss: 10.3369 - mse: 220.5820\n",
            "Epoch 267/500\n",
            "2/2 [==============================] - 0s 9ms/step - loss: 6.0545 - mse: 60.4695\n",
            "Epoch 268/500\n",
            "2/2 [==============================] - 0s 9ms/step - loss: 18.7145 - mse: 531.3695\n",
            "Epoch 269/500\n",
            "2/2 [==============================] - 0s 9ms/step - loss: 42.1941 - mse: 2777.2766\n",
            "Epoch 270/500\n",
            "2/2 [==============================] - 0s 9ms/step - loss: 13.9302 - mse: 292.6077\n",
            "Epoch 271/500\n",
            "2/2 [==============================] - 0s 9ms/step - loss: 15.0819 - mse: 289.3677\n",
            "Epoch 272/500\n",
            "2/2 [==============================] - 0s 9ms/step - loss: 29.1128 - mse: 1162.4580\n",
            "Epoch 273/500\n",
            "2/2 [==============================] - 0s 9ms/step - loss: 5.5526 - mse: 47.9004\n",
            "Epoch 274/500\n",
            "2/2 [==============================] - 0s 11ms/step - loss: 13.9739 - mse: 307.9438\n",
            "Epoch 275/500\n",
            "2/2 [==============================] - 0s 12ms/step - loss: 17.0512 - mse: 409.3345\n",
            "Epoch 276/500\n",
            "2/2 [==============================] - 0s 11ms/step - loss: 12.8260 - mse: 243.5553\n",
            "Epoch 277/500\n",
            "2/2 [==============================] - 0s 10ms/step - loss: 30.4048 - mse: 1300.5432\n",
            "Epoch 278/500\n",
            "2/2 [==============================] - 0s 8ms/step - loss: 10.9363 - mse: 206.5623\n",
            "Epoch 279/500\n",
            "2/2 [==============================] - 0s 9ms/step - loss: 16.3107 - mse: 406.7977\n",
            "Epoch 280/500\n",
            "2/2 [==============================] - 0s 9ms/step - loss: 21.6666 - mse: 703.5576\n",
            "Epoch 281/500\n",
            "2/2 [==============================] - 0s 9ms/step - loss: 22.7193 - mse: 786.0333\n",
            "Epoch 282/500\n",
            "2/2 [==============================] - 0s 9ms/step - loss: 7.9749 - mse: 92.6539\n",
            "Epoch 283/500\n",
            "2/2 [==============================] - 0s 8ms/step - loss: 8.2932 - mse: 91.5100\n",
            "Epoch 284/500\n",
            "2/2 [==============================] - 0s 8ms/step - loss: 25.4654 - mse: 979.7203\n",
            "Epoch 285/500\n",
            "2/2 [==============================] - 0s 8ms/step - loss: 14.0982 - mse: 316.3173\n",
            "Epoch 286/500\n",
            "2/2 [==============================] - 0s 9ms/step - loss: 6.0400 - mse: 55.5415\n",
            "Epoch 287/500\n",
            "2/2 [==============================] - 0s 11ms/step - loss: 19.0373 - mse: 562.5526\n",
            "Epoch 288/500\n",
            "2/2 [==============================] - 0s 8ms/step - loss: 32.7629 - mse: 1660.4869\n",
            "Epoch 289/500\n",
            "2/2 [==============================] - 0s 9ms/step - loss: 8.4144 - mse: 163.8571\n",
            "Epoch 290/500\n",
            "2/2 [==============================] - 0s 12ms/step - loss: 16.9044 - mse: 388.5054\n",
            "Epoch 291/500\n",
            "2/2 [==============================] - 0s 11ms/step - loss: 17.2836 - mse: 440.6458\n",
            "Epoch 292/500\n",
            "2/2 [==============================] - 0s 12ms/step - loss: 10.9275 - mse: 283.9380\n",
            "Epoch 293/500\n",
            "2/2 [==============================] - 0s 8ms/step - loss: 14.6034 - mse: 287.8213\n",
            "Epoch 294/500\n",
            "2/2 [==============================] - 0s 9ms/step - loss: 21.8504 - mse: 731.1332\n",
            "Epoch 295/500\n",
            "2/2 [==============================] - 0s 8ms/step - loss: 19.8811 - mse: 569.1793\n",
            "Epoch 296/500\n",
            "2/2 [==============================] - 0s 8ms/step - loss: 6.9954 - mse: 62.9725\n",
            "Epoch 297/500\n",
            "2/2 [==============================] - 0s 10ms/step - loss: 9.0376 - mse: 175.3986\n",
            "Epoch 298/500\n",
            "2/2 [==============================] - 0s 9ms/step - loss: 24.3025 - mse: 855.0377\n",
            "Epoch 299/500\n",
            "2/2 [==============================] - 0s 9ms/step - loss: 17.7712 - mse: 472.0403\n",
            "Epoch 300/500\n",
            "2/2 [==============================] - 0s 8ms/step - loss: 7.0277 - mse: 65.8908\n",
            "Epoch 301/500\n",
            "2/2 [==============================] - 0s 9ms/step - loss: 25.2373 - mse: 902.0494\n",
            "Epoch 302/500\n",
            "2/2 [==============================] - 0s 9ms/step - loss: 8.9440 - mse: 116.8104\n",
            "Epoch 303/500\n",
            "2/2 [==============================] - 0s 8ms/step - loss: 17.7914 - mse: 463.3271\n",
            "Epoch 304/500\n",
            "2/2 [==============================] - 0s 11ms/step - loss: 11.0498 - mse: 174.8801\n",
            "Epoch 305/500\n",
            "2/2 [==============================] - 0s 12ms/step - loss: 12.9343 - mse: 272.2344\n",
            "Epoch 306/500\n",
            "2/2 [==============================] - 0s 9ms/step - loss: 8.4401 - mse: 94.9398\n",
            "Epoch 307/500\n",
            "2/2 [==============================] - 0s 9ms/step - loss: 13.3612 - mse: 265.4129\n",
            "Epoch 308/500\n",
            "2/2 [==============================] - 0s 8ms/step - loss: 8.2965 - mse: 94.6907\n",
            "Epoch 309/500\n",
            "2/2 [==============================] - 0s 8ms/step - loss: 12.2610 - mse: 245.0720\n",
            "Epoch 310/500\n",
            "2/2 [==============================] - 0s 9ms/step - loss: 4.4468 - mse: 27.9868\n",
            "Epoch 311/500\n",
            "2/2 [==============================] - 0s 8ms/step - loss: 12.0283 - mse: 254.5035\n",
            "Epoch 312/500\n",
            "2/2 [==============================] - 0s 10ms/step - loss: 29.3151 - mse: 1190.2020\n",
            "Epoch 313/500\n",
            "2/2 [==============================] - 0s 8ms/step - loss: 8.8981 - mse: 117.7797\n",
            "Epoch 314/500\n",
            "2/2 [==============================] - 0s 9ms/step - loss: 6.5305 - mse: 83.7389\n",
            "Epoch 315/500\n",
            "2/2 [==============================] - 0s 8ms/step - loss: 23.9757 - mse: 834.3336\n",
            "Epoch 316/500\n",
            "2/2 [==============================] - 0s 12ms/step - loss: 16.1097 - mse: 392.7744\n",
            "Epoch 317/500\n",
            "2/2 [==============================] - 0s 9ms/step - loss: 20.5826 - mse: 578.6416\n",
            "Epoch 318/500\n",
            "2/2 [==============================] - 0s 12ms/step - loss: 8.6870 - mse: 103.7597\n",
            "Epoch 319/500\n",
            "2/2 [==============================] - 0s 12ms/step - loss: 15.2094 - mse: 360.3076\n",
            "Epoch 320/500\n",
            "2/2 [==============================] - 0s 13ms/step - loss: 8.3207 - mse: 99.8831\n",
            "Epoch 321/500\n",
            "2/2 [==============================] - 0s 9ms/step - loss: 14.6263 - mse: 317.2839\n",
            "Epoch 322/500\n",
            "2/2 [==============================] - 0s 9ms/step - loss: 12.8249 - mse: 242.4955\n",
            "Epoch 323/500\n",
            "2/2 [==============================] - 0s 9ms/step - loss: 19.1073 - mse: 560.1133\n",
            "Epoch 324/500\n",
            "2/2 [==============================] - 0s 12ms/step - loss: 16.9884 - mse: 431.4369\n",
            "Epoch 325/500\n",
            "2/2 [==============================] - 0s 11ms/step - loss: 9.3002 - mse: 211.1653\n",
            "Epoch 326/500\n",
            "2/2 [==============================] - 0s 11ms/step - loss: 19.9419 - mse: 606.7906\n",
            "Epoch 327/500\n",
            "2/2 [==============================] - 0s 9ms/step - loss: 28.0678 - mse: 1127.5242\n",
            "Epoch 328/500\n",
            "2/2 [==============================] - 0s 8ms/step - loss: 11.7153 - mse: 229.8746\n",
            "Epoch 329/500\n",
            "2/2 [==============================] - 0s 8ms/step - loss: 16.3941 - mse: 406.5889\n",
            "Epoch 330/500\n",
            "2/2 [==============================] - 0s 10ms/step - loss: 7.3086 - mse: 79.6492\n",
            "Epoch 331/500\n",
            "2/2 [==============================] - 0s 8ms/step - loss: 22.5452 - mse: 781.0394\n",
            "Epoch 332/500\n",
            "2/2 [==============================] - 0s 14ms/step - loss: 13.3289 - mse: 273.0612\n",
            "Epoch 333/500\n",
            "2/2 [==============================] - 0s 13ms/step - loss: 10.1515 - mse: 164.9785\n",
            "Epoch 334/500\n",
            "2/2 [==============================] - 0s 11ms/step - loss: 6.6104 - mse: 93.5193\n",
            "Epoch 335/500\n",
            "2/2 [==============================] - 0s 9ms/step - loss: 6.2594 - mse: 53.5187\n",
            "Epoch 336/500\n",
            "2/2 [==============================] - 0s 10ms/step - loss: 34.5216 - mse: 1939.8333\n",
            "Epoch 337/500\n",
            "2/2 [==============================] - 0s 10ms/step - loss: 26.9514 - mse: 1062.7074\n",
            "Epoch 338/500\n",
            "2/2 [==============================] - 0s 9ms/step - loss: 13.9985 - mse: 296.2848\n",
            "Epoch 339/500\n",
            "2/2 [==============================] - 0s 9ms/step - loss: 11.5498 - mse: 212.4342\n",
            "Epoch 340/500\n",
            "2/2 [==============================] - 0s 10ms/step - loss: 8.8213 - mse: 179.0750\n",
            "Epoch 341/500\n",
            "2/2 [==============================] - 0s 15ms/step - loss: 23.4522 - mse: 798.5610\n",
            "Epoch 342/500\n",
            "2/2 [==============================] - 0s 10ms/step - loss: 13.9180 - mse: 284.7134\n",
            "Epoch 343/500\n",
            "2/2 [==============================] - 0s 11ms/step - loss: 14.8169 - mse: 293.0415\n",
            "Epoch 344/500\n",
            "2/2 [==============================] - 0s 11ms/step - loss: 13.3840 - mse: 275.9861\n",
            "Epoch 345/500\n",
            "2/2 [==============================] - 0s 11ms/step - loss: 31.0163 - mse: 1352.6974\n",
            "Epoch 346/500\n",
            "2/2 [==============================] - 0s 8ms/step - loss: 10.6967 - mse: 252.7885\n",
            "Epoch 347/500\n",
            "2/2 [==============================] - 0s 10ms/step - loss: 25.7134 - mse: 925.5498\n",
            "Epoch 348/500\n",
            "2/2 [==============================] - 0s 9ms/step - loss: 12.9199 - mse: 261.3943\n",
            "Epoch 349/500\n",
            "2/2 [==============================] - 0s 11ms/step - loss: 13.1471 - mse: 249.3612\n",
            "Epoch 350/500\n",
            "2/2 [==============================] - 0s 8ms/step - loss: 15.4333 - mse: 332.3449\n",
            "Epoch 351/500\n",
            "2/2 [==============================] - 0s 10ms/step - loss: 32.9492 - mse: 1523.6053\n",
            "Epoch 352/500\n",
            "2/2 [==============================] - 0s 12ms/step - loss: 14.1867 - mse: 282.2951\n",
            "Epoch 353/500\n",
            "2/2 [==============================] - 0s 8ms/step - loss: 15.9056 - mse: 372.9753\n",
            "Epoch 354/500\n",
            "2/2 [==============================] - 0s 10ms/step - loss: 19.0567 - mse: 533.4297\n",
            "Epoch 355/500\n",
            "2/2 [==============================] - 0s 12ms/step - loss: 34.2069 - mse: 1793.0388\n",
            "Epoch 356/500\n",
            "2/2 [==============================] - 0s 9ms/step - loss: 8.2713 - mse: 109.5203\n",
            "Epoch 357/500\n",
            "2/2 [==============================] - 0s 12ms/step - loss: 21.7659 - mse: 710.2550\n",
            "Epoch 358/500\n",
            "2/2 [==============================] - 0s 10ms/step - loss: 19.8923 - mse: 571.0067\n",
            "Epoch 359/500\n",
            "2/2 [==============================] - 0s 8ms/step - loss: 11.0726 - mse: 289.7794\n",
            "Epoch 360/500\n",
            "2/2 [==============================] - 0s 12ms/step - loss: 20.3192 - mse: 620.7472\n",
            "Epoch 361/500\n",
            "2/2 [==============================] - 0s 10ms/step - loss: 10.9379 - mse: 219.5005\n",
            "Epoch 362/500\n",
            "2/2 [==============================] - 0s 9ms/step - loss: 6.8050 - mse: 77.1009\n",
            "Epoch 363/500\n",
            "2/2 [==============================] - 0s 14ms/step - loss: 23.8986 - mse: 830.9430\n",
            "Epoch 364/500\n",
            "2/2 [==============================] - 0s 17ms/step - loss: 29.6274 - mse: 1274.0848\n",
            "Epoch 365/500\n",
            "2/2 [==============================] - 0s 13ms/step - loss: 8.3055 - mse: 107.4292\n",
            "Epoch 366/500\n",
            "2/2 [==============================] - 0s 12ms/step - loss: 6.0887 - mse: 48.7878\n",
            "Epoch 367/500\n",
            "2/2 [==============================] - 0s 13ms/step - loss: 34.7771 - mse: 1835.4824\n",
            "Epoch 368/500\n",
            "2/2 [==============================] - 0s 8ms/step - loss: 7.3756 - mse: 100.7293\n",
            "Epoch 369/500\n",
            "2/2 [==============================] - 0s 8ms/step - loss: 9.1876 - mse: 128.5374\n",
            "Epoch 370/500\n",
            "2/2 [==============================] - 0s 9ms/step - loss: 10.8882 - mse: 205.9303\n",
            "Epoch 371/500\n",
            "2/2 [==============================] - 0s 12ms/step - loss: 8.9552 - mse: 140.8006\n",
            "Epoch 372/500\n",
            "2/2 [==============================] - 0s 11ms/step - loss: 7.6999 - mse: 142.3936\n",
            "Epoch 373/500\n",
            "2/2 [==============================] - 0s 9ms/step - loss: 25.0737 - mse: 920.3793\n",
            "Epoch 374/500\n",
            "2/2 [==============================] - 0s 12ms/step - loss: 13.1861 - mse: 281.8578\n",
            "Epoch 375/500\n",
            "2/2 [==============================] - 0s 8ms/step - loss: 11.8652 - mse: 213.8022\n",
            "Epoch 376/500\n",
            "2/2 [==============================] - 0s 9ms/step - loss: 14.1424 - mse: 285.8042\n",
            "Epoch 377/500\n",
            "2/2 [==============================] - 0s 10ms/step - loss: 15.7252 - mse: 319.1448\n",
            "Epoch 378/500\n",
            "2/2 [==============================] - 0s 10ms/step - loss: 17.0526 - mse: 465.3318\n",
            "Epoch 379/500\n",
            "2/2 [==============================] - 0s 11ms/step - loss: 19.3709 - mse: 535.7049\n",
            "Epoch 380/500\n",
            "2/2 [==============================] - 0s 11ms/step - loss: 15.7279 - mse: 386.3744\n",
            "Epoch 381/500\n",
            "2/2 [==============================] - 0s 11ms/step - loss: 11.4663 - mse: 217.3872\n",
            "Epoch 382/500\n",
            "2/2 [==============================] - 0s 11ms/step - loss: 16.3424 - mse: 357.0071\n",
            "Epoch 383/500\n",
            "2/2 [==============================] - 0s 11ms/step - loss: 22.1011 - mse: 753.0007\n",
            "Epoch 384/500\n",
            "2/2 [==============================] - 0s 12ms/step - loss: 7.7446 - mse: 83.0264\n",
            "Epoch 385/500\n",
            "2/2 [==============================] - 0s 9ms/step - loss: 10.6127 - mse: 273.7305\n",
            "Epoch 386/500\n",
            "2/2 [==============================] - 0s 9ms/step - loss: 19.0933 - mse: 570.4742\n",
            "Epoch 387/500\n",
            "2/2 [==============================] - 0s 12ms/step - loss: 26.4938 - mse: 1024.2881\n",
            "Epoch 388/500\n",
            "2/2 [==============================] - 0s 12ms/step - loss: 10.1052 - mse: 174.4284\n",
            "Epoch 389/500\n",
            "2/2 [==============================] - 0s 11ms/step - loss: 5.1715 - mse: 40.2203\n",
            "Epoch 390/500\n",
            "2/2 [==============================] - 0s 10ms/step - loss: 18.8315 - mse: 513.7319\n",
            "Epoch 391/500\n",
            "2/2 [==============================] - 0s 8ms/step - loss: 9.3285 - mse: 261.7480\n",
            "Epoch 392/500\n",
            "2/2 [==============================] - 0s 8ms/step - loss: 14.3984 - mse: 326.3779\n",
            "Epoch 393/500\n",
            "2/2 [==============================] - 0s 10ms/step - loss: 15.4044 - mse: 339.1973\n",
            "Epoch 394/500\n",
            "2/2 [==============================] - 0s 10ms/step - loss: 14.7434 - mse: 320.0626\n",
            "Epoch 395/500\n",
            "2/2 [==============================] - 0s 10ms/step - loss: 24.9689 - mse: 882.3254\n",
            "Epoch 396/500\n",
            "2/2 [==============================] - 0s 10ms/step - loss: 19.1634 - mse: 520.7117\n",
            "Epoch 397/500\n",
            "2/2 [==============================] - 0s 11ms/step - loss: 11.5749 - mse: 282.7901\n",
            "Epoch 398/500\n",
            "2/2 [==============================] - 0s 9ms/step - loss: 19.2159 - mse: 580.1470\n",
            "Epoch 399/500\n",
            "2/2 [==============================] - 0s 9ms/step - loss: 25.9519 - mse: 1008.9834\n",
            "Epoch 400/500\n",
            "2/2 [==============================] - 0s 9ms/step - loss: 15.6131 - mse: 352.4318\n",
            "Epoch 401/500\n",
            "2/2 [==============================] - 0s 8ms/step - loss: 14.6584 - mse: 282.1317\n",
            "Epoch 402/500\n",
            "2/2 [==============================] - 0s 10ms/step - loss: 24.2704 - mse: 837.8885\n",
            "Epoch 403/500\n",
            "2/2 [==============================] - 0s 10ms/step - loss: 16.2917 - mse: 392.2024\n",
            "Epoch 404/500\n",
            "2/2 [==============================] - 0s 10ms/step - loss: 10.4530 - mse: 210.9517\n",
            "Epoch 405/500\n",
            "2/2 [==============================] - 0s 8ms/step - loss: 6.4026 - mse: 67.8466\n",
            "Epoch 406/500\n",
            "2/2 [==============================] - 0s 8ms/step - loss: 17.7772 - mse: 476.3406\n",
            "Epoch 407/500\n",
            "2/2 [==============================] - 0s 8ms/step - loss: 11.0272 - mse: 261.8459\n",
            "Epoch 408/500\n",
            "2/2 [==============================] - 0s 11ms/step - loss: 21.0735 - mse: 679.3058\n",
            "Epoch 409/500\n",
            "2/2 [==============================] - 0s 8ms/step - loss: 30.3089 - mse: 1418.1927\n",
            "Epoch 410/500\n",
            "2/2 [==============================] - 0s 11ms/step - loss: 9.8381 - mse: 241.9530\n",
            "Epoch 411/500\n",
            "2/2 [==============================] - 0s 10ms/step - loss: 14.7122 - mse: 281.2488\n",
            "Epoch 412/500\n",
            "2/2 [==============================] - 0s 9ms/step - loss: 21.4561 - mse: 705.5861\n",
            "Epoch 413/500\n",
            "2/2 [==============================] - 0s 10ms/step - loss: 13.3244 - mse: 273.1776\n",
            "Epoch 414/500\n",
            "2/2 [==============================] - 0s 8ms/step - loss: 7.8052 - mse: 157.7290\n",
            "Epoch 415/500\n",
            "2/2 [==============================] - 0s 10ms/step - loss: 12.2019 - mse: 243.6496\n",
            "Epoch 416/500\n",
            "2/2 [==============================] - 0s 9ms/step - loss: 25.8841 - mse: 930.9890\n",
            "Epoch 417/500\n",
            "2/2 [==============================] - 0s 8ms/step - loss: 15.0150 - mse: 349.1085\n",
            "Epoch 418/500\n",
            "2/2 [==============================] - 0s 9ms/step - loss: 12.7937 - mse: 236.1634\n",
            "Epoch 419/500\n",
            "2/2 [==============================] - 0s 10ms/step - loss: 15.8656 - mse: 372.8401\n",
            "Epoch 420/500\n",
            "2/2 [==============================] - 0s 8ms/step - loss: 24.7094 - mse: 846.8516\n",
            "Epoch 421/500\n",
            "2/2 [==============================] - 0s 8ms/step - loss: 17.4690 - mse: 448.3658\n",
            "Epoch 422/500\n",
            "2/2 [==============================] - 0s 8ms/step - loss: 7.8207 - mse: 159.2617\n",
            "Epoch 423/500\n",
            "2/2 [==============================] - 0s 9ms/step - loss: 25.3403 - mse: 905.0770\n",
            "Epoch 424/500\n",
            "2/2 [==============================] - 0s 9ms/step - loss: 15.1850 - mse: 372.0349\n",
            "Epoch 425/500\n",
            "2/2 [==============================] - 0s 11ms/step - loss: 7.1911 - mse: 75.7087\n",
            "Epoch 426/500\n",
            "2/2 [==============================] - 0s 9ms/step - loss: 20.4313 - mse: 577.6113\n",
            "Epoch 427/500\n",
            "2/2 [==============================] - 0s 9ms/step - loss: 6.3576 - mse: 84.6016\n",
            "Epoch 428/500\n",
            "2/2 [==============================] - 0s 7ms/step - loss: 13.0649 - mse: 289.9682\n",
            "Epoch 429/500\n",
            "2/2 [==============================] - 0s 8ms/step - loss: 10.8465 - mse: 194.0220\n",
            "Epoch 430/500\n",
            "2/2 [==============================] - 0s 10ms/step - loss: 11.4634 - mse: 249.3964\n",
            "Epoch 431/500\n",
            "2/2 [==============================] - 0s 8ms/step - loss: 10.6737 - mse: 219.1811\n",
            "Epoch 432/500\n",
            "2/2 [==============================] - 0s 10ms/step - loss: 11.5313 - mse: 240.5822\n",
            "Epoch 433/500\n",
            "2/2 [==============================] - 0s 8ms/step - loss: 11.3775 - mse: 299.1572\n",
            "Epoch 434/500\n",
            "2/2 [==============================] - 0s 7ms/step - loss: 30.3730 - mse: 1294.4977\n",
            "Epoch 435/500\n",
            "2/2 [==============================] - 0s 7ms/step - loss: 10.4973 - mse: 286.1763\n",
            "Epoch 436/500\n",
            "2/2 [==============================] - 0s 8ms/step - loss: 28.8520 - mse: 1214.0613\n",
            "Epoch 437/500\n",
            "2/2 [==============================] - 0s 10ms/step - loss: 8.1398 - mse: 178.7627\n",
            "Epoch 438/500\n",
            "2/2 [==============================] - 0s 8ms/step - loss: 12.8363 - mse: 245.8400\n",
            "Epoch 439/500\n",
            "2/2 [==============================] - 0s 7ms/step - loss: 33.9534 - mse: 1595.4316\n",
            "Epoch 440/500\n",
            "2/2 [==============================] - 0s 9ms/step - loss: 15.5082 - mse: 313.2871\n",
            "Epoch 441/500\n",
            "2/2 [==============================] - 0s 10ms/step - loss: 17.8940 - mse: 519.7653\n",
            "Epoch 442/500\n",
            "2/2 [==============================] - 0s 11ms/step - loss: 17.4327 - mse: 429.4592\n",
            "Epoch 443/500\n",
            "2/2 [==============================] - 0s 8ms/step - loss: 7.6809 - mse: 157.4924\n",
            "Epoch 444/500\n",
            "2/2 [==============================] - 0s 9ms/step - loss: 22.8949 - mse: 766.1171\n",
            "Epoch 445/500\n",
            "2/2 [==============================] - 0s 8ms/step - loss: 12.0321 - mse: 224.7120\n",
            "Epoch 446/500\n",
            "2/2 [==============================] - 0s 8ms/step - loss: 10.5166 - mse: 206.6299\n",
            "Epoch 447/500\n",
            "2/2 [==============================] - 0s 8ms/step - loss: 16.9855 - mse: 421.5989\n",
            "Epoch 448/500\n",
            "2/2 [==============================] - 0s 8ms/step - loss: 11.6870 - mse: 235.8155\n",
            "Epoch 449/500\n",
            "2/2 [==============================] - 0s 8ms/step - loss: 14.8700 - mse: 307.4579\n",
            "Epoch 450/500\n",
            "2/2 [==============================] - 0s 8ms/step - loss: 17.6201 - mse: 488.5348\n",
            "Epoch 451/500\n",
            "2/2 [==============================] - 0s 8ms/step - loss: 14.6470 - mse: 348.1630\n",
            "Epoch 452/500\n",
            "2/2 [==============================] - 0s 8ms/step - loss: 31.3281 - mse: 1386.3214\n",
            "Epoch 453/500\n",
            "2/2 [==============================] - 0s 9ms/step - loss: 10.5962 - mse: 275.7766\n",
            "Epoch 454/500\n",
            "2/2 [==============================] - 0s 8ms/step - loss: 26.9327 - mse: 1016.7655\n",
            "Epoch 455/500\n",
            "2/2 [==============================] - 0s 8ms/step - loss: 12.1025 - mse: 249.2622\n",
            "Epoch 456/500\n",
            "2/2 [==============================] - 0s 8ms/step - loss: 15.3927 - mse: 319.5809\n",
            "Epoch 457/500\n",
            "2/2 [==============================] - 0s 8ms/step - loss: 19.1446 - mse: 547.0260\n",
            "Epoch 458/500\n",
            "2/2 [==============================] - 0s 8ms/step - loss: 23.2971 - mse: 802.6466\n",
            "Epoch 459/500\n",
            "2/2 [==============================] - 0s 8ms/step - loss: 16.7607 - mse: 399.9627\n",
            "Epoch 460/500\n",
            "2/2 [==============================] - 0s 8ms/step - loss: 6.7940 - mse: 132.7050\n",
            "Epoch 461/500\n",
            "2/2 [==============================] - 0s 8ms/step - loss: 16.2604 - mse: 360.6790\n",
            "Epoch 462/500\n",
            "2/2 [==============================] - 0s 8ms/step - loss: 15.6778 - mse: 395.8100\n",
            "Epoch 463/500\n",
            "2/2 [==============================] - 0s 10ms/step - loss: 17.5044 - mse: 469.1436\n",
            "Epoch 464/500\n",
            "2/2 [==============================] - 0s 8ms/step - loss: 11.6464 - mse: 219.2876\n",
            "Epoch 465/500\n",
            "2/2 [==============================] - 0s 7ms/step - loss: 22.4501 - mse: 750.2118\n",
            "Epoch 466/500\n",
            "2/2 [==============================] - 0s 7ms/step - loss: 22.8906 - mse: 743.2875\n",
            "Epoch 467/500\n",
            "2/2 [==============================] - 0s 7ms/step - loss: 12.9758 - mse: 265.3456\n",
            "Epoch 468/500\n",
            "2/2 [==============================] - 0s 8ms/step - loss: 10.4394 - mse: 259.7188\n",
            "Epoch 469/500\n",
            "2/2 [==============================] - 0s 7ms/step - loss: 27.4944 - mse: 1060.2346\n",
            "Epoch 470/500\n",
            "2/2 [==============================] - 0s 11ms/step - loss: 12.2041 - mse: 263.1086\n",
            "Epoch 471/500\n",
            "2/2 [==============================] - 0s 11ms/step - loss: 11.6756 - mse: 240.4348\n",
            "Epoch 472/500\n",
            "2/2 [==============================] - 0s 9ms/step - loss: 15.6316 - mse: 348.6447\n",
            "Epoch 473/500\n",
            "2/2 [==============================] - 0s 11ms/step - loss: 15.7278 - mse: 419.7433\n",
            "Epoch 474/500\n",
            "2/2 [==============================] - 0s 11ms/step - loss: 19.7755 - mse: 567.7655\n",
            "Epoch 475/500\n",
            "2/2 [==============================] - 0s 10ms/step - loss: 6.1320 - mse: 105.9737\n",
            "Epoch 476/500\n",
            "2/2 [==============================] - 0s 8ms/step - loss: 12.6097 - mse: 240.8689\n",
            "Epoch 477/500\n",
            "2/2 [==============================] - 0s 10ms/step - loss: 28.5835 - mse: 1146.4333\n",
            "Epoch 478/500\n",
            "2/2 [==============================] - 0s 10ms/step - loss: 6.8029 - mse: 77.7709\n",
            "Epoch 479/500\n",
            "2/2 [==============================] - 0s 10ms/step - loss: 5.7842 - mse: 65.4194\n",
            "Epoch 480/500\n",
            "2/2 [==============================] - 0s 8ms/step - loss: 17.8057 - mse: 464.2598\n",
            "Epoch 481/500\n",
            "2/2 [==============================] - 0s 8ms/step - loss: 11.1274 - mse: 281.6368\n",
            "Epoch 482/500\n",
            "2/2 [==============================] - 0s 8ms/step - loss: 18.7749 - mse: 572.3593\n",
            "Epoch 483/500\n",
            "2/2 [==============================] - 0s 11ms/step - loss: 25.2116 - mse: 940.3665\n",
            "Epoch 484/500\n",
            "2/2 [==============================] - 0s 9ms/step - loss: 23.8223 - mse: 799.6094\n",
            "Epoch 485/500\n",
            "2/2 [==============================] - 0s 7ms/step - loss: 5.7975 - mse: 54.1799\n",
            "Epoch 486/500\n",
            "2/2 [==============================] - 0s 11ms/step - loss: 19.7472 - mse: 551.1879\n",
            "Epoch 487/500\n",
            "2/2 [==============================] - 0s 9ms/step - loss: 13.9527 - mse: 279.1291\n",
            "Epoch 488/500\n",
            "2/2 [==============================] - 0s 8ms/step - loss: 30.4272 - mse: 1319.6077\n",
            "Epoch 489/500\n",
            "2/2 [==============================] - 0s 7ms/step - loss: 11.6633 - mse: 239.1379\n",
            "Epoch 490/500\n",
            "2/2 [==============================] - 0s 8ms/step - loss: 12.4246 - mse: 245.4891\n",
            "Epoch 491/500\n",
            "2/2 [==============================] - 0s 7ms/step - loss: 23.5798 - mse: 834.6149\n",
            "Epoch 492/500\n",
            "2/2 [==============================] - 0s 8ms/step - loss: 20.4922 - mse: 590.0089\n",
            "Epoch 493/500\n",
            "2/2 [==============================] - 0s 8ms/step - loss: 5.0373 - mse: 48.5476\n",
            "Epoch 494/500\n",
            "2/2 [==============================] - 0s 8ms/step - loss: 12.7661 - mse: 246.7139\n",
            "Epoch 495/500\n",
            "2/2 [==============================] - 0s 8ms/step - loss: 13.4141 - mse: 240.5959\n",
            "Epoch 496/500\n",
            "2/2 [==============================] - 0s 8ms/step - loss: 12.7003 - mse: 241.7009\n",
            "Epoch 497/500\n",
            "2/2 [==============================] - 0s 11ms/step - loss: 17.6748 - mse: 517.5435\n",
            "Epoch 498/500\n",
            "2/2 [==============================] - 0s 8ms/step - loss: 23.4624 - mse: 809.2269\n",
            "Epoch 499/500\n",
            "2/2 [==============================] - 0s 7ms/step - loss: 9.1937 - mse: 130.5235\n",
            "Epoch 500/500\n",
            "2/2 [==============================] - 0s 7ms/step - loss: 14.3924 - mse: 273.4575\n"
          ]
        },
        {
          "output_type": "execute_result",
          "data": {
            "text/plain": [
              "<keras.src.callbacks.History at 0x78feab0d6470>"
            ]
          },
          "metadata": {},
          "execution_count": 159
        }
      ]
    },
    {
      "cell_type": "code",
      "source": [
        "y_preds_3=model_3(X_test)\n",
        "plot_predictions(predictions=y_preds_3)"
      ],
      "metadata": {
        "colab": {
          "base_uri": "https://localhost:8080/",
          "height": 599
        },
        "id": "STQ0_NbjdcA_",
        "outputId": "eb45f034-8efe-4b01-dbb7-014747d1691e"
      },
      "execution_count": 160,
      "outputs": [
        {
          "output_type": "display_data",
          "data": {
            "text/plain": [
              "<Figure size 1000x700 with 1 Axes>"
            ],
            "image/png": "[encoded data removed]"
          },
          "metadata": {}
        }
      ]
    },
    {
      "cell_type": "code",
      "source": [
        "print_eval(y_true=y_test, y_pred=tf.squeeze(y_preds_3))"
      ],
      "metadata": {
        "colab": {
          "base_uri": "https://localhost:8080/"
        },
        "id": "qPAslvipdoXN",
        "outputId": "1cce76dc-da9b-49ed-aa2a-52c734dc44c0"
      },
      "execution_count": 161,
      "outputs": [
        {
          "output_type": "stream",
          "name": "stdout",
          "text": [
            "MAE: 67.96028137207031\n",
            "MSE: 4702.96240234375\n"
          ]
        }
      ]
    },
    {
      "cell_type": "markdown",
      "source": [
        "## Comparing the results of experminets"
      ],
      "metadata": {
        "id": "JstF018WdwzY"
      }
    },
    {
      "cell_type": "code",
      "source": [
        "import pandas as pd\n",
        "\n",
        "model_results =[[\"model_1\",17.884469985961914,321.2418212890625],\n",
        "                [\"model_2\",10.190092086791992,111.21623229980469],\n",
        "                [\"model_3\",67.96028137207031,4702.96240234375]]\n",
        "all_results = pd.DataFrame(model_results, columns=[\"model\",\"mae\",\"mse\"])"
      ],
      "metadata": {
        "id": "SJC8uU6leP96"
      },
      "execution_count": 162,
      "outputs": []
    },
    {
      "cell_type": "code",
      "source": [
        "all_results"
      ],
      "metadata": {
        "colab": {
          "base_uri": "https://localhost:8080/",
          "height": 143
        },
        "id": "SFNJvVs0e1cZ",
        "outputId": "45b71d94-2c39-4ec6-fba7-09190b073e0f"
      },
      "execution_count": 163,
      "outputs": [
        {
          "output_type": "execute_result",
          "data": {
            "text/plain": [
              "     model        mae          mse\n",
              "0  model_1  17.884470   321.241821\n",
              "1  model_2  10.190092   111.216232\n",
              "2  model_3  67.960281  4702.962402"
            ],
            "text/html": [
              "\n",
              "  <div id=\"df-89494c27-7fdd-4c69-af17-1c3fbee5afbd\" class=\"colab-df-container\">\n",
              "    <div>\n",
              "<style scoped>\n",
              "    .dataframe tbody tr th:only-of-type {\n",
              "        vertical-align: middle;\n",
              "    }\n",
              "\n",
              "    .dataframe tbody tr th {\n",
              "        vertical-align: top;\n",
              "    }\n",
              "\n",
              "    .dataframe thead th {\n",
              "        text-align: right;\n",
              "    }\n",
              "</style>\n",
              "<table border=\"1\" class=\"dataframe\">\n",
              "  <thead>\n",
              "    <tr style=\"text-align: right;\">\n",
              "      <th></th>\n",
              "      <th>model</th>\n",
              "      <th>mae</th>\n",
              "      <th>mse</th>\n",
              "    </tr>\n",
              "  </thead>\n",
              "  <tbody>\n",
              "    <tr>\n",
              "      <th>0</th>\n",
              "      <td>model_1</td>\n",
              "      <td>17.884470</td>\n",
              "      <td>321.241821</td>\n",
              "    </tr>\n",
              "    <tr>\n",
              "      <th>1</th>\n",
              "      <td>model_2</td>\n",
              "      <td>10.190092</td>\n",
              "      <td>111.216232</td>\n",
              "    </tr>\n",
              "    <tr>\n",
              "      <th>2</th>\n",
              "      <td>model_3</td>\n",
              "      <td>67.960281</td>\n",
              "      <td>4702.962402</td>\n",
              "    </tr>\n",
              "  </tbody>\n",
              "</table>\n",
              "</div>\n",
              "    <div class=\"colab-df-buttons\">\n",
              "\n",
              "  <div class=\"colab-df-container\">\n",
              "    <button class=\"colab-df-convert\" onclick=\"convertToInteractive('df-89494c27-7fdd-4c69-af17-1c3fbee5afbd')\"\n",
              "            title=\"Convert this dataframe to an interactive table.\"\n",
              "            style=\"display:none;\">\n",
              "\n",
              "  <svg xmlns=\"http://www.w3.org/2000/svg\" height=\"24px\" viewBox=\"0 -960 960 960\">\n",
              "    <path d=\"M120-120v-720h720v720H120Zm60-500h600v-160H180v160Zm220 220h160v-160H400v160Zm0 220h160v-160H400v160ZM180-400h160v-160H180v160Zm440 0h160v-160H620v160ZM180-180h160v-160H180v160Zm440 0h160v-160H620v160Z\"/>\n",
              "  </svg>\n",
              "    </button>\n",
              "\n",
              "  <style>\n",
              "    .colab-df-container {\n",
              "      display:flex;\n",
              "      gap: 12px;\n",
              "    }\n",
              "\n",
              "    .colab-df-convert {\n",
              "      background-color: #E8F0FE;\n",
              "      border: none;\n",
              "      border-radius: 50%;\n",
              "      cursor: pointer;\n",
              "      display: none;\n",
              "      fill: #1967D2;\n",
              "      height: 32px;\n",
              "      padding: 0 0 0 0;\n",
              "      width: 32px;\n",
              "    }\n",
              "\n",
              "    .colab-df-convert:hover {\n",
              "      background-color: #E2EBFA;\n",
              "      box-shadow: 0px 1px 2px rgba(60, 64, 67, 0.3), 0px 1px 3px 1px rgba(60, 64, 67, 0.15);\n",
              "      fill: #174EA6;\n",
              "    }\n",
              "\n",
              "    .colab-df-buttons div {\n",
              "      margin-bottom: 4px;\n",
              "    }\n",
              "\n",
              "    [theme=dark] .colab-df-convert {\n",
              "      background-color: #3B4455;\n",
              "      fill: #D2E3FC;\n",
              "    }\n",
              "\n",
              "    [theme=dark] .colab-df-convert:hover {\n",
              "      background-color: #434B5C;\n",
              "      box-shadow: 0px 1px 3px 1px rgba(0, 0, 0, 0.15);\n",
              "      filter: drop-shadow(0px 1px 2px rgba(0, 0, 0, 0.3));\n",
              "      fill: #FFFFFF;\n",
              "    }\n",
              "  </style>\n",
              "\n",
              "    <script>\n",
              "      const buttonEl =\n",
              "        document.querySelector('#df-89494c27-7fdd-4c69-af17-1c3fbee5afbd button.colab-df-convert');\n",
              "      buttonEl.style.display =\n",
              "        google.colab.kernel.accessAllowed ? 'block' : 'none';\n",
              "\n",
              "      async function convertToInteractive(key) {\n",
              "        const element = document.querySelector('#df-89494c27-7fdd-4c69-af17-1c3fbee5afbd');\n",
              "        const dataTable =\n",
              "          await google.colab.kernel.invokeFunction('convertToInteractive',\n",
              "                                                    [key], {});\n",
              "        if (!dataTable) return;\n",
              "\n",
              "        const docLinkHtml = 'Like what you see? Visit the ' +\n",
              "          '<a target=\"_blank\" href=https://colab.research.google.com/notebooks/data_table.ipynb>data table notebook</a>'\n",
              "          + ' to learn more about interactive tables.';\n",
              "        element.innerHTML = '';\n",
              "        dataTable['output_type'] = 'display_data';\n",
              "        await google.colab.output.renderOutput(dataTable, element);\n",
              "        const docLink = document.createElement('div');\n",
              "        docLink.innerHTML = docLinkHtml;\n",
              "        element.appendChild(docLink);\n",
              "      }\n",
              "    </script>\n",
              "  </div>\n",
              "\n",
              "\n",
              "<div id=\"df-922b5bed-200e-48b9-803f-6f4a19f50dce\">\n",
              "  <button class=\"colab-df-quickchart\" onclick=\"quickchart('df-922b5bed-200e-48b9-803f-6f4a19f50dce')\"\n",
              "            title=\"Suggest charts\"\n",
              "            style=\"display:none;\">\n",
              "\n",
              "<svg xmlns=\"http://www.w3.org/2000/svg\" height=\"24px\"viewBox=\"0 0 24 24\"\n",
              "     width=\"24px\">\n",
              "    <g>\n",
              "        <path d=\"M19 3H5c-1.1 0-2 .9-2 2v14c0 1.1.9 2 2 2h14c1.1 0 2-.9 2-2V5c0-1.1-.9-2-2-2zM9 17H7v-7h2v7zm4 0h-2V7h2v10zm4 0h-2v-4h2v4z\"/>\n",
              "    </g>\n",
              "</svg>\n",
              "  </button>\n",
              "\n",
              "<style>\n",
              "  .colab-df-quickchart {\n",
              "      --bg-color: #E8F0FE;\n",
              "      --fill-color: #1967D2;\n",
              "      --hover-bg-color: #E2EBFA;\n",
              "      --hover-fill-color: #174EA6;\n",
              "      --disabled-fill-color: #AAA;\n",
              "      --disabled-bg-color: #DDD;\n",
              "  }\n",
              "\n",
              "  [theme=dark] .colab-df-quickchart {\n",
              "      --bg-color: #3B4455;\n",
              "      --fill-color: #D2E3FC;\n",
              "      --hover-bg-color: #434B5C;\n",
              "      --hover-fill-color: #FFFFFF;\n",
              "      --disabled-bg-color: #3B4455;\n",
              "      --disabled-fill-color: #666;\n",
              "  }\n",
              "\n",
              "  .colab-df-quickchart {\n",
              "    background-color: var(--bg-color);\n",
              "    border: none;\n",
              "    border-radius: 50%;\n",
              "    cursor: pointer;\n",
              "    display: none;\n",
              "    fill: var(--fill-color);\n",
              "    height: 32px;\n",
              "    padding: 0;\n",
              "    width: 32px;\n",
              "  }\n",
              "\n",
              "  .colab-df-quickchart:hover {\n",
              "    background-color: var(--hover-bg-color);\n",
              "    box-shadow: 0 1px 2px rgba(60, 64, 67, 0.3), 0 1px 3px 1px rgba(60, 64, 67, 0.15);\n",
              "    fill: var(--button-hover-fill-color);\n",
              "  }\n",
              "\n",
              "  .colab-df-quickchart-complete:disabled,\n",
              "  .colab-df-quickchart-complete:disabled:hover {\n",
              "    background-color: var(--disabled-bg-color);\n",
              "    fill: var(--disabled-fill-color);\n",
              "    box-shadow: none;\n",
              "  }\n",
              "\n",
              "  .colab-df-spinner {\n",
              "    border: 2px solid var(--fill-color);\n",
              "    border-color: transparent;\n",
              "    border-bottom-color: var(--fill-color);\n",
              "    animation:\n",
              "      spin 1s steps(1) infinite;\n",
              "  }\n",
              "\n",
              "  @keyframes spin {\n",
              "    0% {\n",
              "      border-color: transparent;\n",
              "      border-bottom-color: var(--fill-color);\n",
              "      border-left-color: var(--fill-color);\n",
              "    }\n",
              "    20% {\n",
              "      border-color: transparent;\n",
              "      border-left-color: var(--fill-color);\n",
              "      border-top-color: var(--fill-color);\n",
              "    }\n",
              "    30% {\n",
              "      border-color: transparent;\n",
              "      border-left-color: var(--fill-color);\n",
              "      border-top-color: var(--fill-color);\n",
              "      border-right-color: var(--fill-color);\n",
              "    }\n",
              "    40% {\n",
              "      border-color: transparent;\n",
              "      border-right-color: var(--fill-color);\n",
              "      border-top-color: var(--fill-color);\n",
              "    }\n",
              "    60% {\n",
              "      border-color: transparent;\n",
              "      border-right-color: var(--fill-color);\n",
              "    }\n",
              "    80% {\n",
              "      border-color: transparent;\n",
              "      border-right-color: var(--fill-color);\n",
              "      border-bottom-color: var(--fill-color);\n",
              "    }\n",
              "    90% {\n",
              "      border-color: transparent;\n",
              "      border-bottom-color: var(--fill-color);\n",
              "    }\n",
              "  }\n",
              "</style>\n",
              "\n",
              "  <script>\n",
              "    async function quickchart(key) {\n",
              "      const quickchartButtonEl =\n",
              "        document.querySelector('#' + key + ' button');\n",
              "      quickchartButtonEl.disabled = true;  // To prevent multiple clicks.\n",
              "      quickchartButtonEl.classList.add('colab-df-spinner');\n",
              "      try {\n",
              "        const charts = await google.colab.kernel.invokeFunction(\n",
              "            'suggestCharts', [key], {});\n",
              "      } catch (error) {\n",
              "        console.error('Error during call to suggestCharts:', error);\n",
              "      }\n",
              "      quickchartButtonEl.classList.remove('colab-df-spinner');\n",
              "      quickchartButtonEl.classList.add('colab-df-quickchart-complete');\n",
              "    }\n",
              "    (() => {\n",
              "      let quickchartButtonEl =\n",
              "        document.querySelector('#df-922b5bed-200e-48b9-803f-6f4a19f50dce button');\n",
              "      quickchartButtonEl.style.display =\n",
              "        google.colab.kernel.accessAllowed ? 'block' : 'none';\n",
              "    })();\n",
              "  </script>\n",
              "</div>\n",
              "\n",
              "  <div id=\"id_a1745cdf-df2a-4407-bbc9-04bfccaccf01\">\n",
              "    <style>\n",
              "      .colab-df-generate {\n",
              "        background-color: #E8F0FE;\n",
              "        border: none;\n",
              "        border-radius: 50%;\n",
              "        cursor: pointer;\n",
              "        display: none;\n",
              "        fill: #1967D2;\n",
              "        height: 32px;\n",
              "        padding: 0 0 0 0;\n",
              "        width: 32px;\n",
              "      }\n",
              "\n",
              "      .colab-df-generate:hover {\n",
              "        background-color: #E2EBFA;\n",
              "        box-shadow: 0px 1px 2px rgba(60, 64, 67, 0.3), 0px 1px 3px 1px rgba(60, 64, 67, 0.15);\n",
              "        fill: #174EA6;\n",
              "      }\n",
              "\n",
              "      [theme=dark] .colab-df-generate {\n",
              "        background-color: #3B4455;\n",
              "        fill: #D2E3FC;\n",
              "      }\n",
              "\n",
              "      [theme=dark] .colab-df-generate:hover {\n",
              "        background-color: #434B5C;\n",
              "        box-shadow: 0px 1px 3px 1px rgba(0, 0, 0, 0.15);\n",
              "        filter: drop-shadow(0px 1px 2px rgba(0, 0, 0, 0.3));\n",
              "        fill: #FFFFFF;\n",
              "      }\n",
              "    </style>\n",
              "    <button class=\"colab-df-generate\" onclick=\"generateWithVariable('all_results')\"\n",
              "            title=\"Generate code using this dataframe.\"\n",
              "            style=\"display:none;\">\n",
              "\n",
              "  <svg xmlns=\"http://www.w3.org/2000/svg\" height=\"24px\"viewBox=\"0 0 24 24\"\n",
              "       width=\"24px\">\n",
              "    <path d=\"M7,19H8.4L18.45,9,17,7.55,7,17.6ZM5,21V16.75L18.45,3.32a2,2,0,0,1,2.83,0l1.4,1.43a1.91,1.91,0,0,1,.58,1.4,1.91,1.91,0,0,1-.58,1.4L9.25,21ZM18.45,9,17,7.55Zm-12,3A5.31,5.31,0,0,0,4.9,8.1,5.31,5.31,0,0,0,1,6.5,5.31,5.31,0,0,0,4.9,4.9,5.31,5.31,0,0,0,6.5,1,5.31,5.31,0,0,0,8.1,4.9,5.31,5.31,0,0,0,12,6.5,5.46,5.46,0,0,0,6.5,12Z\"/>\n",
              "  </svg>\n",
              "    </button>\n",
              "    <script>\n",
              "      (() => {\n",
              "      const buttonEl =\n",
              "        document.querySelector('#id_a1745cdf-df2a-4407-bbc9-04bfccaccf01 button.colab-df-generate');\n",
              "      buttonEl.style.display =\n",
              "        google.colab.kernel.accessAllowed ? 'block' : 'none';\n",
              "\n",
              "      buttonEl.onclick = () => {\n",
              "        google.colab.notebook.generateWithVariable('all_results');\n",
              "      }\n",
              "      })();\n",
              "    </script>\n",
              "  </div>\n",
              "\n",
              "    </div>\n",
              "  </div>\n"
            ],
            "application/vnd.google.colaboratory.intrinsic+json": {
              "type": "dataframe",
              "variable_name": "all_results",
              "summary": "{\n  \"name\": \"all_results\",\n  \"rows\": 3,\n  \"fields\": [\n    {\n      \"column\": \"model\",\n      \"properties\": {\n        \"dtype\": \"string\",\n        \"num_unique_values\": 3,\n        \"samples\": [\n          \"model_1\",\n          \"model_2\",\n          \"model_3\"\n        ],\n        \"semantic_type\": \"\",\n        \"description\": \"\"\n      }\n    },\n    {\n      \"column\": \"mae\",\n      \"properties\": {\n        \"dtype\": \"number\",\n        \"std\": 31.36926602926614,\n        \"min\": 10.190092086791992,\n        \"max\": 67.96028137207031,\n        \"num_unique_values\": 3,\n        \"samples\": [\n          17.884469985961914,\n          10.190092086791992,\n          67.96028137207031\n        ],\n        \"semantic_type\": \"\",\n        \"description\": \"\"\n      }\n    },\n    {\n      \"column\": \"mse\",\n      \"properties\": {\n        \"dtype\": \"number\",\n        \"std\": 2592.5444029814207,\n        \"min\": 111.21623229980469,\n        \"max\": 4702.96240234375,\n        \"num_unique_values\": 3,\n        \"samples\": [\n          321.2418212890625,\n          111.21623229980469,\n          4702.96240234375\n        ],\n        \"semantic_type\": \"\",\n        \"description\": \"\"\n      }\n    }\n  ]\n}"
            }
          },
          "metadata": {},
          "execution_count": 163
        }
      ]
    },
    {
      "cell_type": "code",
      "source": [
        "model_2.summary()"
      ],
      "metadata": {
        "colab": {
          "base_uri": "https://localhost:8080/"
        },
        "id": "ochMATKge2jK",
        "outputId": "d13aca7b-b2a4-4b86-d38b-3c78e74d54a9"
      },
      "execution_count": 164,
      "outputs": [
        {
          "output_type": "stream",
          "name": "stdout",
          "text": [
            "Model: \"sequential_25\"\n",
            "_________________________________________________________________\n",
            " Layer (type)                Output Shape              Param #   \n",
            "=================================================================\n",
            " dense_28 (Dense)            (None, 10)                20        \n",
            "                                                                 \n",
            " dense_29 (Dense)            (None, 1)                 11        \n",
            "                                                                 \n",
            "=================================================================\n",
            "Total params: 31 (124.00 Byte)\n",
            "Trainable params: 31 (124.00 Byte)\n",
            "Non-trainable params: 0 (0.00 Byte)\n",
            "_________________________________________________________________\n"
          ]
        }
      ]
    },
    {
      "cell_type": "markdown",
      "source": [
        "### Tracking your Experiments\n",
        "\n",
        "1. TensorBoard\n",
        "2. Weights & Biases\n",
        "3. MLFlow"
      ],
      "metadata": {
        "id": "4kIj3FUge9hs"
      }
    },
    {
      "cell_type": "markdown",
      "source": [
        "## Saving our models\n",
        "\n",
        "2 main formats: SavedModel, HDF5"
      ],
      "metadata": {
        "id": "eXtpjtH5frGa"
      }
    },
    {
      "cell_type": "code",
      "source": [
        "model_2.save(\"best_model_savedModel_format\")"
      ],
      "metadata": {
        "id": "lqLa7TTCftpm"
      },
      "execution_count": 165,
      "outputs": []
    },
    {
      "cell_type": "code",
      "source": [
        "model_2.save(\"best_model_HDF5_format.h5\")"
      ],
      "metadata": {
        "colab": {
          "base_uri": "https://localhost:8080/"
        },
        "id": "hKhnUe0lgSKb",
        "outputId": "bc535208-bd74-4a32-c84b-52e3b2547cd2"
      },
      "execution_count": 166,
      "outputs": [
        {
          "output_type": "stream",
          "name": "stderr",
          "text": [
            "/usr/local/lib/python3.10/dist-packages/keras/src/engine/training.py:3103: UserWarning: You are saving your model as an HDF5 file via `model.save()`. This file format is considered legacy. We recommend using instead the native Keras format, e.g. `model.save('my_model.keras')`.\n",
            "  saving_api.save_model(\n"
          ]
        }
      ]
    },
    {
      "cell_type": "markdown",
      "source": [
        "## Loading our model"
      ],
      "metadata": {
        "id": "q5fvwvn_gpIU"
      }
    },
    {
      "cell_type": "code",
      "source": [
        "loaded_savedModel_format = tf.keras.models.load_model(\"/content/best_model_savedModel_format\")\n",
        "loaded_savedModel_format.trainable_variables"
      ],
      "metadata": {
        "colab": {
          "base_uri": "https://localhost:8080/"
        },
        "id": "iuZ43FCfgwn0",
        "outputId": "47e7d47a-622c-4ceb-a5d6-7a023ebc8854"
      },
      "execution_count": 171,
      "outputs": [
        {
          "output_type": "execute_result",
          "data": {
            "text/plain": [
              "[<tf.Variable 'dense_28/kernel:0' shape=(1, 10) dtype=float32, numpy=\n",
              " array([[ 0.59373397, -0.4918663 , -0.15884799, -0.42439884,  0.23313558,\n",
              "          0.12881786,  0.24447316, -0.24951419, -0.43311018, -0.20978838]],\n",
              "       dtype=float32)>,\n",
              " <tf.Variable 'dense_28/bias:0' shape=(10,) dtype=float32, numpy=\n",
              " array([ 0.46069276, -0.3776471 , -0.12689123, -0.3298669 ,  0.18345213,\n",
              "         0.10514853,  0.19225825, -0.19234689, -0.33980086, -0.16350494],\n",
              "       dtype=float32)>,\n",
              " <tf.Variable 'dense_29/kernel:0' shape=(10, 1) dtype=float32, numpy=\n",
              " array([[ 0.5995668 ],\n",
              "        [-0.4966454 ],\n",
              "        [-0.16045669],\n",
              "        [-0.42857558],\n",
              "        [ 0.23545972],\n",
              "        [ 0.13015217],\n",
              "        [ 0.24690883],\n",
              "        [-0.25194877],\n",
              "        [-0.43741453],\n",
              "        [-0.21185893]], dtype=float32)>,\n",
              " <tf.Variable 'dense_29/bias:0' shape=(1,) dtype=float32, numpy=array([0.7874996], dtype=float32)>]"
            ]
          },
          "metadata": {},
          "execution_count": 171
        }
      ]
    },
    {
      "cell_type": "code",
      "source": [
        " model_2.trainable_variables"
      ],
      "metadata": {
        "colab": {
          "base_uri": "https://localhost:8080/"
        },
        "id": "YG2rjQmgh3VV",
        "outputId": "65d90356-db4a-463b-d30d-f8e95dfcca6a"
      },
      "execution_count": 172,
      "outputs": [
        {
          "output_type": "execute_result",
          "data": {
            "text/plain": [
              "[<tf.Variable 'dense_28/kernel:0' shape=(1, 10) dtype=float32, numpy=\n",
              " array([[ 0.59373397, -0.4918663 , -0.15884799, -0.42439884,  0.23313558,\n",
              "          0.12881786,  0.24447316, -0.24951419, -0.43311018, -0.20978838]],\n",
              "       dtype=float32)>,\n",
              " <tf.Variable 'dense_28/bias:0' shape=(10,) dtype=float32, numpy=\n",
              " array([ 0.46069276, -0.3776471 , -0.12689123, -0.3298669 ,  0.18345213,\n",
              "         0.10514853,  0.19225825, -0.19234689, -0.33980086, -0.16350494],\n",
              "       dtype=float32)>,\n",
              " <tf.Variable 'dense_29/kernel:0' shape=(10, 1) dtype=float32, numpy=\n",
              " array([[ 0.5995668 ],\n",
              "        [-0.4966454 ],\n",
              "        [-0.16045669],\n",
              "        [-0.42857558],\n",
              "        [ 0.23545972],\n",
              "        [ 0.13015217],\n",
              "        [ 0.24690883],\n",
              "        [-0.25194877],\n",
              "        [-0.43741453],\n",
              "        [-0.21185893]], dtype=float32)>,\n",
              " <tf.Variable 'dense_29/bias:0' shape=(1,) dtype=float32, numpy=array([0.7874996], dtype=float32)>]"
            ]
          },
          "metadata": {},
          "execution_count": 172
        }
      ]
    },
    {
      "cell_type": "code",
      "source": [
        "loaded_y_preds_1= loaded_savedModel_format.predict(X_test)\n",
        "loaded_y_preds_1 == y_preds_2"
      ],
      "metadata": {
        "colab": {
          "base_uri": "https://localhost:8080/"
        },
        "id": "dA3bKa9diKk6",
        "outputId": "aec8d755-47d8-4e41-e73e-ba08bbc01bee"
      },
      "execution_count": 173,
      "outputs": [
        {
          "output_type": "stream",
          "name": "stdout",
          "text": [
            "1/1 [==============================] - 0s 79ms/step\n"
          ]
        },
        {
          "output_type": "execute_result",
          "data": {
            "text/plain": [
              "array([[ True],\n",
              "       [ True],\n",
              "       [ True],\n",
              "       [ True],\n",
              "       [ True],\n",
              "       [ True],\n",
              "       [ True],\n",
              "       [ True],\n",
              "       [ True],\n",
              "       [ True]])"
            ]
          },
          "metadata": {},
          "execution_count": 173
        }
      ]
    },
    {
      "cell_type": "code",
      "source": [
        "loaded_h5_model = tf.keras.models.load_model(\"/content/best_model_HDF5_format.h5\")\n",
        "loaded_h5_model.summary()"
      ],
      "metadata": {
        "colab": {
          "base_uri": "https://localhost:8080/"
        },
        "id": "5ZJyT1xIinn6",
        "outputId": "20387133-971a-462d-eb05-b962e9c027f2"
      },
      "execution_count": 174,
      "outputs": [
        {
          "output_type": "stream",
          "name": "stdout",
          "text": [
            "Model: \"sequential_25\"\n",
            "_________________________________________________________________\n",
            " Layer (type)                Output Shape              Param #   \n",
            "=================================================================\n",
            " dense_28 (Dense)            (None, 10)                20        \n",
            "                                                                 \n",
            " dense_29 (Dense)            (None, 1)                 11        \n",
            "                                                                 \n",
            "=================================================================\n",
            "Total params: 31 (124.00 Byte)\n",
            "Trainable params: 31 (124.00 Byte)\n",
            "Non-trainable params: 0 (0.00 Byte)\n",
            "_________________________________________________________________\n"
          ]
        }
      ]
    },
    {
      "cell_type": "code",
      "source": [
        "loaded_h5_preds = loaded_h5_model.predict(X_test)\n",
        "loaded_h5_preds == y_preds_2"
      ],
      "metadata": {
        "colab": {
          "base_uri": "https://localhost:8080/"
        },
        "id": "e6ZYcw75iyWF",
        "outputId": "53f77309-185f-487d-8763-310f29b93135"
      },
      "execution_count": 175,
      "outputs": [
        {
          "output_type": "stream",
          "name": "stdout",
          "text": [
            "1/1 [==============================] - 0s 281ms/step\n"
          ]
        },
        {
          "output_type": "execute_result",
          "data": {
            "text/plain": [
              "array([[ True],\n",
              "       [ True],\n",
              "       [ True],\n",
              "       [ True],\n",
              "       [ True],\n",
              "       [ True],\n",
              "       [ True],\n",
              "       [ True],\n",
              "       [ True],\n",
              "       [ True]])"
            ]
          },
          "metadata": {},
          "execution_count": 175
        }
      ]
    },
    {
      "cell_type": "code",
      "source": [
        "##download files from Google Colab\n",
        "from google.colab import files\n",
        "files.download(\"/content/best_model_savedModel_format\")"
      ],
      "metadata": {
        "id": "ZFX5FzUEi6cB"
      },
      "execution_count": null,
      "outputs": []
    },
    {
      "cell_type": "code",
      "source": [],
      "metadata": {
        "id": "fW6WfctJkE4o"
      },
      "execution_count": null,
      "outputs": []
    }
  ]
}